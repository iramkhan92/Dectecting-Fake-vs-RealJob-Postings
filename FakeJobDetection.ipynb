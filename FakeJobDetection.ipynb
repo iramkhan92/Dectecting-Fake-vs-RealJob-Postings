{
  "cells": [
    {
      "cell_type": "code",
      "execution_count": null,
      "metadata": {
        "colab": {
          "base_uri": "https://localhost:8080/"
        },
        "id": "t7GH8dVzh-d3",
        "outputId": "3b5bb749-a821-4004-f690-8c46b2fd5f7e"
      },
      "outputs": [
        {
          "output_type": "stream",
          "name": "stdout",
          "text": [
            "Mounted at /content/drive\n"
          ]
        }
      ],
      "source": [
        "from google.colab import drive\n",
        "drive.mount('/content/drive')"
      ],
      "id": "t7GH8dVzh-d3"
    },
    {
      "cell_type": "code",
      "execution_count": null,
      "metadata": {
        "colab": {
          "base_uri": "https://localhost:8080/"
        },
        "id": "90B4V1v3iRlc",
        "outputId": "52c337ec-78a8-4b74-fd7f-a58aeab79d2a"
      },
      "outputs": [
        {
          "output_type": "stream",
          "name": "stdout",
          "text": [
            "/content/drive/Shareddrives/Data 245 Project/Project Code\n"
          ]
        }
      ],
      "source": [
        "%cd /content/drive/Shareddrives/Data 245 Project/Project Code"
      ],
      "id": "90B4V1v3iRlc"
    },
    {
      "cell_type": "code",
      "execution_count": null,
      "metadata": {
        "colab": {
          "base_uri": "https://localhost:8080/"
        },
        "id": "hJUqlwphigB-",
        "outputId": "f470ff00-5d08-4c24-e0c9-9b2f2eb5dca2"
      },
      "outputs": [
        {
          "output_type": "stream",
          "name": "stdout",
          "text": [
            " 245v2+EDA.ipynb\t    multinomialNB.pkl\n",
            " fake_job_postings.csv\t    Project_245_fakejob_raw.ipynb\n",
            " fake_job_postings.gsheet   randomForest.pkl\n",
            " glove.6B.200d.rar\t   'Results of Models.gsheet'\n",
            " glove.6B.200d.txt\t    sgd.pkl\n",
            " glove.6B.300d.rar\t    SVM.pkl\n",
            " glove.6B.300d.txt\t    v2.Project_245_fakejob_raw.ipynb\n",
            " knn.pkl\t\t    v3.Project_245_fakejob.ipynb\n"
          ]
        }
      ],
      "source": [
        "!ls"
      ],
      "id": "hJUqlwphigB-"
    },
    {
      "cell_type": "markdown",
      "metadata": {
        "id": "UwXxnzkg-OMX"
      },
      "source": [
        "# Import Libraries"
      ],
      "id": "UwXxnzkg-OMX"
    },
    {
      "cell_type": "code",
      "execution_count": null,
      "metadata": {
        "colab": {
          "base_uri": "https://localhost:8080/"
        },
        "id": "xqFVfiJO5zR2",
        "outputId": "0442cb29-dac1-4c33-9c44-6f369d4369fa"
      },
      "outputs": [
        {
          "output_type": "stream",
          "name": "stdout",
          "text": [
            "Collecting scikit-plot\n",
            "  Downloading scikit_plot-0.3.7-py3-none-any.whl (33 kB)\n",
            "Requirement already satisfied: scipy>=0.9 in /usr/local/lib/python3.7/dist-packages (from scikit-plot) (1.4.1)\n",
            "Requirement already satisfied: joblib>=0.10 in /usr/local/lib/python3.7/dist-packages (from scikit-plot) (1.1.0)\n",
            "Requirement already satisfied: matplotlib>=1.4.0 in /usr/local/lib/python3.7/dist-packages (from scikit-plot) (3.2.2)\n",
            "Requirement already satisfied: scikit-learn>=0.18 in /usr/local/lib/python3.7/dist-packages (from scikit-plot) (1.0.2)\n",
            "Requirement already satisfied: python-dateutil>=2.1 in /usr/local/lib/python3.7/dist-packages (from matplotlib>=1.4.0->scikit-plot) (2.8.2)\n",
            "Requirement already satisfied: numpy>=1.11 in /usr/local/lib/python3.7/dist-packages (from matplotlib>=1.4.0->scikit-plot) (1.21.6)\n",
            "Requirement already satisfied: cycler>=0.10 in /usr/local/lib/python3.7/dist-packages (from matplotlib>=1.4.0->scikit-plot) (0.11.0)\n",
            "Requirement already satisfied: pyparsing!=2.0.4,!=2.1.2,!=2.1.6,>=2.0.1 in /usr/local/lib/python3.7/dist-packages (from matplotlib>=1.4.0->scikit-plot) (3.0.8)\n",
            "Requirement already satisfied: kiwisolver>=1.0.1 in /usr/local/lib/python3.7/dist-packages (from matplotlib>=1.4.0->scikit-plot) (1.4.2)\n",
            "Requirement already satisfied: typing-extensions in /usr/local/lib/python3.7/dist-packages (from kiwisolver>=1.0.1->matplotlib>=1.4.0->scikit-plot) (4.2.0)\n",
            "Requirement already satisfied: six>=1.5 in /usr/local/lib/python3.7/dist-packages (from python-dateutil>=2.1->matplotlib>=1.4.0->scikit-plot) (1.15.0)\n",
            "Requirement already satisfied: threadpoolctl>=2.0.0 in /usr/local/lib/python3.7/dist-packages (from scikit-learn>=0.18->scikit-plot) (3.1.0)\n",
            "Installing collected packages: scikit-plot\n",
            "Successfully installed scikit-plot-0.3.7\n"
          ]
        }
      ],
      "source": [
        "!pip install scikit-plot"
      ],
      "id": "xqFVfiJO5zR2"
    },
    {
      "cell_type": "code",
      "execution_count": null,
      "metadata": {
        "id": "edf0c6d8"
      },
      "outputs": [],
      "source": [
        "import pandas as pd\n",
        "import numpy as np\n",
        "from math import sqrt\n",
        "import pickle\n",
        "import time\n",
        "\n",
        "import nltk\n",
        "import re\n",
        "import string\n",
        "from nltk.corpus import stopwords\n",
        "from nltk import sent_tokenize, word_tokenize\n",
        "\n",
        "import scikitplot as skplt\n",
        "import seaborn as sns\n",
        "import matplotlib.pyplot as plt\n",
        "from matplotlib.pyplot import figure\n",
        "\n",
        "from imblearn.combine import SMOTETomek\n",
        "from imblearn.over_sampling import SMOTE\n",
        "from sklearn.preprocessing import LabelEncoder, StandardScaler\n",
        "from imblearn.pipeline import Pipeline, make_pipeline\n",
        "from sklearn.feature_extraction.text import TfidfTransformer, CountVectorizer, TfidfVectorizer\n",
        "\n",
        "import sklearn.metrics as metrics\n",
        "from sklearn.calibration import CalibratedClassifierCV\n",
        "from sklearn.metrics import mean_squared_error, mean_absolute_error\n",
        "from sklearn.metrics import ConfusionMatrixDisplay\n",
        "from sklearn.metrics import f1_score, roc_auc_score\n",
        "from sklearn.metrics import precision_recall_curve\n",
        "from sklearn.metrics import roc_curve\n",
        "from sklearn.metrics import classification_report,confusion_matrix,accuracy_score\n",
        "\n",
        "from sklearn.linear_model import LogisticRegression\n",
        "from sklearn.naive_bayes import GaussianNB\n",
        "from sklearn.naive_bayes import MultinomialNB\n",
        "from sklearn.neighbors import KNeighborsClassifier\n",
        "from sklearn import svm\n",
        "from sklearn.linear_model import SGDClassifier\n",
        "from sklearn.linear_model import LogisticRegression\n",
        "from sklearn.ensemble import RandomForestClassifier\n",
        "from sklearn.model_selection import RandomizedSearchCV\n",
        "\n",
        "from sklearn.model_selection import train_test_split\n",
        "from sklearn.ensemble import VotingClassifier\n"
      ],
      "id": "edf0c6d8"
    },
    {
      "cell_type": "code",
      "execution_count": null,
      "metadata": {
        "id": "c861379f"
      },
      "outputs": [],
      "source": [
        "data = pd.read_csv('fake_job_postings.csv')"
      ],
      "id": "c861379f"
    },
    {
      "cell_type": "code",
      "execution_count": null,
      "metadata": {
        "colab": {
          "base_uri": "https://localhost:8080/",
          "height": 600
        },
        "id": "2b680e88",
        "outputId": "c8126522-74d1-4618-ee5d-93b83dc06973"
      },
      "outputs": [
        {
          "output_type": "execute_result",
          "data": {
            "text/plain": [
              "   job_id                                      title            location  \\\n",
              "0       1                           Marketing Intern    US, NY, New York   \n",
              "1       2  Customer Service - Cloud Video Production      NZ, , Auckland   \n",
              "2       3    Commissioning Machinery Assistant (CMA)       US, IA, Wever   \n",
              "3       4          Account Executive - Washington DC  US, DC, Washington   \n",
              "4       5                        Bill Review Manager  US, FL, Fort Worth   \n",
              "\n",
              "  department salary_range                                    company_profile  \\\n",
              "0  Marketing          NaN  We're Food52, and we've created a groundbreaki...   \n",
              "1    Success          NaN  90 Seconds, the worlds Cloud Video Production ...   \n",
              "2        NaN          NaN  Valor Services provides Workforce Solutions th...   \n",
              "3      Sales          NaN  Our passion for improving quality of life thro...   \n",
              "4        NaN          NaN  SpotSource Solutions LLC is a Global Human Cap...   \n",
              "\n",
              "                                         description  \\\n",
              "0  Food52, a fast-growing, James Beard Award-winn...   \n",
              "1  Organised - Focused - Vibrant - Awesome!Do you...   \n",
              "2  Our client, located in Houston, is actively se...   \n",
              "3  THE COMPANY: ESRI – Environmental Systems Rese...   \n",
              "4  JOB TITLE: Itemization Review ManagerLOCATION:...   \n",
              "\n",
              "                                        requirements  \\\n",
              "0  Experience with content management systems a m...   \n",
              "1  What we expect from you:Your key responsibilit...   \n",
              "2  Implement pre-commissioning and commissioning ...   \n",
              "3  EDUCATION: Bachelor’s or Master’s in GIS, busi...   \n",
              "4  QUALIFICATIONS:RN license in the State of Texa...   \n",
              "\n",
              "                                            benefits  telecommuting  \\\n",
              "0                                                NaN              0   \n",
              "1  What you will get from usThrough being part of...              0   \n",
              "2                                                NaN              0   \n",
              "3  Our culture is anything but corporate—we have ...              0   \n",
              "4                              Full Benefits Offered              0   \n",
              "\n",
              "   has_company_logo  has_questions employment_type required_experience  \\\n",
              "0                 1              0           Other          Internship   \n",
              "1                 1              0       Full-time      Not Applicable   \n",
              "2                 1              0             NaN                 NaN   \n",
              "3                 1              0       Full-time    Mid-Senior level   \n",
              "4                 1              1       Full-time    Mid-Senior level   \n",
              "\n",
              "  required_education                   industry              function  \\\n",
              "0                NaN                        NaN             Marketing   \n",
              "1                NaN  Marketing and Advertising      Customer Service   \n",
              "2                NaN                        NaN                   NaN   \n",
              "3  Bachelor's Degree          Computer Software                 Sales   \n",
              "4  Bachelor's Degree     Hospital & Health Care  Health Care Provider   \n",
              "\n",
              "   fraudulent  \n",
              "0           0  \n",
              "1           0  \n",
              "2           0  \n",
              "3           0  \n",
              "4           0  "
            ],
            "text/html": [
              "\n",
              "  <div id=\"df-ce58fcca-7955-424e-bf83-064b9ecf0ae7\">\n",
              "    <div class=\"colab-df-container\">\n",
              "      <div>\n",
              "<style scoped>\n",
              "    .dataframe tbody tr th:only-of-type {\n",
              "        vertical-align: middle;\n",
              "    }\n",
              "\n",
              "    .dataframe tbody tr th {\n",
              "        vertical-align: top;\n",
              "    }\n",
              "\n",
              "    .dataframe thead th {\n",
              "        text-align: right;\n",
              "    }\n",
              "</style>\n",
              "<table border=\"1\" class=\"dataframe\">\n",
              "  <thead>\n",
              "    <tr style=\"text-align: right;\">\n",
              "      <th></th>\n",
              "      <th>job_id</th>\n",
              "      <th>title</th>\n",
              "      <th>location</th>\n",
              "      <th>department</th>\n",
              "      <th>salary_range</th>\n",
              "      <th>company_profile</th>\n",
              "      <th>description</th>\n",
              "      <th>requirements</th>\n",
              "      <th>benefits</th>\n",
              "      <th>telecommuting</th>\n",
              "      <th>has_company_logo</th>\n",
              "      <th>has_questions</th>\n",
              "      <th>employment_type</th>\n",
              "      <th>required_experience</th>\n",
              "      <th>required_education</th>\n",
              "      <th>industry</th>\n",
              "      <th>function</th>\n",
              "      <th>fraudulent</th>\n",
              "    </tr>\n",
              "  </thead>\n",
              "  <tbody>\n",
              "    <tr>\n",
              "      <th>0</th>\n",
              "      <td>1</td>\n",
              "      <td>Marketing Intern</td>\n",
              "      <td>US, NY, New York</td>\n",
              "      <td>Marketing</td>\n",
              "      <td>NaN</td>\n",
              "      <td>We're Food52, and we've created a groundbreaki...</td>\n",
              "      <td>Food52, a fast-growing, James Beard Award-winn...</td>\n",
              "      <td>Experience with content management systems a m...</td>\n",
              "      <td>NaN</td>\n",
              "      <td>0</td>\n",
              "      <td>1</td>\n",
              "      <td>0</td>\n",
              "      <td>Other</td>\n",
              "      <td>Internship</td>\n",
              "      <td>NaN</td>\n",
              "      <td>NaN</td>\n",
              "      <td>Marketing</td>\n",
              "      <td>0</td>\n",
              "    </tr>\n",
              "    <tr>\n",
              "      <th>1</th>\n",
              "      <td>2</td>\n",
              "      <td>Customer Service - Cloud Video Production</td>\n",
              "      <td>NZ, , Auckland</td>\n",
              "      <td>Success</td>\n",
              "      <td>NaN</td>\n",
              "      <td>90 Seconds, the worlds Cloud Video Production ...</td>\n",
              "      <td>Organised - Focused - Vibrant - Awesome!Do you...</td>\n",
              "      <td>What we expect from you:Your key responsibilit...</td>\n",
              "      <td>What you will get from usThrough being part of...</td>\n",
              "      <td>0</td>\n",
              "      <td>1</td>\n",
              "      <td>0</td>\n",
              "      <td>Full-time</td>\n",
              "      <td>Not Applicable</td>\n",
              "      <td>NaN</td>\n",
              "      <td>Marketing and Advertising</td>\n",
              "      <td>Customer Service</td>\n",
              "      <td>0</td>\n",
              "    </tr>\n",
              "    <tr>\n",
              "      <th>2</th>\n",
              "      <td>3</td>\n",
              "      <td>Commissioning Machinery Assistant (CMA)</td>\n",
              "      <td>US, IA, Wever</td>\n",
              "      <td>NaN</td>\n",
              "      <td>NaN</td>\n",
              "      <td>Valor Services provides Workforce Solutions th...</td>\n",
              "      <td>Our client, located in Houston, is actively se...</td>\n",
              "      <td>Implement pre-commissioning and commissioning ...</td>\n",
              "      <td>NaN</td>\n",
              "      <td>0</td>\n",
              "      <td>1</td>\n",
              "      <td>0</td>\n",
              "      <td>NaN</td>\n",
              "      <td>NaN</td>\n",
              "      <td>NaN</td>\n",
              "      <td>NaN</td>\n",
              "      <td>NaN</td>\n",
              "      <td>0</td>\n",
              "    </tr>\n",
              "    <tr>\n",
              "      <th>3</th>\n",
              "      <td>4</td>\n",
              "      <td>Account Executive - Washington DC</td>\n",
              "      <td>US, DC, Washington</td>\n",
              "      <td>Sales</td>\n",
              "      <td>NaN</td>\n",
              "      <td>Our passion for improving quality of life thro...</td>\n",
              "      <td>THE COMPANY: ESRI – Environmental Systems Rese...</td>\n",
              "      <td>EDUCATION: Bachelor’s or Master’s in GIS, busi...</td>\n",
              "      <td>Our culture is anything but corporate—we have ...</td>\n",
              "      <td>0</td>\n",
              "      <td>1</td>\n",
              "      <td>0</td>\n",
              "      <td>Full-time</td>\n",
              "      <td>Mid-Senior level</td>\n",
              "      <td>Bachelor's Degree</td>\n",
              "      <td>Computer Software</td>\n",
              "      <td>Sales</td>\n",
              "      <td>0</td>\n",
              "    </tr>\n",
              "    <tr>\n",
              "      <th>4</th>\n",
              "      <td>5</td>\n",
              "      <td>Bill Review Manager</td>\n",
              "      <td>US, FL, Fort Worth</td>\n",
              "      <td>NaN</td>\n",
              "      <td>NaN</td>\n",
              "      <td>SpotSource Solutions LLC is a Global Human Cap...</td>\n",
              "      <td>JOB TITLE: Itemization Review ManagerLOCATION:...</td>\n",
              "      <td>QUALIFICATIONS:RN license in the State of Texa...</td>\n",
              "      <td>Full Benefits Offered</td>\n",
              "      <td>0</td>\n",
              "      <td>1</td>\n",
              "      <td>1</td>\n",
              "      <td>Full-time</td>\n",
              "      <td>Mid-Senior level</td>\n",
              "      <td>Bachelor's Degree</td>\n",
              "      <td>Hospital &amp; Health Care</td>\n",
              "      <td>Health Care Provider</td>\n",
              "      <td>0</td>\n",
              "    </tr>\n",
              "  </tbody>\n",
              "</table>\n",
              "</div>\n",
              "      <button class=\"colab-df-convert\" onclick=\"convertToInteractive('df-ce58fcca-7955-424e-bf83-064b9ecf0ae7')\"\n",
              "              title=\"Convert this dataframe to an interactive table.\"\n",
              "              style=\"display:none;\">\n",
              "        \n",
              "  <svg xmlns=\"http://www.w3.org/2000/svg\" height=\"24px\"viewBox=\"0 0 24 24\"\n",
              "       width=\"24px\">\n",
              "    <path d=\"M0 0h24v24H0V0z\" fill=\"none\"/>\n",
              "    <path d=\"M18.56 5.44l.94 2.06.94-2.06 2.06-.94-2.06-.94-.94-2.06-.94 2.06-2.06.94zm-11 1L8.5 8.5l.94-2.06 2.06-.94-2.06-.94L8.5 2.5l-.94 2.06-2.06.94zm10 10l.94 2.06.94-2.06 2.06-.94-2.06-.94-.94-2.06-.94 2.06-2.06.94z\"/><path d=\"M17.41 7.96l-1.37-1.37c-.4-.4-.92-.59-1.43-.59-.52 0-1.04.2-1.43.59L10.3 9.45l-7.72 7.72c-.78.78-.78 2.05 0 2.83L4 21.41c.39.39.9.59 1.41.59.51 0 1.02-.2 1.41-.59l7.78-7.78 2.81-2.81c.8-.78.8-2.07 0-2.86zM5.41 20L4 18.59l7.72-7.72 1.47 1.35L5.41 20z\"/>\n",
              "  </svg>\n",
              "      </button>\n",
              "      \n",
              "  <style>\n",
              "    .colab-df-container {\n",
              "      display:flex;\n",
              "      flex-wrap:wrap;\n",
              "      gap: 12px;\n",
              "    }\n",
              "\n",
              "    .colab-df-convert {\n",
              "      background-color: #E8F0FE;\n",
              "      border: none;\n",
              "      border-radius: 50%;\n",
              "      cursor: pointer;\n",
              "      display: none;\n",
              "      fill: #1967D2;\n",
              "      height: 32px;\n",
              "      padding: 0 0 0 0;\n",
              "      width: 32px;\n",
              "    }\n",
              "\n",
              "    .colab-df-convert:hover {\n",
              "      background-color: #E2EBFA;\n",
              "      box-shadow: 0px 1px 2px rgba(60, 64, 67, 0.3), 0px 1px 3px 1px rgba(60, 64, 67, 0.15);\n",
              "      fill: #174EA6;\n",
              "    }\n",
              "\n",
              "    [theme=dark] .colab-df-convert {\n",
              "      background-color: #3B4455;\n",
              "      fill: #D2E3FC;\n",
              "    }\n",
              "\n",
              "    [theme=dark] .colab-df-convert:hover {\n",
              "      background-color: #434B5C;\n",
              "      box-shadow: 0px 1px 3px 1px rgba(0, 0, 0, 0.15);\n",
              "      filter: drop-shadow(0px 1px 2px rgba(0, 0, 0, 0.3));\n",
              "      fill: #FFFFFF;\n",
              "    }\n",
              "  </style>\n",
              "\n",
              "      <script>\n",
              "        const buttonEl =\n",
              "          document.querySelector('#df-ce58fcca-7955-424e-bf83-064b9ecf0ae7 button.colab-df-convert');\n",
              "        buttonEl.style.display =\n",
              "          google.colab.kernel.accessAllowed ? 'block' : 'none';\n",
              "\n",
              "        async function convertToInteractive(key) {\n",
              "          const element = document.querySelector('#df-ce58fcca-7955-424e-bf83-064b9ecf0ae7');\n",
              "          const dataTable =\n",
              "            await google.colab.kernel.invokeFunction('convertToInteractive',\n",
              "                                                     [key], {});\n",
              "          if (!dataTable) return;\n",
              "\n",
              "          const docLinkHtml = 'Like what you see? Visit the ' +\n",
              "            '<a target=\"_blank\" href=https://colab.research.google.com/notebooks/data_table.ipynb>data table notebook</a>'\n",
              "            + ' to learn more about interactive tables.';\n",
              "          element.innerHTML = '';\n",
              "          dataTable['output_type'] = 'display_data';\n",
              "          await google.colab.output.renderOutput(dataTable, element);\n",
              "          const docLink = document.createElement('div');\n",
              "          docLink.innerHTML = docLinkHtml;\n",
              "          element.appendChild(docLink);\n",
              "        }\n",
              "      </script>\n",
              "    </div>\n",
              "  </div>\n",
              "  "
            ]
          },
          "metadata": {},
          "execution_count": 7
        }
      ],
      "source": [
        "data.head()"
      ],
      "id": "2b680e88"
    },
    {
      "cell_type": "code",
      "execution_count": null,
      "metadata": {
        "colab": {
          "base_uri": "https://localhost:8080/"
        },
        "id": "51f130b8",
        "outputId": "cd075d8f-1239-4584-c5ae-3ce16251425e"
      },
      "outputs": [
        {
          "output_type": "stream",
          "name": "stdout",
          "text": [
            "<class 'pandas.core.frame.DataFrame'>\n",
            "RangeIndex: 17880 entries, 0 to 17879\n",
            "Data columns (total 18 columns):\n",
            " #   Column               Non-Null Count  Dtype \n",
            "---  ------               --------------  ----- \n",
            " 0   job_id               17880 non-null  int64 \n",
            " 1   title                17880 non-null  object\n",
            " 2   location             17534 non-null  object\n",
            " 3   department           6333 non-null   object\n",
            " 4   salary_range         2868 non-null   object\n",
            " 5   company_profile      14572 non-null  object\n",
            " 6   description          17879 non-null  object\n",
            " 7   requirements         15185 non-null  object\n",
            " 8   benefits             10670 non-null  object\n",
            " 9   telecommuting        17880 non-null  int64 \n",
            " 10  has_company_logo     17880 non-null  int64 \n",
            " 11  has_questions        17880 non-null  int64 \n",
            " 12  employment_type      14409 non-null  object\n",
            " 13  required_experience  10830 non-null  object\n",
            " 14  required_education   9775 non-null   object\n",
            " 15  industry             12977 non-null  object\n",
            " 16  function             11425 non-null  object\n",
            " 17  fraudulent           17880 non-null  int64 \n",
            "dtypes: int64(5), object(13)\n",
            "memory usage: 2.5+ MB\n"
          ]
        }
      ],
      "source": [
        "data.info()"
      ],
      "id": "51f130b8"
    },
    {
      "cell_type": "code",
      "execution_count": null,
      "metadata": {
        "colab": {
          "base_uri": "https://localhost:8080/"
        },
        "id": "463595a8",
        "outputId": "751aa772-c853-4adf-c155-ac227e829082",
        "scrolled": true
      },
      "outputs": [
        {
          "output_type": "execute_result",
          "data": {
            "text/plain": [
              "job_id                     0\n",
              "title                      0\n",
              "location                 346\n",
              "department             11547\n",
              "salary_range           15012\n",
              "company_profile         3308\n",
              "description                1\n",
              "requirements            2695\n",
              "benefits                7210\n",
              "telecommuting              0\n",
              "has_company_logo           0\n",
              "has_questions              0\n",
              "employment_type         3471\n",
              "required_experience     7050\n",
              "required_education      8105\n",
              "industry                4903\n",
              "function                6455\n",
              "fraudulent                 0\n",
              "dtype: int64"
            ]
          },
          "metadata": {},
          "execution_count": 9
        }
      ],
      "source": [
        "data.isnull().sum()"
      ],
      "id": "463595a8"
    },
    {
      "cell_type": "code",
      "execution_count": null,
      "metadata": {
        "id": "929656c3"
      },
      "outputs": [],
      "source": [
        "data.fillna(\"missing\", inplace = True) #filling missing values with text 'missing'"
      ],
      "id": "929656c3"
    },
    {
      "cell_type": "code",
      "execution_count": null,
      "metadata": {
        "colab": {
          "base_uri": "https://localhost:8080/",
          "height": 600
        },
        "id": "cbb91f73",
        "outputId": "9dd8d30d-259b-4654-c24f-2e71edb6ba85"
      },
      "outputs": [
        {
          "output_type": "execute_result",
          "data": {
            "text/plain": [
              "   job_id                                      title            location  \\\n",
              "0       1                           Marketing Intern    US, NY, New York   \n",
              "1       2  Customer Service - Cloud Video Production      NZ, , Auckland   \n",
              "2       3    Commissioning Machinery Assistant (CMA)       US, IA, Wever   \n",
              "3       4          Account Executive - Washington DC  US, DC, Washington   \n",
              "4       5                        Bill Review Manager  US, FL, Fort Worth   \n",
              "\n",
              "  department salary_range                                    company_profile  \\\n",
              "0  Marketing      missing  We're Food52, and we've created a groundbreaki...   \n",
              "1    Success      missing  90 Seconds, the worlds Cloud Video Production ...   \n",
              "2    missing      missing  Valor Services provides Workforce Solutions th...   \n",
              "3      Sales      missing  Our passion for improving quality of life thro...   \n",
              "4    missing      missing  SpotSource Solutions LLC is a Global Human Cap...   \n",
              "\n",
              "                                         description  \\\n",
              "0  Food52, a fast-growing, James Beard Award-winn...   \n",
              "1  Organised - Focused - Vibrant - Awesome!Do you...   \n",
              "2  Our client, located in Houston, is actively se...   \n",
              "3  THE COMPANY: ESRI – Environmental Systems Rese...   \n",
              "4  JOB TITLE: Itemization Review ManagerLOCATION:...   \n",
              "\n",
              "                                        requirements  \\\n",
              "0  Experience with content management systems a m...   \n",
              "1  What we expect from you:Your key responsibilit...   \n",
              "2  Implement pre-commissioning and commissioning ...   \n",
              "3  EDUCATION: Bachelor’s or Master’s in GIS, busi...   \n",
              "4  QUALIFICATIONS:RN license in the State of Texa...   \n",
              "\n",
              "                                            benefits  telecommuting  \\\n",
              "0                                            missing              0   \n",
              "1  What you will get from usThrough being part of...              0   \n",
              "2                                            missing              0   \n",
              "3  Our culture is anything but corporate—we have ...              0   \n",
              "4                              Full Benefits Offered              0   \n",
              "\n",
              "   has_company_logo  has_questions employment_type required_experience  \\\n",
              "0                 1              0           Other          Internship   \n",
              "1                 1              0       Full-time      Not Applicable   \n",
              "2                 1              0         missing             missing   \n",
              "3                 1              0       Full-time    Mid-Senior level   \n",
              "4                 1              1       Full-time    Mid-Senior level   \n",
              "\n",
              "  required_education                   industry              function  \\\n",
              "0            missing                    missing             Marketing   \n",
              "1            missing  Marketing and Advertising      Customer Service   \n",
              "2            missing                    missing               missing   \n",
              "3  Bachelor's Degree          Computer Software                 Sales   \n",
              "4  Bachelor's Degree     Hospital & Health Care  Health Care Provider   \n",
              "\n",
              "   fraudulent  \n",
              "0           0  \n",
              "1           0  \n",
              "2           0  \n",
              "3           0  \n",
              "4           0  "
            ],
            "text/html": [
              "\n",
              "  <div id=\"df-ab162d3b-5938-4560-be51-eed97d309634\">\n",
              "    <div class=\"colab-df-container\">\n",
              "      <div>\n",
              "<style scoped>\n",
              "    .dataframe tbody tr th:only-of-type {\n",
              "        vertical-align: middle;\n",
              "    }\n",
              "\n",
              "    .dataframe tbody tr th {\n",
              "        vertical-align: top;\n",
              "    }\n",
              "\n",
              "    .dataframe thead th {\n",
              "        text-align: right;\n",
              "    }\n",
              "</style>\n",
              "<table border=\"1\" class=\"dataframe\">\n",
              "  <thead>\n",
              "    <tr style=\"text-align: right;\">\n",
              "      <th></th>\n",
              "      <th>job_id</th>\n",
              "      <th>title</th>\n",
              "      <th>location</th>\n",
              "      <th>department</th>\n",
              "      <th>salary_range</th>\n",
              "      <th>company_profile</th>\n",
              "      <th>description</th>\n",
              "      <th>requirements</th>\n",
              "      <th>benefits</th>\n",
              "      <th>telecommuting</th>\n",
              "      <th>has_company_logo</th>\n",
              "      <th>has_questions</th>\n",
              "      <th>employment_type</th>\n",
              "      <th>required_experience</th>\n",
              "      <th>required_education</th>\n",
              "      <th>industry</th>\n",
              "      <th>function</th>\n",
              "      <th>fraudulent</th>\n",
              "    </tr>\n",
              "  </thead>\n",
              "  <tbody>\n",
              "    <tr>\n",
              "      <th>0</th>\n",
              "      <td>1</td>\n",
              "      <td>Marketing Intern</td>\n",
              "      <td>US, NY, New York</td>\n",
              "      <td>Marketing</td>\n",
              "      <td>missing</td>\n",
              "      <td>We're Food52, and we've created a groundbreaki...</td>\n",
              "      <td>Food52, a fast-growing, James Beard Award-winn...</td>\n",
              "      <td>Experience with content management systems a m...</td>\n",
              "      <td>missing</td>\n",
              "      <td>0</td>\n",
              "      <td>1</td>\n",
              "      <td>0</td>\n",
              "      <td>Other</td>\n",
              "      <td>Internship</td>\n",
              "      <td>missing</td>\n",
              "      <td>missing</td>\n",
              "      <td>Marketing</td>\n",
              "      <td>0</td>\n",
              "    </tr>\n",
              "    <tr>\n",
              "      <th>1</th>\n",
              "      <td>2</td>\n",
              "      <td>Customer Service - Cloud Video Production</td>\n",
              "      <td>NZ, , Auckland</td>\n",
              "      <td>Success</td>\n",
              "      <td>missing</td>\n",
              "      <td>90 Seconds, the worlds Cloud Video Production ...</td>\n",
              "      <td>Organised - Focused - Vibrant - Awesome!Do you...</td>\n",
              "      <td>What we expect from you:Your key responsibilit...</td>\n",
              "      <td>What you will get from usThrough being part of...</td>\n",
              "      <td>0</td>\n",
              "      <td>1</td>\n",
              "      <td>0</td>\n",
              "      <td>Full-time</td>\n",
              "      <td>Not Applicable</td>\n",
              "      <td>missing</td>\n",
              "      <td>Marketing and Advertising</td>\n",
              "      <td>Customer Service</td>\n",
              "      <td>0</td>\n",
              "    </tr>\n",
              "    <tr>\n",
              "      <th>2</th>\n",
              "      <td>3</td>\n",
              "      <td>Commissioning Machinery Assistant (CMA)</td>\n",
              "      <td>US, IA, Wever</td>\n",
              "      <td>missing</td>\n",
              "      <td>missing</td>\n",
              "      <td>Valor Services provides Workforce Solutions th...</td>\n",
              "      <td>Our client, located in Houston, is actively se...</td>\n",
              "      <td>Implement pre-commissioning and commissioning ...</td>\n",
              "      <td>missing</td>\n",
              "      <td>0</td>\n",
              "      <td>1</td>\n",
              "      <td>0</td>\n",
              "      <td>missing</td>\n",
              "      <td>missing</td>\n",
              "      <td>missing</td>\n",
              "      <td>missing</td>\n",
              "      <td>missing</td>\n",
              "      <td>0</td>\n",
              "    </tr>\n",
              "    <tr>\n",
              "      <th>3</th>\n",
              "      <td>4</td>\n",
              "      <td>Account Executive - Washington DC</td>\n",
              "      <td>US, DC, Washington</td>\n",
              "      <td>Sales</td>\n",
              "      <td>missing</td>\n",
              "      <td>Our passion for improving quality of life thro...</td>\n",
              "      <td>THE COMPANY: ESRI – Environmental Systems Rese...</td>\n",
              "      <td>EDUCATION: Bachelor’s or Master’s in GIS, busi...</td>\n",
              "      <td>Our culture is anything but corporate—we have ...</td>\n",
              "      <td>0</td>\n",
              "      <td>1</td>\n",
              "      <td>0</td>\n",
              "      <td>Full-time</td>\n",
              "      <td>Mid-Senior level</td>\n",
              "      <td>Bachelor's Degree</td>\n",
              "      <td>Computer Software</td>\n",
              "      <td>Sales</td>\n",
              "      <td>0</td>\n",
              "    </tr>\n",
              "    <tr>\n",
              "      <th>4</th>\n",
              "      <td>5</td>\n",
              "      <td>Bill Review Manager</td>\n",
              "      <td>US, FL, Fort Worth</td>\n",
              "      <td>missing</td>\n",
              "      <td>missing</td>\n",
              "      <td>SpotSource Solutions LLC is a Global Human Cap...</td>\n",
              "      <td>JOB TITLE: Itemization Review ManagerLOCATION:...</td>\n",
              "      <td>QUALIFICATIONS:RN license in the State of Texa...</td>\n",
              "      <td>Full Benefits Offered</td>\n",
              "      <td>0</td>\n",
              "      <td>1</td>\n",
              "      <td>1</td>\n",
              "      <td>Full-time</td>\n",
              "      <td>Mid-Senior level</td>\n",
              "      <td>Bachelor's Degree</td>\n",
              "      <td>Hospital &amp; Health Care</td>\n",
              "      <td>Health Care Provider</td>\n",
              "      <td>0</td>\n",
              "    </tr>\n",
              "  </tbody>\n",
              "</table>\n",
              "</div>\n",
              "      <button class=\"colab-df-convert\" onclick=\"convertToInteractive('df-ab162d3b-5938-4560-be51-eed97d309634')\"\n",
              "              title=\"Convert this dataframe to an interactive table.\"\n",
              "              style=\"display:none;\">\n",
              "        \n",
              "  <svg xmlns=\"http://www.w3.org/2000/svg\" height=\"24px\"viewBox=\"0 0 24 24\"\n",
              "       width=\"24px\">\n",
              "    <path d=\"M0 0h24v24H0V0z\" fill=\"none\"/>\n",
              "    <path d=\"M18.56 5.44l.94 2.06.94-2.06 2.06-.94-2.06-.94-.94-2.06-.94 2.06-2.06.94zm-11 1L8.5 8.5l.94-2.06 2.06-.94-2.06-.94L8.5 2.5l-.94 2.06-2.06.94zm10 10l.94 2.06.94-2.06 2.06-.94-2.06-.94-.94-2.06-.94 2.06-2.06.94z\"/><path d=\"M17.41 7.96l-1.37-1.37c-.4-.4-.92-.59-1.43-.59-.52 0-1.04.2-1.43.59L10.3 9.45l-7.72 7.72c-.78.78-.78 2.05 0 2.83L4 21.41c.39.39.9.59 1.41.59.51 0 1.02-.2 1.41-.59l7.78-7.78 2.81-2.81c.8-.78.8-2.07 0-2.86zM5.41 20L4 18.59l7.72-7.72 1.47 1.35L5.41 20z\"/>\n",
              "  </svg>\n",
              "      </button>\n",
              "      \n",
              "  <style>\n",
              "    .colab-df-container {\n",
              "      display:flex;\n",
              "      flex-wrap:wrap;\n",
              "      gap: 12px;\n",
              "    }\n",
              "\n",
              "    .colab-df-convert {\n",
              "      background-color: #E8F0FE;\n",
              "      border: none;\n",
              "      border-radius: 50%;\n",
              "      cursor: pointer;\n",
              "      display: none;\n",
              "      fill: #1967D2;\n",
              "      height: 32px;\n",
              "      padding: 0 0 0 0;\n",
              "      width: 32px;\n",
              "    }\n",
              "\n",
              "    .colab-df-convert:hover {\n",
              "      background-color: #E2EBFA;\n",
              "      box-shadow: 0px 1px 2px rgba(60, 64, 67, 0.3), 0px 1px 3px 1px rgba(60, 64, 67, 0.15);\n",
              "      fill: #174EA6;\n",
              "    }\n",
              "\n",
              "    [theme=dark] .colab-df-convert {\n",
              "      background-color: #3B4455;\n",
              "      fill: #D2E3FC;\n",
              "    }\n",
              "\n",
              "    [theme=dark] .colab-df-convert:hover {\n",
              "      background-color: #434B5C;\n",
              "      box-shadow: 0px 1px 3px 1px rgba(0, 0, 0, 0.15);\n",
              "      filter: drop-shadow(0px 1px 2px rgba(0, 0, 0, 0.3));\n",
              "      fill: #FFFFFF;\n",
              "    }\n",
              "  </style>\n",
              "\n",
              "      <script>\n",
              "        const buttonEl =\n",
              "          document.querySelector('#df-ab162d3b-5938-4560-be51-eed97d309634 button.colab-df-convert');\n",
              "        buttonEl.style.display =\n",
              "          google.colab.kernel.accessAllowed ? 'block' : 'none';\n",
              "\n",
              "        async function convertToInteractive(key) {\n",
              "          const element = document.querySelector('#df-ab162d3b-5938-4560-be51-eed97d309634');\n",
              "          const dataTable =\n",
              "            await google.colab.kernel.invokeFunction('convertToInteractive',\n",
              "                                                     [key], {});\n",
              "          if (!dataTable) return;\n",
              "\n",
              "          const docLinkHtml = 'Like what you see? Visit the ' +\n",
              "            '<a target=\"_blank\" href=https://colab.research.google.com/notebooks/data_table.ipynb>data table notebook</a>'\n",
              "            + ' to learn more about interactive tables.';\n",
              "          element.innerHTML = '';\n",
              "          dataTable['output_type'] = 'display_data';\n",
              "          await google.colab.output.renderOutput(dataTable, element);\n",
              "          const docLink = document.createElement('div');\n",
              "          docLink.innerHTML = docLinkHtml;\n",
              "          element.appendChild(docLink);\n",
              "        }\n",
              "      </script>\n",
              "    </div>\n",
              "  </div>\n",
              "  "
            ]
          },
          "metadata": {},
          "execution_count": 11
        }
      ],
      "source": [
        "data.head()"
      ],
      "id": "cbb91f73"
    },
    {
      "cell_type": "markdown",
      "metadata": {
        "id": "58e43a1a"
      },
      "source": [
        "#### Separating country and city from location"
      ],
      "id": "58e43a1a"
    },
    {
      "cell_type": "code",
      "execution_count": null,
      "metadata": {
        "id": "6e9a1280"
      },
      "outputs": [],
      "source": [
        "data['country'] = data['location'].str.split(',').apply(lambda x: x[0])\n",
        "data['city'] = data['location'].str.split(',').apply(lambda x: x[-1])"
      ],
      "id": "6e9a1280"
    },
    {
      "cell_type": "code",
      "execution_count": null,
      "metadata": {
        "colab": {
          "base_uri": "https://localhost:8080/",
          "height": 197
        },
        "id": "7453241f",
        "outputId": "7da4faeb-5e98-402b-d3ca-297ca325506c"
      },
      "outputs": [
        {
          "output_type": "execute_result",
          "data": {
            "text/plain": [
              "   job_id             title          location department salary_range  \\\n",
              "0       1  Marketing Intern  US, NY, New York  Marketing      missing   \n",
              "\n",
              "                                     company_profile  \\\n",
              "0  We're Food52, and we've created a groundbreaki...   \n",
              "\n",
              "                                         description  \\\n",
              "0  Food52, a fast-growing, James Beard Award-winn...   \n",
              "\n",
              "                                        requirements benefits  telecommuting  \\\n",
              "0  Experience with content management systems a m...  missing              0   \n",
              "\n",
              "   has_company_logo  has_questions employment_type required_experience  \\\n",
              "0                 1              0           Other          Internship   \n",
              "\n",
              "  required_education industry   function  fraudulent country       city  \n",
              "0            missing  missing  Marketing           0      US   New York  "
            ],
            "text/html": [
              "\n",
              "  <div id=\"df-2c261788-5c39-4f64-a152-322442da376a\">\n",
              "    <div class=\"colab-df-container\">\n",
              "      <div>\n",
              "<style scoped>\n",
              "    .dataframe tbody tr th:only-of-type {\n",
              "        vertical-align: middle;\n",
              "    }\n",
              "\n",
              "    .dataframe tbody tr th {\n",
              "        vertical-align: top;\n",
              "    }\n",
              "\n",
              "    .dataframe thead th {\n",
              "        text-align: right;\n",
              "    }\n",
              "</style>\n",
              "<table border=\"1\" class=\"dataframe\">\n",
              "  <thead>\n",
              "    <tr style=\"text-align: right;\">\n",
              "      <th></th>\n",
              "      <th>job_id</th>\n",
              "      <th>title</th>\n",
              "      <th>location</th>\n",
              "      <th>department</th>\n",
              "      <th>salary_range</th>\n",
              "      <th>company_profile</th>\n",
              "      <th>description</th>\n",
              "      <th>requirements</th>\n",
              "      <th>benefits</th>\n",
              "      <th>telecommuting</th>\n",
              "      <th>has_company_logo</th>\n",
              "      <th>has_questions</th>\n",
              "      <th>employment_type</th>\n",
              "      <th>required_experience</th>\n",
              "      <th>required_education</th>\n",
              "      <th>industry</th>\n",
              "      <th>function</th>\n",
              "      <th>fraudulent</th>\n",
              "      <th>country</th>\n",
              "      <th>city</th>\n",
              "    </tr>\n",
              "  </thead>\n",
              "  <tbody>\n",
              "    <tr>\n",
              "      <th>0</th>\n",
              "      <td>1</td>\n",
              "      <td>Marketing Intern</td>\n",
              "      <td>US, NY, New York</td>\n",
              "      <td>Marketing</td>\n",
              "      <td>missing</td>\n",
              "      <td>We're Food52, and we've created a groundbreaki...</td>\n",
              "      <td>Food52, a fast-growing, James Beard Award-winn...</td>\n",
              "      <td>Experience with content management systems a m...</td>\n",
              "      <td>missing</td>\n",
              "      <td>0</td>\n",
              "      <td>1</td>\n",
              "      <td>0</td>\n",
              "      <td>Other</td>\n",
              "      <td>Internship</td>\n",
              "      <td>missing</td>\n",
              "      <td>missing</td>\n",
              "      <td>Marketing</td>\n",
              "      <td>0</td>\n",
              "      <td>US</td>\n",
              "      <td>New York</td>\n",
              "    </tr>\n",
              "  </tbody>\n",
              "</table>\n",
              "</div>\n",
              "      <button class=\"colab-df-convert\" onclick=\"convertToInteractive('df-2c261788-5c39-4f64-a152-322442da376a')\"\n",
              "              title=\"Convert this dataframe to an interactive table.\"\n",
              "              style=\"display:none;\">\n",
              "        \n",
              "  <svg xmlns=\"http://www.w3.org/2000/svg\" height=\"24px\"viewBox=\"0 0 24 24\"\n",
              "       width=\"24px\">\n",
              "    <path d=\"M0 0h24v24H0V0z\" fill=\"none\"/>\n",
              "    <path d=\"M18.56 5.44l.94 2.06.94-2.06 2.06-.94-2.06-.94-.94-2.06-.94 2.06-2.06.94zm-11 1L8.5 8.5l.94-2.06 2.06-.94-2.06-.94L8.5 2.5l-.94 2.06-2.06.94zm10 10l.94 2.06.94-2.06 2.06-.94-2.06-.94-.94-2.06-.94 2.06-2.06.94z\"/><path d=\"M17.41 7.96l-1.37-1.37c-.4-.4-.92-.59-1.43-.59-.52 0-1.04.2-1.43.59L10.3 9.45l-7.72 7.72c-.78.78-.78 2.05 0 2.83L4 21.41c.39.39.9.59 1.41.59.51 0 1.02-.2 1.41-.59l7.78-7.78 2.81-2.81c.8-.78.8-2.07 0-2.86zM5.41 20L4 18.59l7.72-7.72 1.47 1.35L5.41 20z\"/>\n",
              "  </svg>\n",
              "      </button>\n",
              "      \n",
              "  <style>\n",
              "    .colab-df-container {\n",
              "      display:flex;\n",
              "      flex-wrap:wrap;\n",
              "      gap: 12px;\n",
              "    }\n",
              "\n",
              "    .colab-df-convert {\n",
              "      background-color: #E8F0FE;\n",
              "      border: none;\n",
              "      border-radius: 50%;\n",
              "      cursor: pointer;\n",
              "      display: none;\n",
              "      fill: #1967D2;\n",
              "      height: 32px;\n",
              "      padding: 0 0 0 0;\n",
              "      width: 32px;\n",
              "    }\n",
              "\n",
              "    .colab-df-convert:hover {\n",
              "      background-color: #E2EBFA;\n",
              "      box-shadow: 0px 1px 2px rgba(60, 64, 67, 0.3), 0px 1px 3px 1px rgba(60, 64, 67, 0.15);\n",
              "      fill: #174EA6;\n",
              "    }\n",
              "\n",
              "    [theme=dark] .colab-df-convert {\n",
              "      background-color: #3B4455;\n",
              "      fill: #D2E3FC;\n",
              "    }\n",
              "\n",
              "    [theme=dark] .colab-df-convert:hover {\n",
              "      background-color: #434B5C;\n",
              "      box-shadow: 0px 1px 3px 1px rgba(0, 0, 0, 0.15);\n",
              "      filter: drop-shadow(0px 1px 2px rgba(0, 0, 0, 0.3));\n",
              "      fill: #FFFFFF;\n",
              "    }\n",
              "  </style>\n",
              "\n",
              "      <script>\n",
              "        const buttonEl =\n",
              "          document.querySelector('#df-2c261788-5c39-4f64-a152-322442da376a button.colab-df-convert');\n",
              "        buttonEl.style.display =\n",
              "          google.colab.kernel.accessAllowed ? 'block' : 'none';\n",
              "\n",
              "        async function convertToInteractive(key) {\n",
              "          const element = document.querySelector('#df-2c261788-5c39-4f64-a152-322442da376a');\n",
              "          const dataTable =\n",
              "            await google.colab.kernel.invokeFunction('convertToInteractive',\n",
              "                                                     [key], {});\n",
              "          if (!dataTable) return;\n",
              "\n",
              "          const docLinkHtml = 'Like what you see? Visit the ' +\n",
              "            '<a target=\"_blank\" href=https://colab.research.google.com/notebooks/data_table.ipynb>data table notebook</a>'\n",
              "            + ' to learn more about interactive tables.';\n",
              "          element.innerHTML = '';\n",
              "          dataTable['output_type'] = 'display_data';\n",
              "          await google.colab.output.renderOutput(dataTable, element);\n",
              "          const docLink = document.createElement('div');\n",
              "          docLink.innerHTML = docLinkHtml;\n",
              "          element.appendChild(docLink);\n",
              "        }\n",
              "      </script>\n",
              "    </div>\n",
              "  </div>\n",
              "  "
            ]
          },
          "metadata": {},
          "execution_count": 13
        }
      ],
      "source": [
        "data.head(1)"
      ],
      "id": "7453241f"
    },
    {
      "cell_type": "markdown",
      "metadata": {
        "id": "903a0082"
      },
      "source": [
        "#### Separating min and max salary range"
      ],
      "id": "903a0082"
    },
    {
      "cell_type": "code",
      "execution_count": null,
      "metadata": {
        "id": "0e3a76c4"
      },
      "outputs": [],
      "source": [
        "data['min_salary'] = data['salary_range'].str.split('-').apply(lambda x: x[0])\n",
        "data['max_salary'] = data['salary_range'].str.split('-').apply(lambda x: x[-1])"
      ],
      "id": "0e3a76c4"
    },
    {
      "cell_type": "code",
      "execution_count": null,
      "metadata": {
        "colab": {
          "base_uri": "https://localhost:8080/",
          "height": 226
        },
        "id": "77dfe2cc",
        "outputId": "17d16304-17e1-4a4b-ed2f-cbdbf68778e5"
      },
      "outputs": [
        {
          "output_type": "execute_result",
          "data": {
            "text/plain": [
              "   job_id             title          location department salary_range  \\\n",
              "0       1  Marketing Intern  US, NY, New York  Marketing      missing   \n",
              "\n",
              "                                     company_profile  \\\n",
              "0  We're Food52, and we've created a groundbreaki...   \n",
              "\n",
              "                                         description  \\\n",
              "0  Food52, a fast-growing, James Beard Award-winn...   \n",
              "\n",
              "                                        requirements benefits  telecommuting  \\\n",
              "0  Experience with content management systems a m...  missing              0   \n",
              "\n",
              "   ...  employment_type  required_experience required_education industry  \\\n",
              "0  ...            Other           Internship            missing  missing   \n",
              "\n",
              "    function fraudulent country       city min_salary max_salary  \n",
              "0  Marketing          0      US   New York    missing    missing  \n",
              "\n",
              "[1 rows x 22 columns]"
            ],
            "text/html": [
              "\n",
              "  <div id=\"df-a77d6969-45b7-4ea2-b080-0134f506a087\">\n",
              "    <div class=\"colab-df-container\">\n",
              "      <div>\n",
              "<style scoped>\n",
              "    .dataframe tbody tr th:only-of-type {\n",
              "        vertical-align: middle;\n",
              "    }\n",
              "\n",
              "    .dataframe tbody tr th {\n",
              "        vertical-align: top;\n",
              "    }\n",
              "\n",
              "    .dataframe thead th {\n",
              "        text-align: right;\n",
              "    }\n",
              "</style>\n",
              "<table border=\"1\" class=\"dataframe\">\n",
              "  <thead>\n",
              "    <tr style=\"text-align: right;\">\n",
              "      <th></th>\n",
              "      <th>job_id</th>\n",
              "      <th>title</th>\n",
              "      <th>location</th>\n",
              "      <th>department</th>\n",
              "      <th>salary_range</th>\n",
              "      <th>company_profile</th>\n",
              "      <th>description</th>\n",
              "      <th>requirements</th>\n",
              "      <th>benefits</th>\n",
              "      <th>telecommuting</th>\n",
              "      <th>...</th>\n",
              "      <th>employment_type</th>\n",
              "      <th>required_experience</th>\n",
              "      <th>required_education</th>\n",
              "      <th>industry</th>\n",
              "      <th>function</th>\n",
              "      <th>fraudulent</th>\n",
              "      <th>country</th>\n",
              "      <th>city</th>\n",
              "      <th>min_salary</th>\n",
              "      <th>max_salary</th>\n",
              "    </tr>\n",
              "  </thead>\n",
              "  <tbody>\n",
              "    <tr>\n",
              "      <th>0</th>\n",
              "      <td>1</td>\n",
              "      <td>Marketing Intern</td>\n",
              "      <td>US, NY, New York</td>\n",
              "      <td>Marketing</td>\n",
              "      <td>missing</td>\n",
              "      <td>We're Food52, and we've created a groundbreaki...</td>\n",
              "      <td>Food52, a fast-growing, James Beard Award-winn...</td>\n",
              "      <td>Experience with content management systems a m...</td>\n",
              "      <td>missing</td>\n",
              "      <td>0</td>\n",
              "      <td>...</td>\n",
              "      <td>Other</td>\n",
              "      <td>Internship</td>\n",
              "      <td>missing</td>\n",
              "      <td>missing</td>\n",
              "      <td>Marketing</td>\n",
              "      <td>0</td>\n",
              "      <td>US</td>\n",
              "      <td>New York</td>\n",
              "      <td>missing</td>\n",
              "      <td>missing</td>\n",
              "    </tr>\n",
              "  </tbody>\n",
              "</table>\n",
              "<p>1 rows × 22 columns</p>\n",
              "</div>\n",
              "      <button class=\"colab-df-convert\" onclick=\"convertToInteractive('df-a77d6969-45b7-4ea2-b080-0134f506a087')\"\n",
              "              title=\"Convert this dataframe to an interactive table.\"\n",
              "              style=\"display:none;\">\n",
              "        \n",
              "  <svg xmlns=\"http://www.w3.org/2000/svg\" height=\"24px\"viewBox=\"0 0 24 24\"\n",
              "       width=\"24px\">\n",
              "    <path d=\"M0 0h24v24H0V0z\" fill=\"none\"/>\n",
              "    <path d=\"M18.56 5.44l.94 2.06.94-2.06 2.06-.94-2.06-.94-.94-2.06-.94 2.06-2.06.94zm-11 1L8.5 8.5l.94-2.06 2.06-.94-2.06-.94L8.5 2.5l-.94 2.06-2.06.94zm10 10l.94 2.06.94-2.06 2.06-.94-2.06-.94-.94-2.06-.94 2.06-2.06.94z\"/><path d=\"M17.41 7.96l-1.37-1.37c-.4-.4-.92-.59-1.43-.59-.52 0-1.04.2-1.43.59L10.3 9.45l-7.72 7.72c-.78.78-.78 2.05 0 2.83L4 21.41c.39.39.9.59 1.41.59.51 0 1.02-.2 1.41-.59l7.78-7.78 2.81-2.81c.8-.78.8-2.07 0-2.86zM5.41 20L4 18.59l7.72-7.72 1.47 1.35L5.41 20z\"/>\n",
              "  </svg>\n",
              "      </button>\n",
              "      \n",
              "  <style>\n",
              "    .colab-df-container {\n",
              "      display:flex;\n",
              "      flex-wrap:wrap;\n",
              "      gap: 12px;\n",
              "    }\n",
              "\n",
              "    .colab-df-convert {\n",
              "      background-color: #E8F0FE;\n",
              "      border: none;\n",
              "      border-radius: 50%;\n",
              "      cursor: pointer;\n",
              "      display: none;\n",
              "      fill: #1967D2;\n",
              "      height: 32px;\n",
              "      padding: 0 0 0 0;\n",
              "      width: 32px;\n",
              "    }\n",
              "\n",
              "    .colab-df-convert:hover {\n",
              "      background-color: #E2EBFA;\n",
              "      box-shadow: 0px 1px 2px rgba(60, 64, 67, 0.3), 0px 1px 3px 1px rgba(60, 64, 67, 0.15);\n",
              "      fill: #174EA6;\n",
              "    }\n",
              "\n",
              "    [theme=dark] .colab-df-convert {\n",
              "      background-color: #3B4455;\n",
              "      fill: #D2E3FC;\n",
              "    }\n",
              "\n",
              "    [theme=dark] .colab-df-convert:hover {\n",
              "      background-color: #434B5C;\n",
              "      box-shadow: 0px 1px 3px 1px rgba(0, 0, 0, 0.15);\n",
              "      filter: drop-shadow(0px 1px 2px rgba(0, 0, 0, 0.3));\n",
              "      fill: #FFFFFF;\n",
              "    }\n",
              "  </style>\n",
              "\n",
              "      <script>\n",
              "        const buttonEl =\n",
              "          document.querySelector('#df-a77d6969-45b7-4ea2-b080-0134f506a087 button.colab-df-convert');\n",
              "        buttonEl.style.display =\n",
              "          google.colab.kernel.accessAllowed ? 'block' : 'none';\n",
              "\n",
              "        async function convertToInteractive(key) {\n",
              "          const element = document.querySelector('#df-a77d6969-45b7-4ea2-b080-0134f506a087');\n",
              "          const dataTable =\n",
              "            await google.colab.kernel.invokeFunction('convertToInteractive',\n",
              "                                                     [key], {});\n",
              "          if (!dataTable) return;\n",
              "\n",
              "          const docLinkHtml = 'Like what you see? Visit the ' +\n",
              "            '<a target=\"_blank\" href=https://colab.research.google.com/notebooks/data_table.ipynb>data table notebook</a>'\n",
              "            + ' to learn more about interactive tables.';\n",
              "          element.innerHTML = '';\n",
              "          dataTable['output_type'] = 'display_data';\n",
              "          await google.colab.output.renderOutput(dataTable, element);\n",
              "          const docLink = document.createElement('div');\n",
              "          docLink.innerHTML = docLinkHtml;\n",
              "          element.appendChild(docLink);\n",
              "        }\n",
              "      </script>\n",
              "    </div>\n",
              "  </div>\n",
              "  "
            ]
          },
          "metadata": {},
          "execution_count": 15
        }
      ],
      "source": [
        "data.head(1)"
      ],
      "id": "77dfe2cc"
    },
    {
      "cell_type": "markdown",
      "metadata": {
        "id": "84645a4f"
      },
      "source": [
        "#### Using Natural Language Toolkit for text processing"
      ],
      "id": "84645a4f"
    },
    {
      "cell_type": "markdown",
      "metadata": {
        "id": "3766d166"
      },
      "source": [
        "import nltk\n",
        "nltk.download()"
      ],
      "id": "3766d166"
    },
    {
      "cell_type": "code",
      "execution_count": null,
      "metadata": {
        "colab": {
          "base_uri": "https://localhost:8080/"
        },
        "id": "a4a89ae9",
        "outputId": "43f79305-739f-4530-e172-4a5c32901fa9"
      },
      "outputs": [
        {
          "output_type": "stream",
          "name": "stdout",
          "text": [
            "[nltk_data] Downloading package punkt to /root/nltk_data...\n",
            "[nltk_data]   Unzipping tokenizers/punkt.zip.\n"
          ]
        },
        {
          "output_type": "execute_result",
          "data": {
            "text/plain": [
              "True"
            ]
          },
          "metadata": {},
          "execution_count": 16
        }
      ],
      "source": [
        "nltk.download('punkt')"
      ],
      "id": "a4a89ae9"
    },
    {
      "cell_type": "code",
      "execution_count": null,
      "metadata": {
        "id": "3d35d65c"
      },
      "outputs": [],
      "source": [
        "#data['tokenized_description'] = data['description'].apply(word_tokenize)"
      ],
      "id": "3d35d65c"
    },
    {
      "cell_type": "code",
      "execution_count": null,
      "metadata": {
        "id": "c1c780eb"
      },
      "outputs": [],
      "source": [
        "#data.head(1)"
      ],
      "id": "c1c780eb"
    },
    {
      "cell_type": "code",
      "execution_count": null,
      "metadata": {
        "id": "1364861a"
      },
      "outputs": [],
      "source": [
        "#from nltk.probability import FreqDist\n",
        "#frequency = data['tokenized_description'].apply(FreqDist)"
      ],
      "id": "1364861a"
    },
    {
      "cell_type": "code",
      "execution_count": null,
      "metadata": {
        "id": "3769d113"
      },
      "outputs": [],
      "source": [
        "#frequency"
      ],
      "id": "3769d113"
    },
    {
      "cell_type": "code",
      "execution_count": null,
      "metadata": {
        "colab": {
          "base_uri": "https://localhost:8080/",
          "height": 337
        },
        "id": "2a779dbe",
        "outputId": "36ff19bd-b1e8-47f4-ca46-cfb0115f5c4e"
      },
      "outputs": [
        {
          "output_type": "execute_result",
          "data": {
            "text/plain": [
              "                                       title  \\\n",
              "0                           Marketing Intern   \n",
              "1  Customer Service - Cloud Video Production   \n",
              "2    Commissioning Machinery Assistant (CMA)   \n",
              "3          Account Executive - Washington DC   \n",
              "4                        Bill Review Manager   \n",
              "\n",
              "                                     company_profile  \\\n",
              "0  We're Food52, and we've created a groundbreaki...   \n",
              "1  90 Seconds, the worlds Cloud Video Production ...   \n",
              "2  Valor Services provides Workforce Solutions th...   \n",
              "3  Our passion for improving quality of life thro...   \n",
              "4  SpotSource Solutions LLC is a Global Human Cap...   \n",
              "\n",
              "                                         description  \\\n",
              "0  Food52, a fast-growing, James Beard Award-winn...   \n",
              "1  Organised - Focused - Vibrant - Awesome!Do you...   \n",
              "2  Our client, located in Houston, is actively se...   \n",
              "3  THE COMPANY: ESRI – Environmental Systems Rese...   \n",
              "4  JOB TITLE: Itemization Review ManagerLOCATION:...   \n",
              "\n",
              "                                        requirements  \\\n",
              "0  Experience with content management systems a m...   \n",
              "1  What we expect from you:Your key responsibilit...   \n",
              "2  Implement pre-commissioning and commissioning ...   \n",
              "3  EDUCATION: Bachelor’s or Master’s in GIS, busi...   \n",
              "4  QUALIFICATIONS:RN license in the State of Texa...   \n",
              "\n",
              "                                            benefits  \n",
              "0                                            missing  \n",
              "1  What you will get from usThrough being part of...  \n",
              "2                                            missing  \n",
              "3  Our culture is anything but corporate—we have ...  \n",
              "4                              Full Benefits Offered  "
            ],
            "text/html": [
              "\n",
              "  <div id=\"df-a3f3d805-b55e-4297-a294-c9c5b259d564\">\n",
              "    <div class=\"colab-df-container\">\n",
              "      <div>\n",
              "<style scoped>\n",
              "    .dataframe tbody tr th:only-of-type {\n",
              "        vertical-align: middle;\n",
              "    }\n",
              "\n",
              "    .dataframe tbody tr th {\n",
              "        vertical-align: top;\n",
              "    }\n",
              "\n",
              "    .dataframe thead th {\n",
              "        text-align: right;\n",
              "    }\n",
              "</style>\n",
              "<table border=\"1\" class=\"dataframe\">\n",
              "  <thead>\n",
              "    <tr style=\"text-align: right;\">\n",
              "      <th></th>\n",
              "      <th>title</th>\n",
              "      <th>company_profile</th>\n",
              "      <th>description</th>\n",
              "      <th>requirements</th>\n",
              "      <th>benefits</th>\n",
              "    </tr>\n",
              "  </thead>\n",
              "  <tbody>\n",
              "    <tr>\n",
              "      <th>0</th>\n",
              "      <td>Marketing Intern</td>\n",
              "      <td>We're Food52, and we've created a groundbreaki...</td>\n",
              "      <td>Food52, a fast-growing, James Beard Award-winn...</td>\n",
              "      <td>Experience with content management systems a m...</td>\n",
              "      <td>missing</td>\n",
              "    </tr>\n",
              "    <tr>\n",
              "      <th>1</th>\n",
              "      <td>Customer Service - Cloud Video Production</td>\n",
              "      <td>90 Seconds, the worlds Cloud Video Production ...</td>\n",
              "      <td>Organised - Focused - Vibrant - Awesome!Do you...</td>\n",
              "      <td>What we expect from you:Your key responsibilit...</td>\n",
              "      <td>What you will get from usThrough being part of...</td>\n",
              "    </tr>\n",
              "    <tr>\n",
              "      <th>2</th>\n",
              "      <td>Commissioning Machinery Assistant (CMA)</td>\n",
              "      <td>Valor Services provides Workforce Solutions th...</td>\n",
              "      <td>Our client, located in Houston, is actively se...</td>\n",
              "      <td>Implement pre-commissioning and commissioning ...</td>\n",
              "      <td>missing</td>\n",
              "    </tr>\n",
              "    <tr>\n",
              "      <th>3</th>\n",
              "      <td>Account Executive - Washington DC</td>\n",
              "      <td>Our passion for improving quality of life thro...</td>\n",
              "      <td>THE COMPANY: ESRI – Environmental Systems Rese...</td>\n",
              "      <td>EDUCATION: Bachelor’s or Master’s in GIS, busi...</td>\n",
              "      <td>Our culture is anything but corporate—we have ...</td>\n",
              "    </tr>\n",
              "    <tr>\n",
              "      <th>4</th>\n",
              "      <td>Bill Review Manager</td>\n",
              "      <td>SpotSource Solutions LLC is a Global Human Cap...</td>\n",
              "      <td>JOB TITLE: Itemization Review ManagerLOCATION:...</td>\n",
              "      <td>QUALIFICATIONS:RN license in the State of Texa...</td>\n",
              "      <td>Full Benefits Offered</td>\n",
              "    </tr>\n",
              "  </tbody>\n",
              "</table>\n",
              "</div>\n",
              "      <button class=\"colab-df-convert\" onclick=\"convertToInteractive('df-a3f3d805-b55e-4297-a294-c9c5b259d564')\"\n",
              "              title=\"Convert this dataframe to an interactive table.\"\n",
              "              style=\"display:none;\">\n",
              "        \n",
              "  <svg xmlns=\"http://www.w3.org/2000/svg\" height=\"24px\"viewBox=\"0 0 24 24\"\n",
              "       width=\"24px\">\n",
              "    <path d=\"M0 0h24v24H0V0z\" fill=\"none\"/>\n",
              "    <path d=\"M18.56 5.44l.94 2.06.94-2.06 2.06-.94-2.06-.94-.94-2.06-.94 2.06-2.06.94zm-11 1L8.5 8.5l.94-2.06 2.06-.94-2.06-.94L8.5 2.5l-.94 2.06-2.06.94zm10 10l.94 2.06.94-2.06 2.06-.94-2.06-.94-.94-2.06-.94 2.06-2.06.94z\"/><path d=\"M17.41 7.96l-1.37-1.37c-.4-.4-.92-.59-1.43-.59-.52 0-1.04.2-1.43.59L10.3 9.45l-7.72 7.72c-.78.78-.78 2.05 0 2.83L4 21.41c.39.39.9.59 1.41.59.51 0 1.02-.2 1.41-.59l7.78-7.78 2.81-2.81c.8-.78.8-2.07 0-2.86zM5.41 20L4 18.59l7.72-7.72 1.47 1.35L5.41 20z\"/>\n",
              "  </svg>\n",
              "      </button>\n",
              "      \n",
              "  <style>\n",
              "    .colab-df-container {\n",
              "      display:flex;\n",
              "      flex-wrap:wrap;\n",
              "      gap: 12px;\n",
              "    }\n",
              "\n",
              "    .colab-df-convert {\n",
              "      background-color: #E8F0FE;\n",
              "      border: none;\n",
              "      border-radius: 50%;\n",
              "      cursor: pointer;\n",
              "      display: none;\n",
              "      fill: #1967D2;\n",
              "      height: 32px;\n",
              "      padding: 0 0 0 0;\n",
              "      width: 32px;\n",
              "    }\n",
              "\n",
              "    .colab-df-convert:hover {\n",
              "      background-color: #E2EBFA;\n",
              "      box-shadow: 0px 1px 2px rgba(60, 64, 67, 0.3), 0px 1px 3px 1px rgba(60, 64, 67, 0.15);\n",
              "      fill: #174EA6;\n",
              "    }\n",
              "\n",
              "    [theme=dark] .colab-df-convert {\n",
              "      background-color: #3B4455;\n",
              "      fill: #D2E3FC;\n",
              "    }\n",
              "\n",
              "    [theme=dark] .colab-df-convert:hover {\n",
              "      background-color: #434B5C;\n",
              "      box-shadow: 0px 1px 3px 1px rgba(0, 0, 0, 0.15);\n",
              "      filter: drop-shadow(0px 1px 2px rgba(0, 0, 0, 0.3));\n",
              "      fill: #FFFFFF;\n",
              "    }\n",
              "  </style>\n",
              "\n",
              "      <script>\n",
              "        const buttonEl =\n",
              "          document.querySelector('#df-a3f3d805-b55e-4297-a294-c9c5b259d564 button.colab-df-convert');\n",
              "        buttonEl.style.display =\n",
              "          google.colab.kernel.accessAllowed ? 'block' : 'none';\n",
              "\n",
              "        async function convertToInteractive(key) {\n",
              "          const element = document.querySelector('#df-a3f3d805-b55e-4297-a294-c9c5b259d564');\n",
              "          const dataTable =\n",
              "            await google.colab.kernel.invokeFunction('convertToInteractive',\n",
              "                                                     [key], {});\n",
              "          if (!dataTable) return;\n",
              "\n",
              "          const docLinkHtml = 'Like what you see? Visit the ' +\n",
              "            '<a target=\"_blank\" href=https://colab.research.google.com/notebooks/data_table.ipynb>data table notebook</a>'\n",
              "            + ' to learn more about interactive tables.';\n",
              "          element.innerHTML = '';\n",
              "          dataTable['output_type'] = 'display_data';\n",
              "          await google.colab.output.renderOutput(dataTable, element);\n",
              "          const docLink = document.createElement('div');\n",
              "          docLink.innerHTML = docLinkHtml;\n",
              "          element.appendChild(docLink);\n",
              "        }\n",
              "      </script>\n",
              "    </div>\n",
              "  </div>\n",
              "  "
            ]
          },
          "metadata": {},
          "execution_count": 21
        }
      ],
      "source": [
        "text_data = data[[\"title\", \"company_profile\", \"description\", \"requirements\", \"benefits\"]]\n",
        "text_data = text_data.fillna(' ')\n",
        "\n",
        "text_data.head()"
      ],
      "id": "2a779dbe"
    },
    {
      "cell_type": "code",
      "execution_count": null,
      "metadata": {
        "colab": {
          "base_uri": "https://localhost:8080/",
          "height": 206
        },
        "id": "62670462",
        "outputId": "4df2784b-db53-4c47-d08f-24232da36957"
      },
      "outputs": [
        {
          "output_type": "execute_result",
          "data": {
            "text/plain": [
              "   telecommuting  has_company_logo  has_questions employment_type  \\\n",
              "0              0                 1              0           Other   \n",
              "1              0                 1              0       Full-time   \n",
              "2              0                 1              0         missing   \n",
              "3              0                 1              0       Full-time   \n",
              "4              0                 1              1       Full-time   \n",
              "\n",
              "  required_experience required_education                   industry  \\\n",
              "0          Internship            missing                    missing   \n",
              "1      Not Applicable            missing  Marketing and Advertising   \n",
              "2             missing            missing                    missing   \n",
              "3    Mid-Senior level  Bachelor's Degree          Computer Software   \n",
              "4    Mid-Senior level  Bachelor's Degree     Hospital & Health Care   \n",
              "\n",
              "               function  \n",
              "0             Marketing  \n",
              "1      Customer Service  \n",
              "2               missing  \n",
              "3                 Sales  \n",
              "4  Health Care Provider  "
            ],
            "text/html": [
              "\n",
              "  <div id=\"df-9e9d4a5c-e5d9-47da-8f9b-3fdb0460726a\">\n",
              "    <div class=\"colab-df-container\">\n",
              "      <div>\n",
              "<style scoped>\n",
              "    .dataframe tbody tr th:only-of-type {\n",
              "        vertical-align: middle;\n",
              "    }\n",
              "\n",
              "    .dataframe tbody tr th {\n",
              "        vertical-align: top;\n",
              "    }\n",
              "\n",
              "    .dataframe thead th {\n",
              "        text-align: right;\n",
              "    }\n",
              "</style>\n",
              "<table border=\"1\" class=\"dataframe\">\n",
              "  <thead>\n",
              "    <tr style=\"text-align: right;\">\n",
              "      <th></th>\n",
              "      <th>telecommuting</th>\n",
              "      <th>has_company_logo</th>\n",
              "      <th>has_questions</th>\n",
              "      <th>employment_type</th>\n",
              "      <th>required_experience</th>\n",
              "      <th>required_education</th>\n",
              "      <th>industry</th>\n",
              "      <th>function</th>\n",
              "    </tr>\n",
              "  </thead>\n",
              "  <tbody>\n",
              "    <tr>\n",
              "      <th>0</th>\n",
              "      <td>0</td>\n",
              "      <td>1</td>\n",
              "      <td>0</td>\n",
              "      <td>Other</td>\n",
              "      <td>Internship</td>\n",
              "      <td>missing</td>\n",
              "      <td>missing</td>\n",
              "      <td>Marketing</td>\n",
              "    </tr>\n",
              "    <tr>\n",
              "      <th>1</th>\n",
              "      <td>0</td>\n",
              "      <td>1</td>\n",
              "      <td>0</td>\n",
              "      <td>Full-time</td>\n",
              "      <td>Not Applicable</td>\n",
              "      <td>missing</td>\n",
              "      <td>Marketing and Advertising</td>\n",
              "      <td>Customer Service</td>\n",
              "    </tr>\n",
              "    <tr>\n",
              "      <th>2</th>\n",
              "      <td>0</td>\n",
              "      <td>1</td>\n",
              "      <td>0</td>\n",
              "      <td>missing</td>\n",
              "      <td>missing</td>\n",
              "      <td>missing</td>\n",
              "      <td>missing</td>\n",
              "      <td>missing</td>\n",
              "    </tr>\n",
              "    <tr>\n",
              "      <th>3</th>\n",
              "      <td>0</td>\n",
              "      <td>1</td>\n",
              "      <td>0</td>\n",
              "      <td>Full-time</td>\n",
              "      <td>Mid-Senior level</td>\n",
              "      <td>Bachelor's Degree</td>\n",
              "      <td>Computer Software</td>\n",
              "      <td>Sales</td>\n",
              "    </tr>\n",
              "    <tr>\n",
              "      <th>4</th>\n",
              "      <td>0</td>\n",
              "      <td>1</td>\n",
              "      <td>1</td>\n",
              "      <td>Full-time</td>\n",
              "      <td>Mid-Senior level</td>\n",
              "      <td>Bachelor's Degree</td>\n",
              "      <td>Hospital &amp; Health Care</td>\n",
              "      <td>Health Care Provider</td>\n",
              "    </tr>\n",
              "  </tbody>\n",
              "</table>\n",
              "</div>\n",
              "      <button class=\"colab-df-convert\" onclick=\"convertToInteractive('df-9e9d4a5c-e5d9-47da-8f9b-3fdb0460726a')\"\n",
              "              title=\"Convert this dataframe to an interactive table.\"\n",
              "              style=\"display:none;\">\n",
              "        \n",
              "  <svg xmlns=\"http://www.w3.org/2000/svg\" height=\"24px\"viewBox=\"0 0 24 24\"\n",
              "       width=\"24px\">\n",
              "    <path d=\"M0 0h24v24H0V0z\" fill=\"none\"/>\n",
              "    <path d=\"M18.56 5.44l.94 2.06.94-2.06 2.06-.94-2.06-.94-.94-2.06-.94 2.06-2.06.94zm-11 1L8.5 8.5l.94-2.06 2.06-.94-2.06-.94L8.5 2.5l-.94 2.06-2.06.94zm10 10l.94 2.06.94-2.06 2.06-.94-2.06-.94-.94-2.06-.94 2.06-2.06.94z\"/><path d=\"M17.41 7.96l-1.37-1.37c-.4-.4-.92-.59-1.43-.59-.52 0-1.04.2-1.43.59L10.3 9.45l-7.72 7.72c-.78.78-.78 2.05 0 2.83L4 21.41c.39.39.9.59 1.41.59.51 0 1.02-.2 1.41-.59l7.78-7.78 2.81-2.81c.8-.78.8-2.07 0-2.86zM5.41 20L4 18.59l7.72-7.72 1.47 1.35L5.41 20z\"/>\n",
              "  </svg>\n",
              "      </button>\n",
              "      \n",
              "  <style>\n",
              "    .colab-df-container {\n",
              "      display:flex;\n",
              "      flex-wrap:wrap;\n",
              "      gap: 12px;\n",
              "    }\n",
              "\n",
              "    .colab-df-convert {\n",
              "      background-color: #E8F0FE;\n",
              "      border: none;\n",
              "      border-radius: 50%;\n",
              "      cursor: pointer;\n",
              "      display: none;\n",
              "      fill: #1967D2;\n",
              "      height: 32px;\n",
              "      padding: 0 0 0 0;\n",
              "      width: 32px;\n",
              "    }\n",
              "\n",
              "    .colab-df-convert:hover {\n",
              "      background-color: #E2EBFA;\n",
              "      box-shadow: 0px 1px 2px rgba(60, 64, 67, 0.3), 0px 1px 3px 1px rgba(60, 64, 67, 0.15);\n",
              "      fill: #174EA6;\n",
              "    }\n",
              "\n",
              "    [theme=dark] .colab-df-convert {\n",
              "      background-color: #3B4455;\n",
              "      fill: #D2E3FC;\n",
              "    }\n",
              "\n",
              "    [theme=dark] .colab-df-convert:hover {\n",
              "      background-color: #434B5C;\n",
              "      box-shadow: 0px 1px 3px 1px rgba(0, 0, 0, 0.15);\n",
              "      filter: drop-shadow(0px 1px 2px rgba(0, 0, 0, 0.3));\n",
              "      fill: #FFFFFF;\n",
              "    }\n",
              "  </style>\n",
              "\n",
              "      <script>\n",
              "        const buttonEl =\n",
              "          document.querySelector('#df-9e9d4a5c-e5d9-47da-8f9b-3fdb0460726a button.colab-df-convert');\n",
              "        buttonEl.style.display =\n",
              "          google.colab.kernel.accessAllowed ? 'block' : 'none';\n",
              "\n",
              "        async function convertToInteractive(key) {\n",
              "          const element = document.querySelector('#df-9e9d4a5c-e5d9-47da-8f9b-3fdb0460726a');\n",
              "          const dataTable =\n",
              "            await google.colab.kernel.invokeFunction('convertToInteractive',\n",
              "                                                     [key], {});\n",
              "          if (!dataTable) return;\n",
              "\n",
              "          const docLinkHtml = 'Like what you see? Visit the ' +\n",
              "            '<a target=\"_blank\" href=https://colab.research.google.com/notebooks/data_table.ipynb>data table notebook</a>'\n",
              "            + ' to learn more about interactive tables.';\n",
              "          element.innerHTML = '';\n",
              "          dataTable['output_type'] = 'display_data';\n",
              "          await google.colab.output.renderOutput(dataTable, element);\n",
              "          const docLink = document.createElement('div');\n",
              "          docLink.innerHTML = docLinkHtml;\n",
              "          element.appendChild(docLink);\n",
              "        }\n",
              "      </script>\n",
              "    </div>\n",
              "  </div>\n",
              "  "
            ]
          },
          "metadata": {},
          "execution_count": 22
        }
      ],
      "source": [
        "cat_data = data[[\"telecommuting\", \"has_company_logo\", \"has_questions\", \"employment_type\", \"required_experience\", \"required_education\", \"industry\", \"function\",]]\n",
        "\n",
        "cat_data.head()"
      ],
      "id": "62670462"
    },
    {
      "cell_type": "code",
      "execution_count": null,
      "metadata": {
        "colab": {
          "base_uri": "https://localhost:8080/"
        },
        "id": "1dbf9f74-ccc8-41bf-892f-7c2027888bf0",
        "outputId": "c58f3f5c-ddfd-40a8-ffa1-709f13880e2d"
      },
      "outputs": [
        {
          "output_type": "stream",
          "name": "stderr",
          "text": [
            "/usr/local/lib/python3.7/dist-packages/ipykernel_launcher.py:5: SettingWithCopyWarning: \n",
            "A value is trying to be set on a copy of a slice from a DataFrame.\n",
            "Try using .loc[row_indexer,col_indexer] = value instead\n",
            "\n",
            "See the caveats in the documentation: https://pandas.pydata.org/pandas-docs/stable/user_guide/indexing.html#returning-a-view-versus-a-copy\n",
            "  \"\"\"\n"
          ]
        }
      ],
      "source": [
        "label_columns = ['telecommuting', 'has_company_logo', 'has_questions', 'employment_type',\n",
        "       'required_experience', 'required_education', 'industry', 'function']\n",
        "lb_make = LabelEncoder()\n",
        "for i in label_columns:\n",
        "    cat_data[i] = lb_make.fit_transform(cat_data[i])"
      ],
      "id": "1dbf9f74-ccc8-41bf-892f-7c2027888bf0"
    },
    {
      "cell_type": "code",
      "execution_count": null,
      "metadata": {
        "colab": {
          "base_uri": "https://localhost:8080/",
          "height": 423
        },
        "id": "9a032162-972f-4e2a-9da1-bc03025ea16c",
        "outputId": "d5ca349f-45a9-40bd-9f5f-598ca42b62a1"
      },
      "outputs": [
        {
          "output_type": "execute_result",
          "data": {
            "text/plain": [
              "       telecommuting  has_company_logo  has_questions  employment_type  \\\n",
              "0                  0                 1              0                2   \n",
              "1                  0                 1              0                1   \n",
              "2                  0                 1              0                5   \n",
              "3                  0                 1              0                1   \n",
              "4                  0                 1              1                1   \n",
              "...              ...               ...            ...              ...   \n",
              "17875              0                 1              1                1   \n",
              "17876              0                 1              1                1   \n",
              "17877              0                 0              0                1   \n",
              "17878              0                 0              1                0   \n",
              "17879              0                 1              1                1   \n",
              "\n",
              "       required_experience  required_education  industry  function  \n",
              "0                        4                  13       131        22  \n",
              "1                        6                  13        75         7  \n",
              "2                        7                  13       131        37  \n",
              "3                        5                   1        22        31  \n",
              "4                        5                   1        51        16  \n",
              "...                    ...                 ...       ...       ...  \n",
              "17875                    5                  13        22        31  \n",
              "17876                    5                   1        61         0  \n",
              "17877                    7                  13       131        37  \n",
              "17878                    6                   6        48         9  \n",
              "17879                    5                  13        22        12  \n",
              "\n",
              "[17880 rows x 8 columns]"
            ],
            "text/html": [
              "\n",
              "  <div id=\"df-bb54d3f1-1b95-427c-9953-0c400b067e0b\">\n",
              "    <div class=\"colab-df-container\">\n",
              "      <div>\n",
              "<style scoped>\n",
              "    .dataframe tbody tr th:only-of-type {\n",
              "        vertical-align: middle;\n",
              "    }\n",
              "\n",
              "    .dataframe tbody tr th {\n",
              "        vertical-align: top;\n",
              "    }\n",
              "\n",
              "    .dataframe thead th {\n",
              "        text-align: right;\n",
              "    }\n",
              "</style>\n",
              "<table border=\"1\" class=\"dataframe\">\n",
              "  <thead>\n",
              "    <tr style=\"text-align: right;\">\n",
              "      <th></th>\n",
              "      <th>telecommuting</th>\n",
              "      <th>has_company_logo</th>\n",
              "      <th>has_questions</th>\n",
              "      <th>employment_type</th>\n",
              "      <th>required_experience</th>\n",
              "      <th>required_education</th>\n",
              "      <th>industry</th>\n",
              "      <th>function</th>\n",
              "    </tr>\n",
              "  </thead>\n",
              "  <tbody>\n",
              "    <tr>\n",
              "      <th>0</th>\n",
              "      <td>0</td>\n",
              "      <td>1</td>\n",
              "      <td>0</td>\n",
              "      <td>2</td>\n",
              "      <td>4</td>\n",
              "      <td>13</td>\n",
              "      <td>131</td>\n",
              "      <td>22</td>\n",
              "    </tr>\n",
              "    <tr>\n",
              "      <th>1</th>\n",
              "      <td>0</td>\n",
              "      <td>1</td>\n",
              "      <td>0</td>\n",
              "      <td>1</td>\n",
              "      <td>6</td>\n",
              "      <td>13</td>\n",
              "      <td>75</td>\n",
              "      <td>7</td>\n",
              "    </tr>\n",
              "    <tr>\n",
              "      <th>2</th>\n",
              "      <td>0</td>\n",
              "      <td>1</td>\n",
              "      <td>0</td>\n",
              "      <td>5</td>\n",
              "      <td>7</td>\n",
              "      <td>13</td>\n",
              "      <td>131</td>\n",
              "      <td>37</td>\n",
              "    </tr>\n",
              "    <tr>\n",
              "      <th>3</th>\n",
              "      <td>0</td>\n",
              "      <td>1</td>\n",
              "      <td>0</td>\n",
              "      <td>1</td>\n",
              "      <td>5</td>\n",
              "      <td>1</td>\n",
              "      <td>22</td>\n",
              "      <td>31</td>\n",
              "    </tr>\n",
              "    <tr>\n",
              "      <th>4</th>\n",
              "      <td>0</td>\n",
              "      <td>1</td>\n",
              "      <td>1</td>\n",
              "      <td>1</td>\n",
              "      <td>5</td>\n",
              "      <td>1</td>\n",
              "      <td>51</td>\n",
              "      <td>16</td>\n",
              "    </tr>\n",
              "    <tr>\n",
              "      <th>...</th>\n",
              "      <td>...</td>\n",
              "      <td>...</td>\n",
              "      <td>...</td>\n",
              "      <td>...</td>\n",
              "      <td>...</td>\n",
              "      <td>...</td>\n",
              "      <td>...</td>\n",
              "      <td>...</td>\n",
              "    </tr>\n",
              "    <tr>\n",
              "      <th>17875</th>\n",
              "      <td>0</td>\n",
              "      <td>1</td>\n",
              "      <td>1</td>\n",
              "      <td>1</td>\n",
              "      <td>5</td>\n",
              "      <td>13</td>\n",
              "      <td>22</td>\n",
              "      <td>31</td>\n",
              "    </tr>\n",
              "    <tr>\n",
              "      <th>17876</th>\n",
              "      <td>0</td>\n",
              "      <td>1</td>\n",
              "      <td>1</td>\n",
              "      <td>1</td>\n",
              "      <td>5</td>\n",
              "      <td>1</td>\n",
              "      <td>61</td>\n",
              "      <td>0</td>\n",
              "    </tr>\n",
              "    <tr>\n",
              "      <th>17877</th>\n",
              "      <td>0</td>\n",
              "      <td>0</td>\n",
              "      <td>0</td>\n",
              "      <td>1</td>\n",
              "      <td>7</td>\n",
              "      <td>13</td>\n",
              "      <td>131</td>\n",
              "      <td>37</td>\n",
              "    </tr>\n",
              "    <tr>\n",
              "      <th>17878</th>\n",
              "      <td>0</td>\n",
              "      <td>0</td>\n",
              "      <td>1</td>\n",
              "      <td>0</td>\n",
              "      <td>6</td>\n",
              "      <td>6</td>\n",
              "      <td>48</td>\n",
              "      <td>9</td>\n",
              "    </tr>\n",
              "    <tr>\n",
              "      <th>17879</th>\n",
              "      <td>0</td>\n",
              "      <td>1</td>\n",
              "      <td>1</td>\n",
              "      <td>1</td>\n",
              "      <td>5</td>\n",
              "      <td>13</td>\n",
              "      <td>22</td>\n",
              "      <td>12</td>\n",
              "    </tr>\n",
              "  </tbody>\n",
              "</table>\n",
              "<p>17880 rows × 8 columns</p>\n",
              "</div>\n",
              "      <button class=\"colab-df-convert\" onclick=\"convertToInteractive('df-bb54d3f1-1b95-427c-9953-0c400b067e0b')\"\n",
              "              title=\"Convert this dataframe to an interactive table.\"\n",
              "              style=\"display:none;\">\n",
              "        \n",
              "  <svg xmlns=\"http://www.w3.org/2000/svg\" height=\"24px\"viewBox=\"0 0 24 24\"\n",
              "       width=\"24px\">\n",
              "    <path d=\"M0 0h24v24H0V0z\" fill=\"none\"/>\n",
              "    <path d=\"M18.56 5.44l.94 2.06.94-2.06 2.06-.94-2.06-.94-.94-2.06-.94 2.06-2.06.94zm-11 1L8.5 8.5l.94-2.06 2.06-.94-2.06-.94L8.5 2.5l-.94 2.06-2.06.94zm10 10l.94 2.06.94-2.06 2.06-.94-2.06-.94-.94-2.06-.94 2.06-2.06.94z\"/><path d=\"M17.41 7.96l-1.37-1.37c-.4-.4-.92-.59-1.43-.59-.52 0-1.04.2-1.43.59L10.3 9.45l-7.72 7.72c-.78.78-.78 2.05 0 2.83L4 21.41c.39.39.9.59 1.41.59.51 0 1.02-.2 1.41-.59l7.78-7.78 2.81-2.81c.8-.78.8-2.07 0-2.86zM5.41 20L4 18.59l7.72-7.72 1.47 1.35L5.41 20z\"/>\n",
              "  </svg>\n",
              "      </button>\n",
              "      \n",
              "  <style>\n",
              "    .colab-df-container {\n",
              "      display:flex;\n",
              "      flex-wrap:wrap;\n",
              "      gap: 12px;\n",
              "    }\n",
              "\n",
              "    .colab-df-convert {\n",
              "      background-color: #E8F0FE;\n",
              "      border: none;\n",
              "      border-radius: 50%;\n",
              "      cursor: pointer;\n",
              "      display: none;\n",
              "      fill: #1967D2;\n",
              "      height: 32px;\n",
              "      padding: 0 0 0 0;\n",
              "      width: 32px;\n",
              "    }\n",
              "\n",
              "    .colab-df-convert:hover {\n",
              "      background-color: #E2EBFA;\n",
              "      box-shadow: 0px 1px 2px rgba(60, 64, 67, 0.3), 0px 1px 3px 1px rgba(60, 64, 67, 0.15);\n",
              "      fill: #174EA6;\n",
              "    }\n",
              "\n",
              "    [theme=dark] .colab-df-convert {\n",
              "      background-color: #3B4455;\n",
              "      fill: #D2E3FC;\n",
              "    }\n",
              "\n",
              "    [theme=dark] .colab-df-convert:hover {\n",
              "      background-color: #434B5C;\n",
              "      box-shadow: 0px 1px 3px 1px rgba(0, 0, 0, 0.15);\n",
              "      filter: drop-shadow(0px 1px 2px rgba(0, 0, 0, 0.3));\n",
              "      fill: #FFFFFF;\n",
              "    }\n",
              "  </style>\n",
              "\n",
              "      <script>\n",
              "        const buttonEl =\n",
              "          document.querySelector('#df-bb54d3f1-1b95-427c-9953-0c400b067e0b button.colab-df-convert');\n",
              "        buttonEl.style.display =\n",
              "          google.colab.kernel.accessAllowed ? 'block' : 'none';\n",
              "\n",
              "        async function convertToInteractive(key) {\n",
              "          const element = document.querySelector('#df-bb54d3f1-1b95-427c-9953-0c400b067e0b');\n",
              "          const dataTable =\n",
              "            await google.colab.kernel.invokeFunction('convertToInteractive',\n",
              "                                                     [key], {});\n",
              "          if (!dataTable) return;\n",
              "\n",
              "          const docLinkHtml = 'Like what you see? Visit the ' +\n",
              "            '<a target=\"_blank\" href=https://colab.research.google.com/notebooks/data_table.ipynb>data table notebook</a>'\n",
              "            + ' to learn more about interactive tables.';\n",
              "          element.innerHTML = '';\n",
              "          dataTable['output_type'] = 'display_data';\n",
              "          await google.colab.output.renderOutput(dataTable, element);\n",
              "          const docLink = document.createElement('div');\n",
              "          docLink.innerHTML = docLinkHtml;\n",
              "          element.appendChild(docLink);\n",
              "        }\n",
              "      </script>\n",
              "    </div>\n",
              "  </div>\n",
              "  "
            ]
          },
          "metadata": {},
          "execution_count": 24
        }
      ],
      "source": [
        "cat_data"
      ],
      "id": "9a032162-972f-4e2a-9da1-bc03025ea16c"
    },
    {
      "cell_type": "markdown",
      "metadata": {
        "id": "71424562-3cb8-4648-803c-3345d05c2be3"
      },
      "source": [
        "# Text Data Processing"
      ],
      "id": "71424562-3cb8-4648-803c-3345d05c2be3"
    },
    {
      "cell_type": "markdown",
      "metadata": {
        "id": "74ec1fe6-2f70-4513-8bc6-3b47da7166ee"
      },
      "source": [
        "## Look at text columns"
      ],
      "id": "74ec1fe6-2f70-4513-8bc6-3b47da7166ee"
    },
    {
      "cell_type": "code",
      "execution_count": null,
      "metadata": {
        "colab": {
          "base_uri": "https://localhost:8080/"
        },
        "id": "1dc18a7c",
        "outputId": "0ccb84b1-9f3f-4db7-ab18-97ddae17e4c0"
      },
      "outputs": [
        {
          "output_type": "stream",
          "name": "stdout",
          "text": [
            "17880\n",
            "17880\n",
            "0        Marketing Intern,We're Food52, and we've creat...\n",
            "1        Customer Service - Cloud Video Production,90 S...\n",
            "2        Commissioning Machinery Assistant (CMA),Valor ...\n",
            "3        Account Executive - Washington DC,Our passion ...\n",
            "4        Bill Review Manager,SpotSource Solutions LLC i...\n",
            "                               ...                        \n",
            "17875    Account Director - Distribution ,Vend is looki...\n",
            "17876    Payroll Accountant,WebLinc is the e-commerce p...\n",
            "17877    Project Cost Control Staff Engineer - Cost Con...\n",
            "17878    Graphic Designer,missing,Nemsia Studios is loo...\n",
            "17879    Web Application Developers,Vend is looking for...\n",
            "Length: 17880, dtype: object\n"
          ]
        }
      ],
      "source": [
        "text = text_data[text_data.columns[0:-1]].apply(lambda x: ','.join(x.dropna().astype(str)),axis=1)\n",
        "target = data['fraudulent']\n",
        "\n",
        "print(len(text))\n",
        "print(len(target))\n",
        "print(text)"
      ],
      "id": "1dc18a7c"
    },
    {
      "cell_type": "markdown",
      "metadata": {
        "id": "b1f7b248-f687-49c4-9ef8-a9ed099df52b"
      },
      "source": [
        "## Function for cleaning up the text data"
      ],
      "id": "b1f7b248-f687-49c4-9ef8-a9ed099df52b"
    },
    {
      "cell_type": "code",
      "execution_count": null,
      "metadata": {
        "colab": {
          "base_uri": "https://localhost:8080/"
        },
        "id": "19652780",
        "outputId": "ea59c5f8-7d22-4406-8209-e17ede5fa4f3"
      },
      "outputs": [
        {
          "output_type": "execute_result",
          "data": {
            "text/plain": [
              "0    marketing internwere  and weve created a groun...\n",
              "1    customer service  cloud video  seconds the wor...\n",
              "2    commissioning machinery assistant cmavalor ser...\n",
              "3    account executive  washington dcour passion fo...\n",
              "4    bill review managerspotsource solutions llc is...\n",
              "5    accounting clerkmissingjob overviewapex is an ...\n",
              "6    head of content mffounded in  the fonpit ag ro...\n",
              "7    lead guest service specialist   airenvy’s miss...\n",
              "8    hp bsm  is a womanowned small business whose f...\n",
              "9    customer service associate  part time novitex ...\n",
              "dtype: object"
            ]
          },
          "metadata": {},
          "execution_count": 26
        }
      ],
      "source": [
        "def clean_text(text):\n",
        "    '''Make text lowercase, remove text in square brackets,remove links,remove punctuation and remove words containing numbers.'''\n",
        "    text = text.lower() # Lower case\n",
        "    text = re.sub('\\[.*?\\]', '', text) # No text in square brackets\n",
        "    text = re.sub('https?://\\S+|www\\.\\S+', '', text) # Remove HTML links\n",
        "    text = re.sub('<.*?>+', '', text) # Remove punctuations\n",
        "    text = re.sub('[%s]' % re.escape(string.punctuation), '', text) # Remove punctuations\n",
        "    text = re.sub('\\n', '', text) # Remove new lines\n",
        "    text = re.sub('\\w*\\d\\w*', '', text) # Remove words with numbers\n",
        "    return text\n",
        "\n",
        "\n",
        "# Applying the cleaning function to both test and training datasets\n",
        "text = text.apply(lambda x: clean_text(x))\n",
        "text.head(10)\n"
      ],
      "id": "19652780"
    },
    {
      "cell_type": "markdown",
      "metadata": {
        "id": "162bf0af-672d-490c-9e2c-161d1726e9c5"
      },
      "source": [
        "## Tokenizer"
      ],
      "id": "162bf0af-672d-490c-9e2c-161d1726e9c5"
    },
    {
      "cell_type": "code",
      "execution_count": null,
      "metadata": {
        "colab": {
          "base_uri": "https://localhost:8080/"
        },
        "id": "d616c1fd-0706-45f4-8282-1bfd6e964a7c",
        "outputId": "3862eab6-af19-4a39-da97-4b451ed5182c"
      },
      "outputs": [
        {
          "output_type": "execute_result",
          "data": {
            "text/plain": [
              "0    [marketing, internwere, and, weve, created, a,...\n",
              "1    [customer, service, cloud, video, seconds, the...\n",
              "2    [commissioning, machinery, assistant, cmavalor...\n",
              "dtype: object"
            ]
          },
          "metadata": {},
          "execution_count": 27
        }
      ],
      "source": [
        "tokenizer = nltk.tokenize.RegexpTokenizer(r'\\w+')\n",
        "\n",
        "# appling tokenizer5\n",
        "text = text.apply(lambda x: tokenizer.tokenize(x))\n",
        "text.head(3)"
      ],
      "id": "d616c1fd-0706-45f4-8282-1bfd6e964a7c"
    },
    {
      "cell_type": "markdown",
      "metadata": {
        "id": "2e90661b-3d96-4915-a9bb-70d6095b7227"
      },
      "source": [
        "## Removing stopwords in English"
      ],
      "id": "2e90661b-3d96-4915-a9bb-70d6095b7227"
    },
    {
      "cell_type": "code",
      "execution_count": null,
      "metadata": {
        "colab": {
          "base_uri": "https://localhost:8080/"
        },
        "id": "41fed5ac-fb71-4548-a5ed-d42afe205865",
        "outputId": "76b0ac7a-a517-4100-f8bb-297cdace53dd"
      },
      "outputs": [
        {
          "output_type": "stream",
          "name": "stdout",
          "text": [
            "[nltk_data] Downloading package stopwords to /root/nltk_data...\n",
            "[nltk_data]   Unzipping corpora/stopwords.zip.\n"
          ]
        },
        {
          "output_type": "execute_result",
          "data": {
            "text/plain": [
              "True"
            ]
          },
          "metadata": {},
          "execution_count": 28
        }
      ],
      "source": [
        "nltk.download('stopwords')"
      ],
      "id": "41fed5ac-fb71-4548-a5ed-d42afe205865"
    },
    {
      "cell_type": "code",
      "execution_count": null,
      "metadata": {
        "colab": {
          "base_uri": "https://localhost:8080/"
        },
        "id": "4e9f4f62",
        "outputId": "788363b9-98aa-4664-fd74-0343de542e25"
      },
      "outputs": [
        {
          "output_type": "stream",
          "name": "stdout",
          "text": [
            "['i', 'me', 'my', 'myself', 'we', 'our', 'ours', 'ourselves', 'you', \"you're\", \"you've\", \"you'll\", \"you'd\", 'your', 'yours', 'yourself', 'yourselves', 'he', 'him', 'his', 'himself', 'she', \"she's\", 'her', 'hers', 'herself', 'it', \"it's\", 'its', 'itself', 'they', 'them', 'their', 'theirs', 'themselves', 'what', 'which', 'who', 'whom', 'this', 'that', \"that'll\", 'these', 'those', 'am', 'is', 'are', 'was', 'were', 'be', 'been', 'being', 'have', 'has', 'had', 'having', 'do', 'does', 'did', 'doing', 'a', 'an', 'the', 'and', 'but', 'if', 'or', 'because', 'as', 'until', 'while', 'of', 'at', 'by', 'for', 'with', 'about', 'against', 'between', 'into', 'through', 'during', 'before', 'after', 'above', 'below', 'to', 'from', 'up', 'down', 'in', 'out', 'on', 'off', 'over', 'under', 'again', 'further', 'then', 'once', 'here', 'there', 'when', 'where', 'why', 'how', 'all', 'any', 'both', 'each', 'few', 'more', 'most', 'other', 'some', 'such', 'no', 'nor', 'not', 'only', 'own', 'same', 'so', 'than', 'too', 'very', 's', 't', 'can', 'will', 'just', 'don', \"don't\", 'should', \"should've\", 'now', 'd', 'll', 'm', 'o', 're', 've', 'y', 'ain', 'aren', \"aren't\", 'couldn', \"couldn't\", 'didn', \"didn't\", 'doesn', \"doesn't\", 'hadn', \"hadn't\", 'hasn', \"hasn't\", 'haven', \"haven't\", 'isn', \"isn't\", 'ma', 'mightn', \"mightn't\", 'mustn', \"mustn't\", 'needn', \"needn't\", 'shan', \"shan't\", 'shouldn', \"shouldn't\", 'wasn', \"wasn't\", 'weren', \"weren't\", 'won', \"won't\", 'wouldn', \"wouldn't\"]\n"
          ]
        }
      ],
      "source": [
        "stop = stopwords.words('english')\n",
        "print(stop)"
      ],
      "id": "4e9f4f62"
    },
    {
      "cell_type": "code",
      "execution_count": null,
      "metadata": {
        "id": "57027046-c314-40b1-860a-80ed5b2704e4"
      },
      "outputs": [],
      "source": [
        "stop_words = stopwords.words('english')\n",
        "def remove_stopwords(text):\n",
        "    \"\"\"\n",
        "    Removing stopwords belonging to english language\n",
        "\n",
        "    \"\"\"\n",
        "    words = [w for w in text if w not in stop_words]\n",
        "    return words\n",
        "\n",
        "\n",
        "text = text.apply(lambda x : remove_stopwords(x))"
      ],
      "id": "57027046-c314-40b1-860a-80ed5b2704e4"
    },
    {
      "cell_type": "code",
      "execution_count": null,
      "metadata": {
        "id": "792cd331-166e-458e-8e18-50abca41d135",
        "colab": {
          "base_uri": "https://localhost:8080/"
        },
        "outputId": "b5bd0993-43df-4934-a425-85f5e5684e9f"
      },
      "outputs": [
        {
          "output_type": "execute_result",
          "data": {
            "text/plain": [
              "0        [marketing, internwere, weve, created, groundb...\n",
              "1        [customer, service, cloud, video, seconds, wor...\n",
              "2        [commissioning, machinery, assistant, cmavalor...\n",
              "3        [account, executive, washington, dcour, passio...\n",
              "4        [bill, review, managerspotsource, solutions, l...\n",
              "                               ...                        \n",
              "17875    [account, director, distribution, vend, lookin...\n",
              "17876    [payroll, accountantweblinc, ecommerce, platfo...\n",
              "17877    [project, cost, control, staff, engineer, cost...\n",
              "17878    [graphic, designermissingnemsia, studios, look...\n",
              "17879    [web, application, developersvend, looking, aw...\n",
              "Length: 17880, dtype: object"
            ]
          },
          "metadata": {},
          "execution_count": 31
        }
      ],
      "source": [
        "text"
      ],
      "id": "792cd331-166e-458e-8e18-50abca41d135"
    },
    {
      "cell_type": "code",
      "execution_count": null,
      "metadata": {
        "colab": {
          "base_uri": "https://localhost:8080/"
        },
        "id": "526d7568",
        "outputId": "1ca549ba-159c-4a33-9c8f-86c919dda62c"
      },
      "outputs": [
        {
          "output_type": "execute_result",
          "data": {
            "text/plain": [
              "0        [marketing, internwere, weve, created, groundb...\n",
              "1        [customer, service, cloud, video, seconds, wor...\n",
              "2        [commissioning, machinery, assistant, cmavalor...\n",
              "3        [account, executive, washington, dcour, passio...\n",
              "4        [bill, review, managerspotsource, solutions, l...\n",
              "                               ...                        \n",
              "17875    [account, director, distribution, vend, lookin...\n",
              "17876    [payroll, accountantweblinc, ecommerce, platfo...\n",
              "17877    [project, cost, control, staff, engineer, cost...\n",
              "17878    [graphic, designermissingnemsia, studios, look...\n",
              "17879    [web, application, developersvend, looking, aw...\n",
              "Length: 17880, dtype: object"
            ]
          },
          "metadata": {},
          "execution_count": 32
        }
      ],
      "source": [
        "text.apply(lambda x: [item for item in x if item not in stop])"
      ],
      "id": "526d7568"
    },
    {
      "cell_type": "markdown",
      "metadata": {
        "id": "d47430fc-8e07-4f5b-ae2d-f5e380fb2bf0"
      },
      "source": [
        "## Lemmatization"
      ],
      "id": "d47430fc-8e07-4f5b-ae2d-f5e380fb2bf0"
    },
    {
      "cell_type": "code",
      "execution_count": null,
      "metadata": {
        "colab": {
          "base_uri": "https://localhost:8080/"
        },
        "id": "91ed0ddc-25c6-4865-a033-5b2ef4b06b9c",
        "outputId": "be8bf190-f230-4720-acd3-5ce003b55612"
      },
      "outputs": [
        {
          "output_type": "stream",
          "name": "stdout",
          "text": [
            "[nltk_data] Downloading package wordnet to /root/nltk_data...\n",
            "[nltk_data]   Unzipping corpora/wordnet.zip.\n"
          ]
        },
        {
          "output_type": "execute_result",
          "data": {
            "text/plain": [
              "True"
            ]
          },
          "metadata": {},
          "execution_count": 33
        }
      ],
      "source": [
        "nltk.download('wordnet')"
      ],
      "id": "91ed0ddc-25c6-4865-a033-5b2ef4b06b9c"
    },
    {
      "cell_type": "code",
      "execution_count": null,
      "metadata": {
        "id": "c0eb70b2-07d8-4853-9dbc-70042133955c"
      },
      "outputs": [],
      "source": [
        "new_text = pd.DataFrame(text, columns = ['texts'])"
      ],
      "id": "c0eb70b2-07d8-4853-9dbc-70042133955c"
    },
    {
      "cell_type": "code",
      "execution_count": null,
      "metadata": {
        "colab": {
          "base_uri": "https://localhost:8080/",
          "height": 423
        },
        "id": "e892db92-3635-41e8-8fbb-363ddec66e9d",
        "outputId": "425676e2-a2b1-480d-99c5-6bc97a64c5d8"
      },
      "outputs": [
        {
          "output_type": "execute_result",
          "data": {
            "text/plain": [
              "                                                   texts\n",
              "0      [marketing, internwere, weve, created, groundb...\n",
              "1      [customer, service, cloud, video, seconds, wor...\n",
              "2      [commissioning, machinery, assistant, cmavalor...\n",
              "3      [account, executive, washington, dcour, passio...\n",
              "4      [bill, review, managerspotsource, solutions, l...\n",
              "...                                                  ...\n",
              "17875  [account, director, distribution, vend, lookin...\n",
              "17876  [payroll, accountantweblinc, ecommerce, platfo...\n",
              "17877  [project, cost, control, staff, engineer, cost...\n",
              "17878  [graphic, designermissingnemsia, studios, look...\n",
              "17879  [web, application, developersvend, looking, aw...\n",
              "\n",
              "[17880 rows x 1 columns]"
            ],
            "text/html": [
              "\n",
              "  <div id=\"df-9b8f94b6-cdca-46f4-85f0-3255b71cf044\">\n",
              "    <div class=\"colab-df-container\">\n",
              "      <div>\n",
              "<style scoped>\n",
              "    .dataframe tbody tr th:only-of-type {\n",
              "        vertical-align: middle;\n",
              "    }\n",
              "\n",
              "    .dataframe tbody tr th {\n",
              "        vertical-align: top;\n",
              "    }\n",
              "\n",
              "    .dataframe thead th {\n",
              "        text-align: right;\n",
              "    }\n",
              "</style>\n",
              "<table border=\"1\" class=\"dataframe\">\n",
              "  <thead>\n",
              "    <tr style=\"text-align: right;\">\n",
              "      <th></th>\n",
              "      <th>texts</th>\n",
              "    </tr>\n",
              "  </thead>\n",
              "  <tbody>\n",
              "    <tr>\n",
              "      <th>0</th>\n",
              "      <td>[marketing, internwere, weve, created, groundb...</td>\n",
              "    </tr>\n",
              "    <tr>\n",
              "      <th>1</th>\n",
              "      <td>[customer, service, cloud, video, seconds, wor...</td>\n",
              "    </tr>\n",
              "    <tr>\n",
              "      <th>2</th>\n",
              "      <td>[commissioning, machinery, assistant, cmavalor...</td>\n",
              "    </tr>\n",
              "    <tr>\n",
              "      <th>3</th>\n",
              "      <td>[account, executive, washington, dcour, passio...</td>\n",
              "    </tr>\n",
              "    <tr>\n",
              "      <th>4</th>\n",
              "      <td>[bill, review, managerspotsource, solutions, l...</td>\n",
              "    </tr>\n",
              "    <tr>\n",
              "      <th>...</th>\n",
              "      <td>...</td>\n",
              "    </tr>\n",
              "    <tr>\n",
              "      <th>17875</th>\n",
              "      <td>[account, director, distribution, vend, lookin...</td>\n",
              "    </tr>\n",
              "    <tr>\n",
              "      <th>17876</th>\n",
              "      <td>[payroll, accountantweblinc, ecommerce, platfo...</td>\n",
              "    </tr>\n",
              "    <tr>\n",
              "      <th>17877</th>\n",
              "      <td>[project, cost, control, staff, engineer, cost...</td>\n",
              "    </tr>\n",
              "    <tr>\n",
              "      <th>17878</th>\n",
              "      <td>[graphic, designermissingnemsia, studios, look...</td>\n",
              "    </tr>\n",
              "    <tr>\n",
              "      <th>17879</th>\n",
              "      <td>[web, application, developersvend, looking, aw...</td>\n",
              "    </tr>\n",
              "  </tbody>\n",
              "</table>\n",
              "<p>17880 rows × 1 columns</p>\n",
              "</div>\n",
              "      <button class=\"colab-df-convert\" onclick=\"convertToInteractive('df-9b8f94b6-cdca-46f4-85f0-3255b71cf044')\"\n",
              "              title=\"Convert this dataframe to an interactive table.\"\n",
              "              style=\"display:none;\">\n",
              "        \n",
              "  <svg xmlns=\"http://www.w3.org/2000/svg\" height=\"24px\"viewBox=\"0 0 24 24\"\n",
              "       width=\"24px\">\n",
              "    <path d=\"M0 0h24v24H0V0z\" fill=\"none\"/>\n",
              "    <path d=\"M18.56 5.44l.94 2.06.94-2.06 2.06-.94-2.06-.94-.94-2.06-.94 2.06-2.06.94zm-11 1L8.5 8.5l.94-2.06 2.06-.94-2.06-.94L8.5 2.5l-.94 2.06-2.06.94zm10 10l.94 2.06.94-2.06 2.06-.94-2.06-.94-.94-2.06-.94 2.06-2.06.94z\"/><path d=\"M17.41 7.96l-1.37-1.37c-.4-.4-.92-.59-1.43-.59-.52 0-1.04.2-1.43.59L10.3 9.45l-7.72 7.72c-.78.78-.78 2.05 0 2.83L4 21.41c.39.39.9.59 1.41.59.51 0 1.02-.2 1.41-.59l7.78-7.78 2.81-2.81c.8-.78.8-2.07 0-2.86zM5.41 20L4 18.59l7.72-7.72 1.47 1.35L5.41 20z\"/>\n",
              "  </svg>\n",
              "      </button>\n",
              "      \n",
              "  <style>\n",
              "    .colab-df-container {\n",
              "      display:flex;\n",
              "      flex-wrap:wrap;\n",
              "      gap: 12px;\n",
              "    }\n",
              "\n",
              "    .colab-df-convert {\n",
              "      background-color: #E8F0FE;\n",
              "      border: none;\n",
              "      border-radius: 50%;\n",
              "      cursor: pointer;\n",
              "      display: none;\n",
              "      fill: #1967D2;\n",
              "      height: 32px;\n",
              "      padding: 0 0 0 0;\n",
              "      width: 32px;\n",
              "    }\n",
              "\n",
              "    .colab-df-convert:hover {\n",
              "      background-color: #E2EBFA;\n",
              "      box-shadow: 0px 1px 2px rgba(60, 64, 67, 0.3), 0px 1px 3px 1px rgba(60, 64, 67, 0.15);\n",
              "      fill: #174EA6;\n",
              "    }\n",
              "\n",
              "    [theme=dark] .colab-df-convert {\n",
              "      background-color: #3B4455;\n",
              "      fill: #D2E3FC;\n",
              "    }\n",
              "\n",
              "    [theme=dark] .colab-df-convert:hover {\n",
              "      background-color: #434B5C;\n",
              "      box-shadow: 0px 1px 3px 1px rgba(0, 0, 0, 0.15);\n",
              "      filter: drop-shadow(0px 1px 2px rgba(0, 0, 0, 0.3));\n",
              "      fill: #FFFFFF;\n",
              "    }\n",
              "  </style>\n",
              "\n",
              "      <script>\n",
              "        const buttonEl =\n",
              "          document.querySelector('#df-9b8f94b6-cdca-46f4-85f0-3255b71cf044 button.colab-df-convert');\n",
              "        buttonEl.style.display =\n",
              "          google.colab.kernel.accessAllowed ? 'block' : 'none';\n",
              "\n",
              "        async function convertToInteractive(key) {\n",
              "          const element = document.querySelector('#df-9b8f94b6-cdca-46f4-85f0-3255b71cf044');\n",
              "          const dataTable =\n",
              "            await google.colab.kernel.invokeFunction('convertToInteractive',\n",
              "                                                     [key], {});\n",
              "          if (!dataTable) return;\n",
              "\n",
              "          const docLinkHtml = 'Like what you see? Visit the ' +\n",
              "            '<a target=\"_blank\" href=https://colab.research.google.com/notebooks/data_table.ipynb>data table notebook</a>'\n",
              "            + ' to learn more about interactive tables.';\n",
              "          element.innerHTML = '';\n",
              "          dataTable['output_type'] = 'display_data';\n",
              "          await google.colab.output.renderOutput(dataTable, element);\n",
              "          const docLink = document.createElement('div');\n",
              "          docLink.innerHTML = docLinkHtml;\n",
              "          element.appendChild(docLink);\n",
              "        }\n",
              "      </script>\n",
              "    </div>\n",
              "  </div>\n",
              "  "
            ]
          },
          "metadata": {},
          "execution_count": 35
        }
      ],
      "source": [
        "new_text"
      ],
      "id": "e892db92-3635-41e8-8fbb-363ddec66e9d"
    },
    {
      "cell_type": "code",
      "execution_count": null,
      "metadata": {
        "id": "30115264-00fa-429c-8024-636a2c89fda2"
      },
      "outputs": [],
      "source": [
        "tokenizer = nltk.tokenize.WhitespaceTokenizer()\n",
        "lemmatizer = nltk.stem.WordNetLemmatizer()\n",
        "\n",
        "def lemmatization(text):\n",
        "    return [lemmatizer.lemmatize(x) for x in text]\n",
        "\n",
        "new_text['text_lemmatized'] = new_text.texts.apply(lemmatization)"
      ],
      "id": "30115264-00fa-429c-8024-636a2c89fda2"
    },
    {
      "cell_type": "code",
      "execution_count": null,
      "metadata": {
        "colab": {
          "base_uri": "https://localhost:8080/",
          "height": 423
        },
        "id": "a7818e59-46f9-43a3-8441-2061a30f939e",
        "outputId": "c279107d-43cd-49f9-fbd4-c7609188a41e"
      },
      "outputs": [
        {
          "output_type": "execute_result",
          "data": {
            "text/plain": [
              "                                                   texts  \\\n",
              "0      [marketing, internwere, weve, created, groundb...   \n",
              "1      [customer, service, cloud, video, seconds, wor...   \n",
              "2      [commissioning, machinery, assistant, cmavalor...   \n",
              "3      [account, executive, washington, dcour, passio...   \n",
              "4      [bill, review, managerspotsource, solutions, l...   \n",
              "...                                                  ...   \n",
              "17875  [account, director, distribution, vend, lookin...   \n",
              "17876  [payroll, accountantweblinc, ecommerce, platfo...   \n",
              "17877  [project, cost, control, staff, engineer, cost...   \n",
              "17878  [graphic, designermissingnemsia, studios, look...   \n",
              "17879  [web, application, developersvend, looking, aw...   \n",
              "\n",
              "                                         text_lemmatized  \n",
              "0      [marketing, internwere, weve, created, groundb...  \n",
              "1      [customer, service, cloud, video, second, worl...  \n",
              "2      [commissioning, machinery, assistant, cmavalor...  \n",
              "3      [account, executive, washington, dcour, passio...  \n",
              "4      [bill, review, managerspotsource, solution, ll...  \n",
              "...                                                  ...  \n",
              "17875  [account, director, distribution, vend, lookin...  \n",
              "17876  [payroll, accountantweblinc, ecommerce, platfo...  \n",
              "17877  [project, cost, control, staff, engineer, cost...  \n",
              "17878  [graphic, designermissingnemsia, studio, looki...  \n",
              "17879  [web, application, developersvend, looking, aw...  \n",
              "\n",
              "[17880 rows x 2 columns]"
            ],
            "text/html": [
              "\n",
              "  <div id=\"df-97b0b23e-fde2-4a82-a7d2-0f7d540a38f4\">\n",
              "    <div class=\"colab-df-container\">\n",
              "      <div>\n",
              "<style scoped>\n",
              "    .dataframe tbody tr th:only-of-type {\n",
              "        vertical-align: middle;\n",
              "    }\n",
              "\n",
              "    .dataframe tbody tr th {\n",
              "        vertical-align: top;\n",
              "    }\n",
              "\n",
              "    .dataframe thead th {\n",
              "        text-align: right;\n",
              "    }\n",
              "</style>\n",
              "<table border=\"1\" class=\"dataframe\">\n",
              "  <thead>\n",
              "    <tr style=\"text-align: right;\">\n",
              "      <th></th>\n",
              "      <th>texts</th>\n",
              "      <th>text_lemmatized</th>\n",
              "    </tr>\n",
              "  </thead>\n",
              "  <tbody>\n",
              "    <tr>\n",
              "      <th>0</th>\n",
              "      <td>[marketing, internwere, weve, created, groundb...</td>\n",
              "      <td>[marketing, internwere, weve, created, groundb...</td>\n",
              "    </tr>\n",
              "    <tr>\n",
              "      <th>1</th>\n",
              "      <td>[customer, service, cloud, video, seconds, wor...</td>\n",
              "      <td>[customer, service, cloud, video, second, worl...</td>\n",
              "    </tr>\n",
              "    <tr>\n",
              "      <th>2</th>\n",
              "      <td>[commissioning, machinery, assistant, cmavalor...</td>\n",
              "      <td>[commissioning, machinery, assistant, cmavalor...</td>\n",
              "    </tr>\n",
              "    <tr>\n",
              "      <th>3</th>\n",
              "      <td>[account, executive, washington, dcour, passio...</td>\n",
              "      <td>[account, executive, washington, dcour, passio...</td>\n",
              "    </tr>\n",
              "    <tr>\n",
              "      <th>4</th>\n",
              "      <td>[bill, review, managerspotsource, solutions, l...</td>\n",
              "      <td>[bill, review, managerspotsource, solution, ll...</td>\n",
              "    </tr>\n",
              "    <tr>\n",
              "      <th>...</th>\n",
              "      <td>...</td>\n",
              "      <td>...</td>\n",
              "    </tr>\n",
              "    <tr>\n",
              "      <th>17875</th>\n",
              "      <td>[account, director, distribution, vend, lookin...</td>\n",
              "      <td>[account, director, distribution, vend, lookin...</td>\n",
              "    </tr>\n",
              "    <tr>\n",
              "      <th>17876</th>\n",
              "      <td>[payroll, accountantweblinc, ecommerce, platfo...</td>\n",
              "      <td>[payroll, accountantweblinc, ecommerce, platfo...</td>\n",
              "    </tr>\n",
              "    <tr>\n",
              "      <th>17877</th>\n",
              "      <td>[project, cost, control, staff, engineer, cost...</td>\n",
              "      <td>[project, cost, control, staff, engineer, cost...</td>\n",
              "    </tr>\n",
              "    <tr>\n",
              "      <th>17878</th>\n",
              "      <td>[graphic, designermissingnemsia, studios, look...</td>\n",
              "      <td>[graphic, designermissingnemsia, studio, looki...</td>\n",
              "    </tr>\n",
              "    <tr>\n",
              "      <th>17879</th>\n",
              "      <td>[web, application, developersvend, looking, aw...</td>\n",
              "      <td>[web, application, developersvend, looking, aw...</td>\n",
              "    </tr>\n",
              "  </tbody>\n",
              "</table>\n",
              "<p>17880 rows × 2 columns</p>\n",
              "</div>\n",
              "      <button class=\"colab-df-convert\" onclick=\"convertToInteractive('df-97b0b23e-fde2-4a82-a7d2-0f7d540a38f4')\"\n",
              "              title=\"Convert this dataframe to an interactive table.\"\n",
              "              style=\"display:none;\">\n",
              "        \n",
              "  <svg xmlns=\"http://www.w3.org/2000/svg\" height=\"24px\"viewBox=\"0 0 24 24\"\n",
              "       width=\"24px\">\n",
              "    <path d=\"M0 0h24v24H0V0z\" fill=\"none\"/>\n",
              "    <path d=\"M18.56 5.44l.94 2.06.94-2.06 2.06-.94-2.06-.94-.94-2.06-.94 2.06-2.06.94zm-11 1L8.5 8.5l.94-2.06 2.06-.94-2.06-.94L8.5 2.5l-.94 2.06-2.06.94zm10 10l.94 2.06.94-2.06 2.06-.94-2.06-.94-.94-2.06-.94 2.06-2.06.94z\"/><path d=\"M17.41 7.96l-1.37-1.37c-.4-.4-.92-.59-1.43-.59-.52 0-1.04.2-1.43.59L10.3 9.45l-7.72 7.72c-.78.78-.78 2.05 0 2.83L4 21.41c.39.39.9.59 1.41.59.51 0 1.02-.2 1.41-.59l7.78-7.78 2.81-2.81c.8-.78.8-2.07 0-2.86zM5.41 20L4 18.59l7.72-7.72 1.47 1.35L5.41 20z\"/>\n",
              "  </svg>\n",
              "      </button>\n",
              "      \n",
              "  <style>\n",
              "    .colab-df-container {\n",
              "      display:flex;\n",
              "      flex-wrap:wrap;\n",
              "      gap: 12px;\n",
              "    }\n",
              "\n",
              "    .colab-df-convert {\n",
              "      background-color: #E8F0FE;\n",
              "      border: none;\n",
              "      border-radius: 50%;\n",
              "      cursor: pointer;\n",
              "      display: none;\n",
              "      fill: #1967D2;\n",
              "      height: 32px;\n",
              "      padding: 0 0 0 0;\n",
              "      width: 32px;\n",
              "    }\n",
              "\n",
              "    .colab-df-convert:hover {\n",
              "      background-color: #E2EBFA;\n",
              "      box-shadow: 0px 1px 2px rgba(60, 64, 67, 0.3), 0px 1px 3px 1px rgba(60, 64, 67, 0.15);\n",
              "      fill: #174EA6;\n",
              "    }\n",
              "\n",
              "    [theme=dark] .colab-df-convert {\n",
              "      background-color: #3B4455;\n",
              "      fill: #D2E3FC;\n",
              "    }\n",
              "\n",
              "    [theme=dark] .colab-df-convert:hover {\n",
              "      background-color: #434B5C;\n",
              "      box-shadow: 0px 1px 3px 1px rgba(0, 0, 0, 0.15);\n",
              "      filter: drop-shadow(0px 1px 2px rgba(0, 0, 0, 0.3));\n",
              "      fill: #FFFFFF;\n",
              "    }\n",
              "  </style>\n",
              "\n",
              "      <script>\n",
              "        const buttonEl =\n",
              "          document.querySelector('#df-97b0b23e-fde2-4a82-a7d2-0f7d540a38f4 button.colab-df-convert');\n",
              "        buttonEl.style.display =\n",
              "          google.colab.kernel.accessAllowed ? 'block' : 'none';\n",
              "\n",
              "        async function convertToInteractive(key) {\n",
              "          const element = document.querySelector('#df-97b0b23e-fde2-4a82-a7d2-0f7d540a38f4');\n",
              "          const dataTable =\n",
              "            await google.colab.kernel.invokeFunction('convertToInteractive',\n",
              "                                                     [key], {});\n",
              "          if (!dataTable) return;\n",
              "\n",
              "          const docLinkHtml = 'Like what you see? Visit the ' +\n",
              "            '<a target=\"_blank\" href=https://colab.research.google.com/notebooks/data_table.ipynb>data table notebook</a>'\n",
              "            + ' to learn more about interactive tables.';\n",
              "          element.innerHTML = '';\n",
              "          dataTable['output_type'] = 'display_data';\n",
              "          await google.colab.output.renderOutput(dataTable, element);\n",
              "          const docLink = document.createElement('div');\n",
              "          docLink.innerHTML = docLinkHtml;\n",
              "          element.appendChild(docLink);\n",
              "        }\n",
              "      </script>\n",
              "    </div>\n",
              "  </div>\n",
              "  "
            ]
          },
          "metadata": {},
          "execution_count": 37
        }
      ],
      "source": [
        "new_text"
      ],
      "id": "a7818e59-46f9-43a3-8441-2061a30f939e"
    },
    {
      "cell_type": "markdown",
      "metadata": {
        "id": "58f0e09d-c7d5-4315-acbf-a09ae5f08732"
      },
      "source": [
        "## Combine Text"
      ],
      "id": "58f0e09d-c7d5-4315-acbf-a09ae5f08732"
    },
    {
      "cell_type": "code",
      "execution_count": null,
      "metadata": {
        "id": "b6db1644-bfe8-4094-8763-6242a3b91f16"
      },
      "outputs": [],
      "source": [
        "new_text['lemmatize'] = new_text['text_lemmatized'].apply(lambda x: ' '.join(word for word in x))"
      ],
      "id": "b6db1644-bfe8-4094-8763-6242a3b91f16"
    },
    {
      "cell_type": "code",
      "execution_count": null,
      "metadata": {
        "colab": {
          "base_uri": "https://localhost:8080/",
          "height": 423
        },
        "id": "38ec696b-637f-4692-9d09-62068aa41989",
        "outputId": "32296dd0-5d78-4be4-e909-3b0b20b5b9f5"
      },
      "outputs": [
        {
          "output_type": "execute_result",
          "data": {
            "text/plain": [
              "                                                   texts  \\\n",
              "0      [marketing, internwere, weve, created, groundb...   \n",
              "1      [customer, service, cloud, video, seconds, wor...   \n",
              "2      [commissioning, machinery, assistant, cmavalor...   \n",
              "3      [account, executive, washington, dcour, passio...   \n",
              "4      [bill, review, managerspotsource, solutions, l...   \n",
              "...                                                  ...   \n",
              "17875  [account, director, distribution, vend, lookin...   \n",
              "17876  [payroll, accountantweblinc, ecommerce, platfo...   \n",
              "17877  [project, cost, control, staff, engineer, cost...   \n",
              "17878  [graphic, designermissingnemsia, studios, look...   \n",
              "17879  [web, application, developersvend, looking, aw...   \n",
              "\n",
              "                                         text_lemmatized  \\\n",
              "0      [marketing, internwere, weve, created, groundb...   \n",
              "1      [customer, service, cloud, video, second, worl...   \n",
              "2      [commissioning, machinery, assistant, cmavalor...   \n",
              "3      [account, executive, washington, dcour, passio...   \n",
              "4      [bill, review, managerspotsource, solution, ll...   \n",
              "...                                                  ...   \n",
              "17875  [account, director, distribution, vend, lookin...   \n",
              "17876  [payroll, accountantweblinc, ecommerce, platfo...   \n",
              "17877  [project, cost, control, staff, engineer, cost...   \n",
              "17878  [graphic, designermissingnemsia, studio, looki...   \n",
              "17879  [web, application, developersvend, looking, aw...   \n",
              "\n",
              "                                               lemmatize  \n",
              "0      marketing internwere weve created groundbreaki...  \n",
              "1      customer service cloud video second world clou...  \n",
              "2      commissioning machinery assistant cmavalor ser...  \n",
              "3      account executive washington dcour passion imp...  \n",
              "4      bill review managerspotsource solution llc glo...  \n",
              "...                                                  ...  \n",
              "17875  account director distribution vend looking awe...  \n",
              "17876  payroll accountantweblinc ecommerce platform s...  \n",
              "17877  project cost control staff engineer cost contr...  \n",
              "17878  graphic designermissingnemsia studio looking e...  \n",
              "17879  web application developersvend looking awesome...  \n",
              "\n",
              "[17880 rows x 3 columns]"
            ],
            "text/html": [
              "\n",
              "  <div id=\"df-bf8137ee-b11f-4008-92ab-c8c93641607b\">\n",
              "    <div class=\"colab-df-container\">\n",
              "      <div>\n",
              "<style scoped>\n",
              "    .dataframe tbody tr th:only-of-type {\n",
              "        vertical-align: middle;\n",
              "    }\n",
              "\n",
              "    .dataframe tbody tr th {\n",
              "        vertical-align: top;\n",
              "    }\n",
              "\n",
              "    .dataframe thead th {\n",
              "        text-align: right;\n",
              "    }\n",
              "</style>\n",
              "<table border=\"1\" class=\"dataframe\">\n",
              "  <thead>\n",
              "    <tr style=\"text-align: right;\">\n",
              "      <th></th>\n",
              "      <th>texts</th>\n",
              "      <th>text_lemmatized</th>\n",
              "      <th>lemmatize</th>\n",
              "    </tr>\n",
              "  </thead>\n",
              "  <tbody>\n",
              "    <tr>\n",
              "      <th>0</th>\n",
              "      <td>[marketing, internwere, weve, created, groundb...</td>\n",
              "      <td>[marketing, internwere, weve, created, groundb...</td>\n",
              "      <td>marketing internwere weve created groundbreaki...</td>\n",
              "    </tr>\n",
              "    <tr>\n",
              "      <th>1</th>\n",
              "      <td>[customer, service, cloud, video, seconds, wor...</td>\n",
              "      <td>[customer, service, cloud, video, second, worl...</td>\n",
              "      <td>customer service cloud video second world clou...</td>\n",
              "    </tr>\n",
              "    <tr>\n",
              "      <th>2</th>\n",
              "      <td>[commissioning, machinery, assistant, cmavalor...</td>\n",
              "      <td>[commissioning, machinery, assistant, cmavalor...</td>\n",
              "      <td>commissioning machinery assistant cmavalor ser...</td>\n",
              "    </tr>\n",
              "    <tr>\n",
              "      <th>3</th>\n",
              "      <td>[account, executive, washington, dcour, passio...</td>\n",
              "      <td>[account, executive, washington, dcour, passio...</td>\n",
              "      <td>account executive washington dcour passion imp...</td>\n",
              "    </tr>\n",
              "    <tr>\n",
              "      <th>4</th>\n",
              "      <td>[bill, review, managerspotsource, solutions, l...</td>\n",
              "      <td>[bill, review, managerspotsource, solution, ll...</td>\n",
              "      <td>bill review managerspotsource solution llc glo...</td>\n",
              "    </tr>\n",
              "    <tr>\n",
              "      <th>...</th>\n",
              "      <td>...</td>\n",
              "      <td>...</td>\n",
              "      <td>...</td>\n",
              "    </tr>\n",
              "    <tr>\n",
              "      <th>17875</th>\n",
              "      <td>[account, director, distribution, vend, lookin...</td>\n",
              "      <td>[account, director, distribution, vend, lookin...</td>\n",
              "      <td>account director distribution vend looking awe...</td>\n",
              "    </tr>\n",
              "    <tr>\n",
              "      <th>17876</th>\n",
              "      <td>[payroll, accountantweblinc, ecommerce, platfo...</td>\n",
              "      <td>[payroll, accountantweblinc, ecommerce, platfo...</td>\n",
              "      <td>payroll accountantweblinc ecommerce platform s...</td>\n",
              "    </tr>\n",
              "    <tr>\n",
              "      <th>17877</th>\n",
              "      <td>[project, cost, control, staff, engineer, cost...</td>\n",
              "      <td>[project, cost, control, staff, engineer, cost...</td>\n",
              "      <td>project cost control staff engineer cost contr...</td>\n",
              "    </tr>\n",
              "    <tr>\n",
              "      <th>17878</th>\n",
              "      <td>[graphic, designermissingnemsia, studios, look...</td>\n",
              "      <td>[graphic, designermissingnemsia, studio, looki...</td>\n",
              "      <td>graphic designermissingnemsia studio looking e...</td>\n",
              "    </tr>\n",
              "    <tr>\n",
              "      <th>17879</th>\n",
              "      <td>[web, application, developersvend, looking, aw...</td>\n",
              "      <td>[web, application, developersvend, looking, aw...</td>\n",
              "      <td>web application developersvend looking awesome...</td>\n",
              "    </tr>\n",
              "  </tbody>\n",
              "</table>\n",
              "<p>17880 rows × 3 columns</p>\n",
              "</div>\n",
              "      <button class=\"colab-df-convert\" onclick=\"convertToInteractive('df-bf8137ee-b11f-4008-92ab-c8c93641607b')\"\n",
              "              title=\"Convert this dataframe to an interactive table.\"\n",
              "              style=\"display:none;\">\n",
              "        \n",
              "  <svg xmlns=\"http://www.w3.org/2000/svg\" height=\"24px\"viewBox=\"0 0 24 24\"\n",
              "       width=\"24px\">\n",
              "    <path d=\"M0 0h24v24H0V0z\" fill=\"none\"/>\n",
              "    <path d=\"M18.56 5.44l.94 2.06.94-2.06 2.06-.94-2.06-.94-.94-2.06-.94 2.06-2.06.94zm-11 1L8.5 8.5l.94-2.06 2.06-.94-2.06-.94L8.5 2.5l-.94 2.06-2.06.94zm10 10l.94 2.06.94-2.06 2.06-.94-2.06-.94-.94-2.06-.94 2.06-2.06.94z\"/><path d=\"M17.41 7.96l-1.37-1.37c-.4-.4-.92-.59-1.43-.59-.52 0-1.04.2-1.43.59L10.3 9.45l-7.72 7.72c-.78.78-.78 2.05 0 2.83L4 21.41c.39.39.9.59 1.41.59.51 0 1.02-.2 1.41-.59l7.78-7.78 2.81-2.81c.8-.78.8-2.07 0-2.86zM5.41 20L4 18.59l7.72-7.72 1.47 1.35L5.41 20z\"/>\n",
              "  </svg>\n",
              "      </button>\n",
              "      \n",
              "  <style>\n",
              "    .colab-df-container {\n",
              "      display:flex;\n",
              "      flex-wrap:wrap;\n",
              "      gap: 12px;\n",
              "    }\n",
              "\n",
              "    .colab-df-convert {\n",
              "      background-color: #E8F0FE;\n",
              "      border: none;\n",
              "      border-radius: 50%;\n",
              "      cursor: pointer;\n",
              "      display: none;\n",
              "      fill: #1967D2;\n",
              "      height: 32px;\n",
              "      padding: 0 0 0 0;\n",
              "      width: 32px;\n",
              "    }\n",
              "\n",
              "    .colab-df-convert:hover {\n",
              "      background-color: #E2EBFA;\n",
              "      box-shadow: 0px 1px 2px rgba(60, 64, 67, 0.3), 0px 1px 3px 1px rgba(60, 64, 67, 0.15);\n",
              "      fill: #174EA6;\n",
              "    }\n",
              "\n",
              "    [theme=dark] .colab-df-convert {\n",
              "      background-color: #3B4455;\n",
              "      fill: #D2E3FC;\n",
              "    }\n",
              "\n",
              "    [theme=dark] .colab-df-convert:hover {\n",
              "      background-color: #434B5C;\n",
              "      box-shadow: 0px 1px 3px 1px rgba(0, 0, 0, 0.15);\n",
              "      filter: drop-shadow(0px 1px 2px rgba(0, 0, 0, 0.3));\n",
              "      fill: #FFFFFF;\n",
              "    }\n",
              "  </style>\n",
              "\n",
              "      <script>\n",
              "        const buttonEl =\n",
              "          document.querySelector('#df-bf8137ee-b11f-4008-92ab-c8c93641607b button.colab-df-convert');\n",
              "        buttonEl.style.display =\n",
              "          google.colab.kernel.accessAllowed ? 'block' : 'none';\n",
              "\n",
              "        async function convertToInteractive(key) {\n",
              "          const element = document.querySelector('#df-bf8137ee-b11f-4008-92ab-c8c93641607b');\n",
              "          const dataTable =\n",
              "            await google.colab.kernel.invokeFunction('convertToInteractive',\n",
              "                                                     [key], {});\n",
              "          if (!dataTable) return;\n",
              "\n",
              "          const docLinkHtml = 'Like what you see? Visit the ' +\n",
              "            '<a target=\"_blank\" href=https://colab.research.google.com/notebooks/data_table.ipynb>data table notebook</a>'\n",
              "            + ' to learn more about interactive tables.';\n",
              "          element.innerHTML = '';\n",
              "          dataTable['output_type'] = 'display_data';\n",
              "          await google.colab.output.renderOutput(dataTable, element);\n",
              "          const docLink = document.createElement('div');\n",
              "          docLink.innerHTML = docLinkHtml;\n",
              "          element.appendChild(docLink);\n",
              "        }\n",
              "      </script>\n",
              "    </div>\n",
              "  </div>\n",
              "  "
            ]
          },
          "metadata": {},
          "execution_count": 39
        }
      ],
      "source": [
        "new_text"
      ],
      "id": "38ec696b-637f-4692-9d09-62068aa41989"
    },
    {
      "cell_type": "markdown",
      "metadata": {
        "id": "7deea97a-28aa-4fd7-840d-57a1d28c87e6"
      },
      "source": [
        "## Combine Data"
      ],
      "id": "7deea97a-28aa-4fd7-840d-57a1d28c87e6"
    },
    {
      "cell_type": "code",
      "execution_count": null,
      "metadata": {
        "id": "8aa7f66a-dacb-4fa5-b796-35ba43db955e"
      },
      "outputs": [],
      "source": [
        "new_data = pd.merge(cat_data, new_text[['lemmatize']], left_index=True, right_index=True)"
      ],
      "id": "8aa7f66a-dacb-4fa5-b796-35ba43db955e"
    },
    {
      "cell_type": "code",
      "execution_count": null,
      "metadata": {
        "id": "17db5fab-04ad-46ce-9d0b-521e59106144"
      },
      "outputs": [],
      "source": [
        "new_data = pd.merge(new_data, data[['fraudulent']], left_index=True, right_index=True)"
      ],
      "id": "17db5fab-04ad-46ce-9d0b-521e59106144"
    },
    {
      "cell_type": "code",
      "execution_count": null,
      "metadata": {
        "colab": {
          "base_uri": "https://localhost:8080/",
          "height": 467
        },
        "id": "f12d2a50-5602-47d0-9ae1-a1a8e91053b0",
        "outputId": "caf0deb7-5712-43df-bab9-8f9013009458"
      },
      "outputs": [
        {
          "output_type": "execute_result",
          "data": {
            "text/plain": [
              "       telecommuting  has_company_logo  has_questions  employment_type  \\\n",
              "0                  0                 1              0                2   \n",
              "1                  0                 1              0                1   \n",
              "2                  0                 1              0                5   \n",
              "3                  0                 1              0                1   \n",
              "4                  0                 1              1                1   \n",
              "...              ...               ...            ...              ...   \n",
              "17875              0                 1              1                1   \n",
              "17876              0                 1              1                1   \n",
              "17877              0                 0              0                1   \n",
              "17878              0                 0              1                0   \n",
              "17879              0                 1              1                1   \n",
              "\n",
              "       required_experience  required_education  industry  function  \\\n",
              "0                        4                  13       131        22   \n",
              "1                        6                  13        75         7   \n",
              "2                        7                  13       131        37   \n",
              "3                        5                   1        22        31   \n",
              "4                        5                   1        51        16   \n",
              "...                    ...                 ...       ...       ...   \n",
              "17875                    5                  13        22        31   \n",
              "17876                    5                   1        61         0   \n",
              "17877                    7                  13       131        37   \n",
              "17878                    6                   6        48         9   \n",
              "17879                    5                  13        22        12   \n",
              "\n",
              "                                               lemmatize  fraudulent  \n",
              "0      marketing internwere weve created groundbreaki...           0  \n",
              "1      customer service cloud video second world clou...           0  \n",
              "2      commissioning machinery assistant cmavalor ser...           0  \n",
              "3      account executive washington dcour passion imp...           0  \n",
              "4      bill review managerspotsource solution llc glo...           0  \n",
              "...                                                  ...         ...  \n",
              "17875  account director distribution vend looking awe...           0  \n",
              "17876  payroll accountantweblinc ecommerce platform s...           0  \n",
              "17877  project cost control staff engineer cost contr...           0  \n",
              "17878  graphic designermissingnemsia studio looking e...           0  \n",
              "17879  web application developersvend looking awesome...           0  \n",
              "\n",
              "[17880 rows x 10 columns]"
            ],
            "text/html": [
              "\n",
              "  <div id=\"df-92d3485c-f0fb-4187-8d7d-a6307d078ff3\">\n",
              "    <div class=\"colab-df-container\">\n",
              "      <div>\n",
              "<style scoped>\n",
              "    .dataframe tbody tr th:only-of-type {\n",
              "        vertical-align: middle;\n",
              "    }\n",
              "\n",
              "    .dataframe tbody tr th {\n",
              "        vertical-align: top;\n",
              "    }\n",
              "\n",
              "    .dataframe thead th {\n",
              "        text-align: right;\n",
              "    }\n",
              "</style>\n",
              "<table border=\"1\" class=\"dataframe\">\n",
              "  <thead>\n",
              "    <tr style=\"text-align: right;\">\n",
              "      <th></th>\n",
              "      <th>telecommuting</th>\n",
              "      <th>has_company_logo</th>\n",
              "      <th>has_questions</th>\n",
              "      <th>employment_type</th>\n",
              "      <th>required_experience</th>\n",
              "      <th>required_education</th>\n",
              "      <th>industry</th>\n",
              "      <th>function</th>\n",
              "      <th>lemmatize</th>\n",
              "      <th>fraudulent</th>\n",
              "    </tr>\n",
              "  </thead>\n",
              "  <tbody>\n",
              "    <tr>\n",
              "      <th>0</th>\n",
              "      <td>0</td>\n",
              "      <td>1</td>\n",
              "      <td>0</td>\n",
              "      <td>2</td>\n",
              "      <td>4</td>\n",
              "      <td>13</td>\n",
              "      <td>131</td>\n",
              "      <td>22</td>\n",
              "      <td>marketing internwere weve created groundbreaki...</td>\n",
              "      <td>0</td>\n",
              "    </tr>\n",
              "    <tr>\n",
              "      <th>1</th>\n",
              "      <td>0</td>\n",
              "      <td>1</td>\n",
              "      <td>0</td>\n",
              "      <td>1</td>\n",
              "      <td>6</td>\n",
              "      <td>13</td>\n",
              "      <td>75</td>\n",
              "      <td>7</td>\n",
              "      <td>customer service cloud video second world clou...</td>\n",
              "      <td>0</td>\n",
              "    </tr>\n",
              "    <tr>\n",
              "      <th>2</th>\n",
              "      <td>0</td>\n",
              "      <td>1</td>\n",
              "      <td>0</td>\n",
              "      <td>5</td>\n",
              "      <td>7</td>\n",
              "      <td>13</td>\n",
              "      <td>131</td>\n",
              "      <td>37</td>\n",
              "      <td>commissioning machinery assistant cmavalor ser...</td>\n",
              "      <td>0</td>\n",
              "    </tr>\n",
              "    <tr>\n",
              "      <th>3</th>\n",
              "      <td>0</td>\n",
              "      <td>1</td>\n",
              "      <td>0</td>\n",
              "      <td>1</td>\n",
              "      <td>5</td>\n",
              "      <td>1</td>\n",
              "      <td>22</td>\n",
              "      <td>31</td>\n",
              "      <td>account executive washington dcour passion imp...</td>\n",
              "      <td>0</td>\n",
              "    </tr>\n",
              "    <tr>\n",
              "      <th>4</th>\n",
              "      <td>0</td>\n",
              "      <td>1</td>\n",
              "      <td>1</td>\n",
              "      <td>1</td>\n",
              "      <td>5</td>\n",
              "      <td>1</td>\n",
              "      <td>51</td>\n",
              "      <td>16</td>\n",
              "      <td>bill review managerspotsource solution llc glo...</td>\n",
              "      <td>0</td>\n",
              "    </tr>\n",
              "    <tr>\n",
              "      <th>...</th>\n",
              "      <td>...</td>\n",
              "      <td>...</td>\n",
              "      <td>...</td>\n",
              "      <td>...</td>\n",
              "      <td>...</td>\n",
              "      <td>...</td>\n",
              "      <td>...</td>\n",
              "      <td>...</td>\n",
              "      <td>...</td>\n",
              "      <td>...</td>\n",
              "    </tr>\n",
              "    <tr>\n",
              "      <th>17875</th>\n",
              "      <td>0</td>\n",
              "      <td>1</td>\n",
              "      <td>1</td>\n",
              "      <td>1</td>\n",
              "      <td>5</td>\n",
              "      <td>13</td>\n",
              "      <td>22</td>\n",
              "      <td>31</td>\n",
              "      <td>account director distribution vend looking awe...</td>\n",
              "      <td>0</td>\n",
              "    </tr>\n",
              "    <tr>\n",
              "      <th>17876</th>\n",
              "      <td>0</td>\n",
              "      <td>1</td>\n",
              "      <td>1</td>\n",
              "      <td>1</td>\n",
              "      <td>5</td>\n",
              "      <td>1</td>\n",
              "      <td>61</td>\n",
              "      <td>0</td>\n",
              "      <td>payroll accountantweblinc ecommerce platform s...</td>\n",
              "      <td>0</td>\n",
              "    </tr>\n",
              "    <tr>\n",
              "      <th>17877</th>\n",
              "      <td>0</td>\n",
              "      <td>0</td>\n",
              "      <td>0</td>\n",
              "      <td>1</td>\n",
              "      <td>7</td>\n",
              "      <td>13</td>\n",
              "      <td>131</td>\n",
              "      <td>37</td>\n",
              "      <td>project cost control staff engineer cost contr...</td>\n",
              "      <td>0</td>\n",
              "    </tr>\n",
              "    <tr>\n",
              "      <th>17878</th>\n",
              "      <td>0</td>\n",
              "      <td>0</td>\n",
              "      <td>1</td>\n",
              "      <td>0</td>\n",
              "      <td>6</td>\n",
              "      <td>6</td>\n",
              "      <td>48</td>\n",
              "      <td>9</td>\n",
              "      <td>graphic designermissingnemsia studio looking e...</td>\n",
              "      <td>0</td>\n",
              "    </tr>\n",
              "    <tr>\n",
              "      <th>17879</th>\n",
              "      <td>0</td>\n",
              "      <td>1</td>\n",
              "      <td>1</td>\n",
              "      <td>1</td>\n",
              "      <td>5</td>\n",
              "      <td>13</td>\n",
              "      <td>22</td>\n",
              "      <td>12</td>\n",
              "      <td>web application developersvend looking awesome...</td>\n",
              "      <td>0</td>\n",
              "    </tr>\n",
              "  </tbody>\n",
              "</table>\n",
              "<p>17880 rows × 10 columns</p>\n",
              "</div>\n",
              "      <button class=\"colab-df-convert\" onclick=\"convertToInteractive('df-92d3485c-f0fb-4187-8d7d-a6307d078ff3')\"\n",
              "              title=\"Convert this dataframe to an interactive table.\"\n",
              "              style=\"display:none;\">\n",
              "        \n",
              "  <svg xmlns=\"http://www.w3.org/2000/svg\" height=\"24px\"viewBox=\"0 0 24 24\"\n",
              "       width=\"24px\">\n",
              "    <path d=\"M0 0h24v24H0V0z\" fill=\"none\"/>\n",
              "    <path d=\"M18.56 5.44l.94 2.06.94-2.06 2.06-.94-2.06-.94-.94-2.06-.94 2.06-2.06.94zm-11 1L8.5 8.5l.94-2.06 2.06-.94-2.06-.94L8.5 2.5l-.94 2.06-2.06.94zm10 10l.94 2.06.94-2.06 2.06-.94-2.06-.94-.94-2.06-.94 2.06-2.06.94z\"/><path d=\"M17.41 7.96l-1.37-1.37c-.4-.4-.92-.59-1.43-.59-.52 0-1.04.2-1.43.59L10.3 9.45l-7.72 7.72c-.78.78-.78 2.05 0 2.83L4 21.41c.39.39.9.59 1.41.59.51 0 1.02-.2 1.41-.59l7.78-7.78 2.81-2.81c.8-.78.8-2.07 0-2.86zM5.41 20L4 18.59l7.72-7.72 1.47 1.35L5.41 20z\"/>\n",
              "  </svg>\n",
              "      </button>\n",
              "      \n",
              "  <style>\n",
              "    .colab-df-container {\n",
              "      display:flex;\n",
              "      flex-wrap:wrap;\n",
              "      gap: 12px;\n",
              "    }\n",
              "\n",
              "    .colab-df-convert {\n",
              "      background-color: #E8F0FE;\n",
              "      border: none;\n",
              "      border-radius: 50%;\n",
              "      cursor: pointer;\n",
              "      display: none;\n",
              "      fill: #1967D2;\n",
              "      height: 32px;\n",
              "      padding: 0 0 0 0;\n",
              "      width: 32px;\n",
              "    }\n",
              "\n",
              "    .colab-df-convert:hover {\n",
              "      background-color: #E2EBFA;\n",
              "      box-shadow: 0px 1px 2px rgba(60, 64, 67, 0.3), 0px 1px 3px 1px rgba(60, 64, 67, 0.15);\n",
              "      fill: #174EA6;\n",
              "    }\n",
              "\n",
              "    [theme=dark] .colab-df-convert {\n",
              "      background-color: #3B4455;\n",
              "      fill: #D2E3FC;\n",
              "    }\n",
              "\n",
              "    [theme=dark] .colab-df-convert:hover {\n",
              "      background-color: #434B5C;\n",
              "      box-shadow: 0px 1px 3px 1px rgba(0, 0, 0, 0.15);\n",
              "      filter: drop-shadow(0px 1px 2px rgba(0, 0, 0, 0.3));\n",
              "      fill: #FFFFFF;\n",
              "    }\n",
              "  </style>\n",
              "\n",
              "      <script>\n",
              "        const buttonEl =\n",
              "          document.querySelector('#df-92d3485c-f0fb-4187-8d7d-a6307d078ff3 button.colab-df-convert');\n",
              "        buttonEl.style.display =\n",
              "          google.colab.kernel.accessAllowed ? 'block' : 'none';\n",
              "\n",
              "        async function convertToInteractive(key) {\n",
              "          const element = document.querySelector('#df-92d3485c-f0fb-4187-8d7d-a6307d078ff3');\n",
              "          const dataTable =\n",
              "            await google.colab.kernel.invokeFunction('convertToInteractive',\n",
              "                                                     [key], {});\n",
              "          if (!dataTable) return;\n",
              "\n",
              "          const docLinkHtml = 'Like what you see? Visit the ' +\n",
              "            '<a target=\"_blank\" href=https://colab.research.google.com/notebooks/data_table.ipynb>data table notebook</a>'\n",
              "            + ' to learn more about interactive tables.';\n",
              "          element.innerHTML = '';\n",
              "          dataTable['output_type'] = 'display_data';\n",
              "          await google.colab.output.renderOutput(dataTable, element);\n",
              "          const docLink = document.createElement('div');\n",
              "          docLink.innerHTML = docLinkHtml;\n",
              "          element.appendChild(docLink);\n",
              "        }\n",
              "      </script>\n",
              "    </div>\n",
              "  </div>\n",
              "  "
            ]
          },
          "metadata": {},
          "execution_count": 42
        }
      ],
      "source": [
        "new_data"
      ],
      "id": "f12d2a50-5602-47d0-9ae1-a1a8e91053b0"
    },
    {
      "cell_type": "code",
      "execution_count": null,
      "metadata": {
        "id": "oAiTrWL6-Sye"
      },
      "outputs": [],
      "source": [
        "save_data = new_data"
      ],
      "id": "oAiTrWL6-Sye"
    },
    {
      "cell_type": "markdown",
      "metadata": {
        "id": "fac153e9-b24b-4ea9-bd78-ee4d2f168305"
      },
      "source": [
        "## Train Test"
      ],
      "id": "fac153e9-b24b-4ea9-bd78-ee4d2f168305"
    },
    {
      "cell_type": "code",
      "execution_count": null,
      "metadata": {
        "id": "4107f5dd-9a63-4c16-b310-6126a2c81cf6"
      },
      "outputs": [],
      "source": [
        "X = new_data.iloc[:, :-1]\n",
        "y = new_data.iloc[:, -1]"
      ],
      "id": "4107f5dd-9a63-4c16-b310-6126a2c81cf6"
    },
    {
      "cell_type": "code",
      "execution_count": null,
      "metadata": {
        "colab": {
          "base_uri": "https://localhost:8080/",
          "height": 423
        },
        "id": "0ee96561-80fa-4319-a9f5-b88b3c62d3db",
        "outputId": "09031804-7e41-44e6-b1a4-dda1caafb912"
      },
      "outputs": [
        {
          "output_type": "execute_result",
          "data": {
            "text/plain": [
              "       telecommuting  has_company_logo  has_questions  employment_type  \\\n",
              "0                  0                 1              0                2   \n",
              "1                  0                 1              0                1   \n",
              "2                  0                 1              0                5   \n",
              "3                  0                 1              0                1   \n",
              "4                  0                 1              1                1   \n",
              "...              ...               ...            ...              ...   \n",
              "17875              0                 1              1                1   \n",
              "17876              0                 1              1                1   \n",
              "17877              0                 0              0                1   \n",
              "17878              0                 0              1                0   \n",
              "17879              0                 1              1                1   \n",
              "\n",
              "       required_experience  required_education  industry  function  \\\n",
              "0                        4                  13       131        22   \n",
              "1                        6                  13        75         7   \n",
              "2                        7                  13       131        37   \n",
              "3                        5                   1        22        31   \n",
              "4                        5                   1        51        16   \n",
              "...                    ...                 ...       ...       ...   \n",
              "17875                    5                  13        22        31   \n",
              "17876                    5                   1        61         0   \n",
              "17877                    7                  13       131        37   \n",
              "17878                    6                   6        48         9   \n",
              "17879                    5                  13        22        12   \n",
              "\n",
              "                                               lemmatize  \n",
              "0      marketing internwere weve created groundbreaki...  \n",
              "1      customer service cloud video second world clou...  \n",
              "2      commissioning machinery assistant cmavalor ser...  \n",
              "3      account executive washington dcour passion imp...  \n",
              "4      bill review managerspotsource solution llc glo...  \n",
              "...                                                  ...  \n",
              "17875  account director distribution vend looking awe...  \n",
              "17876  payroll accountantweblinc ecommerce platform s...  \n",
              "17877  project cost control staff engineer cost contr...  \n",
              "17878  graphic designermissingnemsia studio looking e...  \n",
              "17879  web application developersvend looking awesome...  \n",
              "\n",
              "[17880 rows x 9 columns]"
            ],
            "text/html": [
              "\n",
              "  <div id=\"df-9de555da-b604-4f7a-a7f1-20ceb9b1bb31\">\n",
              "    <div class=\"colab-df-container\">\n",
              "      <div>\n",
              "<style scoped>\n",
              "    .dataframe tbody tr th:only-of-type {\n",
              "        vertical-align: middle;\n",
              "    }\n",
              "\n",
              "    .dataframe tbody tr th {\n",
              "        vertical-align: top;\n",
              "    }\n",
              "\n",
              "    .dataframe thead th {\n",
              "        text-align: right;\n",
              "    }\n",
              "</style>\n",
              "<table border=\"1\" class=\"dataframe\">\n",
              "  <thead>\n",
              "    <tr style=\"text-align: right;\">\n",
              "      <th></th>\n",
              "      <th>telecommuting</th>\n",
              "      <th>has_company_logo</th>\n",
              "      <th>has_questions</th>\n",
              "      <th>employment_type</th>\n",
              "      <th>required_experience</th>\n",
              "      <th>required_education</th>\n",
              "      <th>industry</th>\n",
              "      <th>function</th>\n",
              "      <th>lemmatize</th>\n",
              "    </tr>\n",
              "  </thead>\n",
              "  <tbody>\n",
              "    <tr>\n",
              "      <th>0</th>\n",
              "      <td>0</td>\n",
              "      <td>1</td>\n",
              "      <td>0</td>\n",
              "      <td>2</td>\n",
              "      <td>4</td>\n",
              "      <td>13</td>\n",
              "      <td>131</td>\n",
              "      <td>22</td>\n",
              "      <td>marketing internwere weve created groundbreaki...</td>\n",
              "    </tr>\n",
              "    <tr>\n",
              "      <th>1</th>\n",
              "      <td>0</td>\n",
              "      <td>1</td>\n",
              "      <td>0</td>\n",
              "      <td>1</td>\n",
              "      <td>6</td>\n",
              "      <td>13</td>\n",
              "      <td>75</td>\n",
              "      <td>7</td>\n",
              "      <td>customer service cloud video second world clou...</td>\n",
              "    </tr>\n",
              "    <tr>\n",
              "      <th>2</th>\n",
              "      <td>0</td>\n",
              "      <td>1</td>\n",
              "      <td>0</td>\n",
              "      <td>5</td>\n",
              "      <td>7</td>\n",
              "      <td>13</td>\n",
              "      <td>131</td>\n",
              "      <td>37</td>\n",
              "      <td>commissioning machinery assistant cmavalor ser...</td>\n",
              "    </tr>\n",
              "    <tr>\n",
              "      <th>3</th>\n",
              "      <td>0</td>\n",
              "      <td>1</td>\n",
              "      <td>0</td>\n",
              "      <td>1</td>\n",
              "      <td>5</td>\n",
              "      <td>1</td>\n",
              "      <td>22</td>\n",
              "      <td>31</td>\n",
              "      <td>account executive washington dcour passion imp...</td>\n",
              "    </tr>\n",
              "    <tr>\n",
              "      <th>4</th>\n",
              "      <td>0</td>\n",
              "      <td>1</td>\n",
              "      <td>1</td>\n",
              "      <td>1</td>\n",
              "      <td>5</td>\n",
              "      <td>1</td>\n",
              "      <td>51</td>\n",
              "      <td>16</td>\n",
              "      <td>bill review managerspotsource solution llc glo...</td>\n",
              "    </tr>\n",
              "    <tr>\n",
              "      <th>...</th>\n",
              "      <td>...</td>\n",
              "      <td>...</td>\n",
              "      <td>...</td>\n",
              "      <td>...</td>\n",
              "      <td>...</td>\n",
              "      <td>...</td>\n",
              "      <td>...</td>\n",
              "      <td>...</td>\n",
              "      <td>...</td>\n",
              "    </tr>\n",
              "    <tr>\n",
              "      <th>17875</th>\n",
              "      <td>0</td>\n",
              "      <td>1</td>\n",
              "      <td>1</td>\n",
              "      <td>1</td>\n",
              "      <td>5</td>\n",
              "      <td>13</td>\n",
              "      <td>22</td>\n",
              "      <td>31</td>\n",
              "      <td>account director distribution vend looking awe...</td>\n",
              "    </tr>\n",
              "    <tr>\n",
              "      <th>17876</th>\n",
              "      <td>0</td>\n",
              "      <td>1</td>\n",
              "      <td>1</td>\n",
              "      <td>1</td>\n",
              "      <td>5</td>\n",
              "      <td>1</td>\n",
              "      <td>61</td>\n",
              "      <td>0</td>\n",
              "      <td>payroll accountantweblinc ecommerce platform s...</td>\n",
              "    </tr>\n",
              "    <tr>\n",
              "      <th>17877</th>\n",
              "      <td>0</td>\n",
              "      <td>0</td>\n",
              "      <td>0</td>\n",
              "      <td>1</td>\n",
              "      <td>7</td>\n",
              "      <td>13</td>\n",
              "      <td>131</td>\n",
              "      <td>37</td>\n",
              "      <td>project cost control staff engineer cost contr...</td>\n",
              "    </tr>\n",
              "    <tr>\n",
              "      <th>17878</th>\n",
              "      <td>0</td>\n",
              "      <td>0</td>\n",
              "      <td>1</td>\n",
              "      <td>0</td>\n",
              "      <td>6</td>\n",
              "      <td>6</td>\n",
              "      <td>48</td>\n",
              "      <td>9</td>\n",
              "      <td>graphic designermissingnemsia studio looking e...</td>\n",
              "    </tr>\n",
              "    <tr>\n",
              "      <th>17879</th>\n",
              "      <td>0</td>\n",
              "      <td>1</td>\n",
              "      <td>1</td>\n",
              "      <td>1</td>\n",
              "      <td>5</td>\n",
              "      <td>13</td>\n",
              "      <td>22</td>\n",
              "      <td>12</td>\n",
              "      <td>web application developersvend looking awesome...</td>\n",
              "    </tr>\n",
              "  </tbody>\n",
              "</table>\n",
              "<p>17880 rows × 9 columns</p>\n",
              "</div>\n",
              "      <button class=\"colab-df-convert\" onclick=\"convertToInteractive('df-9de555da-b604-4f7a-a7f1-20ceb9b1bb31')\"\n",
              "              title=\"Convert this dataframe to an interactive table.\"\n",
              "              style=\"display:none;\">\n",
              "        \n",
              "  <svg xmlns=\"http://www.w3.org/2000/svg\" height=\"24px\"viewBox=\"0 0 24 24\"\n",
              "       width=\"24px\">\n",
              "    <path d=\"M0 0h24v24H0V0z\" fill=\"none\"/>\n",
              "    <path d=\"M18.56 5.44l.94 2.06.94-2.06 2.06-.94-2.06-.94-.94-2.06-.94 2.06-2.06.94zm-11 1L8.5 8.5l.94-2.06 2.06-.94-2.06-.94L8.5 2.5l-.94 2.06-2.06.94zm10 10l.94 2.06.94-2.06 2.06-.94-2.06-.94-.94-2.06-.94 2.06-2.06.94z\"/><path d=\"M17.41 7.96l-1.37-1.37c-.4-.4-.92-.59-1.43-.59-.52 0-1.04.2-1.43.59L10.3 9.45l-7.72 7.72c-.78.78-.78 2.05 0 2.83L4 21.41c.39.39.9.59 1.41.59.51 0 1.02-.2 1.41-.59l7.78-7.78 2.81-2.81c.8-.78.8-2.07 0-2.86zM5.41 20L4 18.59l7.72-7.72 1.47 1.35L5.41 20z\"/>\n",
              "  </svg>\n",
              "      </button>\n",
              "      \n",
              "  <style>\n",
              "    .colab-df-container {\n",
              "      display:flex;\n",
              "      flex-wrap:wrap;\n",
              "      gap: 12px;\n",
              "    }\n",
              "\n",
              "    .colab-df-convert {\n",
              "      background-color: #E8F0FE;\n",
              "      border: none;\n",
              "      border-radius: 50%;\n",
              "      cursor: pointer;\n",
              "      display: none;\n",
              "      fill: #1967D2;\n",
              "      height: 32px;\n",
              "      padding: 0 0 0 0;\n",
              "      width: 32px;\n",
              "    }\n",
              "\n",
              "    .colab-df-convert:hover {\n",
              "      background-color: #E2EBFA;\n",
              "      box-shadow: 0px 1px 2px rgba(60, 64, 67, 0.3), 0px 1px 3px 1px rgba(60, 64, 67, 0.15);\n",
              "      fill: #174EA6;\n",
              "    }\n",
              "\n",
              "    [theme=dark] .colab-df-convert {\n",
              "      background-color: #3B4455;\n",
              "      fill: #D2E3FC;\n",
              "    }\n",
              "\n",
              "    [theme=dark] .colab-df-convert:hover {\n",
              "      background-color: #434B5C;\n",
              "      box-shadow: 0px 1px 3px 1px rgba(0, 0, 0, 0.15);\n",
              "      filter: drop-shadow(0px 1px 2px rgba(0, 0, 0, 0.3));\n",
              "      fill: #FFFFFF;\n",
              "    }\n",
              "  </style>\n",
              "\n",
              "      <script>\n",
              "        const buttonEl =\n",
              "          document.querySelector('#df-9de555da-b604-4f7a-a7f1-20ceb9b1bb31 button.colab-df-convert');\n",
              "        buttonEl.style.display =\n",
              "          google.colab.kernel.accessAllowed ? 'block' : 'none';\n",
              "\n",
              "        async function convertToInteractive(key) {\n",
              "          const element = document.querySelector('#df-9de555da-b604-4f7a-a7f1-20ceb9b1bb31');\n",
              "          const dataTable =\n",
              "            await google.colab.kernel.invokeFunction('convertToInteractive',\n",
              "                                                     [key], {});\n",
              "          if (!dataTable) return;\n",
              "\n",
              "          const docLinkHtml = 'Like what you see? Visit the ' +\n",
              "            '<a target=\"_blank\" href=https://colab.research.google.com/notebooks/data_table.ipynb>data table notebook</a>'\n",
              "            + ' to learn more about interactive tables.';\n",
              "          element.innerHTML = '';\n",
              "          dataTable['output_type'] = 'display_data';\n",
              "          await google.colab.output.renderOutput(dataTable, element);\n",
              "          const docLink = document.createElement('div');\n",
              "          docLink.innerHTML = docLinkHtml;\n",
              "          element.appendChild(docLink);\n",
              "        }\n",
              "      </script>\n",
              "    </div>\n",
              "  </div>\n",
              "  "
            ]
          },
          "metadata": {},
          "execution_count": 45
        }
      ],
      "source": [
        "X"
      ],
      "id": "0ee96561-80fa-4319-a9f5-b88b3c62d3db"
    },
    {
      "cell_type": "code",
      "execution_count": null,
      "metadata": {
        "id": "19c0a378-3161-4d0c-921a-053ff71d1031"
      },
      "outputs": [],
      "source": [
        "#z_train"
      ],
      "id": "19c0a378-3161-4d0c-921a-053ff71d1031"
    },
    {
      "cell_type": "markdown",
      "metadata": {
        "id": "-xN3xXpJkOdq"
      },
      "source": [
        "## Unrar"
      ],
      "id": "-xN3xXpJkOdq"
    },
    {
      "cell_type": "code",
      "execution_count": null,
      "metadata": {
        "id": "t_rXgKEQj03p"
      },
      "outputs": [],
      "source": [
        "#!unrar x \"glove.6B.300d.rar\" \"/content/drive/Shareddrives/Data 245 Project/Project Code/\""
      ],
      "id": "t_rXgKEQj03p"
    },
    {
      "cell_type": "code",
      "execution_count": null,
      "metadata": {
        "id": "4ec68b14-cbe7-4ebb-800e-0cef1a280d83"
      },
      "outputs": [],
      "source": [
        "embeddings_index = {}\n",
        "f = open('glove.6B.200d.txt', encoding=\"utf8\")\n",
        "for line in f:\n",
        "    values = line.split(' ')\n",
        "    word = values[0] ## The first entry is the word\n",
        "    coefs = np.asarray(values[1:], dtype='float32') ## These are the vectors representing the embedding for the word\n",
        "    embeddings_index[word] = coefs\n",
        "f.close()"
      ],
      "id": "4ec68b14-cbe7-4ebb-800e-0cef1a280d83"
    },
    {
      "cell_type": "code",
      "execution_count": null,
      "metadata": {
        "colab": {
          "base_uri": "https://localhost:8080/"
        },
        "id": "4ed6ddf3-2764-4a04-81fd-d271e15b55f4",
        "outputId": "80394d29-4aa3-4b79-c9b5-440a89e917a6"
      },
      "outputs": [
        {
          "output_type": "stream",
          "name": "stdout",
          "text": [
            "Found 400000 word vectors.\n"
          ]
        }
      ],
      "source": [
        "print('Found %s word vectors.' % len(embeddings_index))"
      ],
      "id": "4ed6ddf3-2764-4a04-81fd-d271e15b55f4"
    },
    {
      "cell_type": "code",
      "execution_count": null,
      "metadata": {
        "id": "747242b1-e335-4222-bf3d-a9b9152fc5ee"
      },
      "outputs": [],
      "source": [
        "glove_words =  set(embeddings_index.keys())\n",
        "\n",
        "def convert_sen_to_vec(sentence):\n",
        "    vector = np.zeros(300) # as word vectors are of zero length\n",
        "    cnt_words =0; # num of words with a valid vector in the sentence\n",
        "    for word in sentence.split():\n",
        "        if word in glove_words:\n",
        "            vector += embeddings_index[word]\n",
        "            cnt_words += 1\n",
        "    if cnt_words != 0:\n",
        "        vector /= cnt_words\n",
        "    return vector"
      ],
      "id": "747242b1-e335-4222-bf3d-a9b9152fc5ee"
    },
    {
      "cell_type": "code",
      "execution_count": null,
      "metadata": {
        "id": "616e3bab-0399-4e49-8870-b3147c33f89a"
      },
      "outputs": [],
      "source": [
        "def sent2vec(s):\n",
        "    words = str(s).lower()\n",
        "    words = word_tokenize(words)\n",
        "    words = [w for w in words if not w in stop_words]\n",
        "    words = [w for w in words if w.isalpha()]\n",
        "    M = []\n",
        "    for w in words:\n",
        "        try:\n",
        "            M.append(embeddings_index[w])\n",
        "        except:\n",
        "            continue\n",
        "    M = np.array(M)\n",
        "    v = M.sum(axis=0)\n",
        "    if type(v) != np.ndarray:\n",
        "        return np.zeros(200)\n",
        "    return v / np.sqrt((v ** 2).sum())"
      ],
      "id": "616e3bab-0399-4e49-8870-b3147c33f89a"
    },
    {
      "cell_type": "code",
      "execution_count": null,
      "metadata": {
        "id": "b9438889-7212-4d5b-bf21-717fc7f1125f"
      },
      "outputs": [],
      "source": [
        "converted_data = []\n",
        "\n",
        "for i in range(0, new_data.shape[0]):\n",
        "    converted_data.append(sent2vec(new_data['lemmatize'][i]))"
      ],
      "id": "b9438889-7212-4d5b-bf21-717fc7f1125f"
    },
    {
      "cell_type": "code",
      "execution_count": null,
      "metadata": {
        "id": "758ed4f8-965b-494e-97f2-fc35f2b5e91b"
      },
      "outputs": [],
      "source": [
        "_1 = pd.DataFrame(converted_data)"
      ],
      "id": "758ed4f8-965b-494e-97f2-fc35f2b5e91b"
    },
    {
      "cell_type": "code",
      "execution_count": null,
      "metadata": {
        "id": "6e53eb99-42b2-4eb6-adfb-39a5d579c0ad"
      },
      "outputs": [],
      "source": [
        "new_data = new_data.drop(columns=['lemmatize'])"
      ],
      "id": "6e53eb99-42b2-4eb6-adfb-39a5d579c0ad"
    },
    {
      "cell_type": "code",
      "execution_count": null,
      "metadata": {
        "colab": {
          "base_uri": "https://localhost:8080/",
          "height": 423
        },
        "id": "9DX1sm0_ndZ1",
        "outputId": "4a6e53f1-c5c2-40a9-9517-6e2eebe8ed32"
      },
      "outputs": [
        {
          "output_type": "execute_result",
          "data": {
            "text/plain": [
              "       telecommuting  has_company_logo  has_questions  employment_type  \\\n",
              "0                  0                 1              0                2   \n",
              "1                  0                 1              0                1   \n",
              "2                  0                 1              0                5   \n",
              "3                  0                 1              0                1   \n",
              "4                  0                 1              1                1   \n",
              "...              ...               ...            ...              ...   \n",
              "17875              0                 1              1                1   \n",
              "17876              0                 1              1                1   \n",
              "17877              0                 0              0                1   \n",
              "17878              0                 0              1                0   \n",
              "17879              0                 1              1                1   \n",
              "\n",
              "       required_experience  required_education  industry  function  fraudulent  \n",
              "0                        4                  13       131        22           0  \n",
              "1                        6                  13        75         7           0  \n",
              "2                        7                  13       131        37           0  \n",
              "3                        5                   1        22        31           0  \n",
              "4                        5                   1        51        16           0  \n",
              "...                    ...                 ...       ...       ...         ...  \n",
              "17875                    5                  13        22        31           0  \n",
              "17876                    5                   1        61         0           0  \n",
              "17877                    7                  13       131        37           0  \n",
              "17878                    6                   6        48         9           0  \n",
              "17879                    5                  13        22        12           0  \n",
              "\n",
              "[17880 rows x 9 columns]"
            ],
            "text/html": [
              "\n",
              "  <div id=\"df-2cb12213-d924-40bd-b2a8-2d63006b2186\">\n",
              "    <div class=\"colab-df-container\">\n",
              "      <div>\n",
              "<style scoped>\n",
              "    .dataframe tbody tr th:only-of-type {\n",
              "        vertical-align: middle;\n",
              "    }\n",
              "\n",
              "    .dataframe tbody tr th {\n",
              "        vertical-align: top;\n",
              "    }\n",
              "\n",
              "    .dataframe thead th {\n",
              "        text-align: right;\n",
              "    }\n",
              "</style>\n",
              "<table border=\"1\" class=\"dataframe\">\n",
              "  <thead>\n",
              "    <tr style=\"text-align: right;\">\n",
              "      <th></th>\n",
              "      <th>telecommuting</th>\n",
              "      <th>has_company_logo</th>\n",
              "      <th>has_questions</th>\n",
              "      <th>employment_type</th>\n",
              "      <th>required_experience</th>\n",
              "      <th>required_education</th>\n",
              "      <th>industry</th>\n",
              "      <th>function</th>\n",
              "      <th>fraudulent</th>\n",
              "    </tr>\n",
              "  </thead>\n",
              "  <tbody>\n",
              "    <tr>\n",
              "      <th>0</th>\n",
              "      <td>0</td>\n",
              "      <td>1</td>\n",
              "      <td>0</td>\n",
              "      <td>2</td>\n",
              "      <td>4</td>\n",
              "      <td>13</td>\n",
              "      <td>131</td>\n",
              "      <td>22</td>\n",
              "      <td>0</td>\n",
              "    </tr>\n",
              "    <tr>\n",
              "      <th>1</th>\n",
              "      <td>0</td>\n",
              "      <td>1</td>\n",
              "      <td>0</td>\n",
              "      <td>1</td>\n",
              "      <td>6</td>\n",
              "      <td>13</td>\n",
              "      <td>75</td>\n",
              "      <td>7</td>\n",
              "      <td>0</td>\n",
              "    </tr>\n",
              "    <tr>\n",
              "      <th>2</th>\n",
              "      <td>0</td>\n",
              "      <td>1</td>\n",
              "      <td>0</td>\n",
              "      <td>5</td>\n",
              "      <td>7</td>\n",
              "      <td>13</td>\n",
              "      <td>131</td>\n",
              "      <td>37</td>\n",
              "      <td>0</td>\n",
              "    </tr>\n",
              "    <tr>\n",
              "      <th>3</th>\n",
              "      <td>0</td>\n",
              "      <td>1</td>\n",
              "      <td>0</td>\n",
              "      <td>1</td>\n",
              "      <td>5</td>\n",
              "      <td>1</td>\n",
              "      <td>22</td>\n",
              "      <td>31</td>\n",
              "      <td>0</td>\n",
              "    </tr>\n",
              "    <tr>\n",
              "      <th>4</th>\n",
              "      <td>0</td>\n",
              "      <td>1</td>\n",
              "      <td>1</td>\n",
              "      <td>1</td>\n",
              "      <td>5</td>\n",
              "      <td>1</td>\n",
              "      <td>51</td>\n",
              "      <td>16</td>\n",
              "      <td>0</td>\n",
              "    </tr>\n",
              "    <tr>\n",
              "      <th>...</th>\n",
              "      <td>...</td>\n",
              "      <td>...</td>\n",
              "      <td>...</td>\n",
              "      <td>...</td>\n",
              "      <td>...</td>\n",
              "      <td>...</td>\n",
              "      <td>...</td>\n",
              "      <td>...</td>\n",
              "      <td>...</td>\n",
              "    </tr>\n",
              "    <tr>\n",
              "      <th>17875</th>\n",
              "      <td>0</td>\n",
              "      <td>1</td>\n",
              "      <td>1</td>\n",
              "      <td>1</td>\n",
              "      <td>5</td>\n",
              "      <td>13</td>\n",
              "      <td>22</td>\n",
              "      <td>31</td>\n",
              "      <td>0</td>\n",
              "    </tr>\n",
              "    <tr>\n",
              "      <th>17876</th>\n",
              "      <td>0</td>\n",
              "      <td>1</td>\n",
              "      <td>1</td>\n",
              "      <td>1</td>\n",
              "      <td>5</td>\n",
              "      <td>1</td>\n",
              "      <td>61</td>\n",
              "      <td>0</td>\n",
              "      <td>0</td>\n",
              "    </tr>\n",
              "    <tr>\n",
              "      <th>17877</th>\n",
              "      <td>0</td>\n",
              "      <td>0</td>\n",
              "      <td>0</td>\n",
              "      <td>1</td>\n",
              "      <td>7</td>\n",
              "      <td>13</td>\n",
              "      <td>131</td>\n",
              "      <td>37</td>\n",
              "      <td>0</td>\n",
              "    </tr>\n",
              "    <tr>\n",
              "      <th>17878</th>\n",
              "      <td>0</td>\n",
              "      <td>0</td>\n",
              "      <td>1</td>\n",
              "      <td>0</td>\n",
              "      <td>6</td>\n",
              "      <td>6</td>\n",
              "      <td>48</td>\n",
              "      <td>9</td>\n",
              "      <td>0</td>\n",
              "    </tr>\n",
              "    <tr>\n",
              "      <th>17879</th>\n",
              "      <td>0</td>\n",
              "      <td>1</td>\n",
              "      <td>1</td>\n",
              "      <td>1</td>\n",
              "      <td>5</td>\n",
              "      <td>13</td>\n",
              "      <td>22</td>\n",
              "      <td>12</td>\n",
              "      <td>0</td>\n",
              "    </tr>\n",
              "  </tbody>\n",
              "</table>\n",
              "<p>17880 rows × 9 columns</p>\n",
              "</div>\n",
              "      <button class=\"colab-df-convert\" onclick=\"convertToInteractive('df-2cb12213-d924-40bd-b2a8-2d63006b2186')\"\n",
              "              title=\"Convert this dataframe to an interactive table.\"\n",
              "              style=\"display:none;\">\n",
              "        \n",
              "  <svg xmlns=\"http://www.w3.org/2000/svg\" height=\"24px\"viewBox=\"0 0 24 24\"\n",
              "       width=\"24px\">\n",
              "    <path d=\"M0 0h24v24H0V0z\" fill=\"none\"/>\n",
              "    <path d=\"M18.56 5.44l.94 2.06.94-2.06 2.06-.94-2.06-.94-.94-2.06-.94 2.06-2.06.94zm-11 1L8.5 8.5l.94-2.06 2.06-.94-2.06-.94L8.5 2.5l-.94 2.06-2.06.94zm10 10l.94 2.06.94-2.06 2.06-.94-2.06-.94-.94-2.06-.94 2.06-2.06.94z\"/><path d=\"M17.41 7.96l-1.37-1.37c-.4-.4-.92-.59-1.43-.59-.52 0-1.04.2-1.43.59L10.3 9.45l-7.72 7.72c-.78.78-.78 2.05 0 2.83L4 21.41c.39.39.9.59 1.41.59.51 0 1.02-.2 1.41-.59l7.78-7.78 2.81-2.81c.8-.78.8-2.07 0-2.86zM5.41 20L4 18.59l7.72-7.72 1.47 1.35L5.41 20z\"/>\n",
              "  </svg>\n",
              "      </button>\n",
              "      \n",
              "  <style>\n",
              "    .colab-df-container {\n",
              "      display:flex;\n",
              "      flex-wrap:wrap;\n",
              "      gap: 12px;\n",
              "    }\n",
              "\n",
              "    .colab-df-convert {\n",
              "      background-color: #E8F0FE;\n",
              "      border: none;\n",
              "      border-radius: 50%;\n",
              "      cursor: pointer;\n",
              "      display: none;\n",
              "      fill: #1967D2;\n",
              "      height: 32px;\n",
              "      padding: 0 0 0 0;\n",
              "      width: 32px;\n",
              "    }\n",
              "\n",
              "    .colab-df-convert:hover {\n",
              "      background-color: #E2EBFA;\n",
              "      box-shadow: 0px 1px 2px rgba(60, 64, 67, 0.3), 0px 1px 3px 1px rgba(60, 64, 67, 0.15);\n",
              "      fill: #174EA6;\n",
              "    }\n",
              "\n",
              "    [theme=dark] .colab-df-convert {\n",
              "      background-color: #3B4455;\n",
              "      fill: #D2E3FC;\n",
              "    }\n",
              "\n",
              "    [theme=dark] .colab-df-convert:hover {\n",
              "      background-color: #434B5C;\n",
              "      box-shadow: 0px 1px 3px 1px rgba(0, 0, 0, 0.15);\n",
              "      filter: drop-shadow(0px 1px 2px rgba(0, 0, 0, 0.3));\n",
              "      fill: #FFFFFF;\n",
              "    }\n",
              "  </style>\n",
              "\n",
              "      <script>\n",
              "        const buttonEl =\n",
              "          document.querySelector('#df-2cb12213-d924-40bd-b2a8-2d63006b2186 button.colab-df-convert');\n",
              "        buttonEl.style.display =\n",
              "          google.colab.kernel.accessAllowed ? 'block' : 'none';\n",
              "\n",
              "        async function convertToInteractive(key) {\n",
              "          const element = document.querySelector('#df-2cb12213-d924-40bd-b2a8-2d63006b2186');\n",
              "          const dataTable =\n",
              "            await google.colab.kernel.invokeFunction('convertToInteractive',\n",
              "                                                     [key], {});\n",
              "          if (!dataTable) return;\n",
              "\n",
              "          const docLinkHtml = 'Like what you see? Visit the ' +\n",
              "            '<a target=\"_blank\" href=https://colab.research.google.com/notebooks/data_table.ipynb>data table notebook</a>'\n",
              "            + ' to learn more about interactive tables.';\n",
              "          element.innerHTML = '';\n",
              "          dataTable['output_type'] = 'display_data';\n",
              "          await google.colab.output.renderOutput(dataTable, element);\n",
              "          const docLink = document.createElement('div');\n",
              "          docLink.innerHTML = docLinkHtml;\n",
              "          element.appendChild(docLink);\n",
              "        }\n",
              "      </script>\n",
              "    </div>\n",
              "  </div>\n",
              "  "
            ]
          },
          "metadata": {},
          "execution_count": 55
        }
      ],
      "source": [
        "new_data"
      ],
      "id": "9DX1sm0_ndZ1"
    },
    {
      "cell_type": "code",
      "execution_count": null,
      "metadata": {
        "id": "MjjyTtiSE5qL"
      },
      "outputs": [],
      "source": [
        "main_data = pd.concat([_1,new_data], axis=1)"
      ],
      "id": "MjjyTtiSE5qL"
    },
    {
      "cell_type": "code",
      "execution_count": null,
      "metadata": {
        "colab": {
          "base_uri": "https://localhost:8080/",
          "height": 487
        },
        "id": "beufmcYKE8j9",
        "outputId": "227ca332-5b60-490e-bd9f-3b4d7f3ae5eb"
      },
      "outputs": [
        {
          "output_type": "execute_result",
          "data": {
            "text/plain": [
              "              0         1         2         3         4         5         6  \\\n",
              "0     -0.002061  0.066000 -0.017966 -0.061503  0.030577 -0.019662 -0.085162   \n",
              "1      0.028571  0.063619 -0.053331 -0.056595  0.022424  0.000128 -0.069555   \n",
              "2      0.031692  0.078740  0.024006 -0.062013  0.007968 -0.018392 -0.071365   \n",
              "3      0.040483  0.059467  0.008781 -0.013202  0.032882 -0.009149 -0.084195   \n",
              "4      0.036627  0.049534  0.018203 -0.034942  0.029900 -0.005607 -0.078676   \n",
              "...         ...       ...       ...       ...       ...       ...       ...   \n",
              "17875  0.052695  0.037381 -0.032322 -0.042386  0.017173 -0.008292 -0.074659   \n",
              "17876  0.051455  0.064098 -0.015834 -0.028895  0.040883 -0.026099 -0.067135   \n",
              "17877  0.036313  0.027983  0.022579 -0.028348  0.046630 -0.006606 -0.085808   \n",
              "17878  0.023673  0.069232 -0.036682 -0.078467  0.079021 -0.016263 -0.117926   \n",
              "17879  0.056539  0.054882 -0.041412 -0.053222  0.041028 -0.004214 -0.080467   \n",
              "\n",
              "              7         8         9  ...       199  telecommuting  \\\n",
              "0      0.000982 -0.030580  0.030815  ...  0.015658              0   \n",
              "1      0.009650  0.013362  0.031480  ...  0.016425              0   \n",
              "2      0.035503  0.021990  0.008586  ... -0.001151              0   \n",
              "3      0.038128  0.002978  0.056617  ...  0.017022              0   \n",
              "4      0.016035  0.003705  0.035780  ...  0.006174              0   \n",
              "...         ...       ...       ...  ...       ...            ...   \n",
              "17875  0.007101 -0.000324  0.047896  ...  0.026960              0   \n",
              "17876  0.025180 -0.007879  0.052108  ...  0.021530              0   \n",
              "17877  0.003379  0.005933  0.043600  ... -0.001572              0   \n",
              "17878  0.013720  0.048151  0.027105  ... -0.005863              0   \n",
              "17879  0.020165 -0.015131  0.056915  ...  0.032474              0   \n",
              "\n",
              "       has_company_logo  has_questions  employment_type  required_experience  \\\n",
              "0                     1              0                2                    4   \n",
              "1                     1              0                1                    6   \n",
              "2                     1              0                5                    7   \n",
              "3                     1              0                1                    5   \n",
              "4                     1              1                1                    5   \n",
              "...                 ...            ...              ...                  ...   \n",
              "17875                 1              1                1                    5   \n",
              "17876                 1              1                1                    5   \n",
              "17877                 0              0                1                    7   \n",
              "17878                 0              1                0                    6   \n",
              "17879                 1              1                1                    5   \n",
              "\n",
              "       required_education  industry  function  fraudulent  \n",
              "0                      13       131        22           0  \n",
              "1                      13        75         7           0  \n",
              "2                      13       131        37           0  \n",
              "3                       1        22        31           0  \n",
              "4                       1        51        16           0  \n",
              "...                   ...       ...       ...         ...  \n",
              "17875                  13        22        31           0  \n",
              "17876                   1        61         0           0  \n",
              "17877                  13       131        37           0  \n",
              "17878                   6        48         9           0  \n",
              "17879                  13        22        12           0  \n",
              "\n",
              "[17880 rows x 209 columns]"
            ],
            "text/html": [
              "\n",
              "  <div id=\"df-a779539d-a114-4586-86fe-59830c04d0cd\">\n",
              "    <div class=\"colab-df-container\">\n",
              "      <div>\n",
              "<style scoped>\n",
              "    .dataframe tbody tr th:only-of-type {\n",
              "        vertical-align: middle;\n",
              "    }\n",
              "\n",
              "    .dataframe tbody tr th {\n",
              "        vertical-align: top;\n",
              "    }\n",
              "\n",
              "    .dataframe thead th {\n",
              "        text-align: right;\n",
              "    }\n",
              "</style>\n",
              "<table border=\"1\" class=\"dataframe\">\n",
              "  <thead>\n",
              "    <tr style=\"text-align: right;\">\n",
              "      <th></th>\n",
              "      <th>0</th>\n",
              "      <th>1</th>\n",
              "      <th>2</th>\n",
              "      <th>3</th>\n",
              "      <th>4</th>\n",
              "      <th>5</th>\n",
              "      <th>6</th>\n",
              "      <th>7</th>\n",
              "      <th>8</th>\n",
              "      <th>9</th>\n",
              "      <th>...</th>\n",
              "      <th>199</th>\n",
              "      <th>telecommuting</th>\n",
              "      <th>has_company_logo</th>\n",
              "      <th>has_questions</th>\n",
              "      <th>employment_type</th>\n",
              "      <th>required_experience</th>\n",
              "      <th>required_education</th>\n",
              "      <th>industry</th>\n",
              "      <th>function</th>\n",
              "      <th>fraudulent</th>\n",
              "    </tr>\n",
              "  </thead>\n",
              "  <tbody>\n",
              "    <tr>\n",
              "      <th>0</th>\n",
              "      <td>-0.002061</td>\n",
              "      <td>0.066000</td>\n",
              "      <td>-0.017966</td>\n",
              "      <td>-0.061503</td>\n",
              "      <td>0.030577</td>\n",
              "      <td>-0.019662</td>\n",
              "      <td>-0.085162</td>\n",
              "      <td>0.000982</td>\n",
              "      <td>-0.030580</td>\n",
              "      <td>0.030815</td>\n",
              "      <td>...</td>\n",
              "      <td>0.015658</td>\n",
              "      <td>0</td>\n",
              "      <td>1</td>\n",
              "      <td>0</td>\n",
              "      <td>2</td>\n",
              "      <td>4</td>\n",
              "      <td>13</td>\n",
              "      <td>131</td>\n",
              "      <td>22</td>\n",
              "      <td>0</td>\n",
              "    </tr>\n",
              "    <tr>\n",
              "      <th>1</th>\n",
              "      <td>0.028571</td>\n",
              "      <td>0.063619</td>\n",
              "      <td>-0.053331</td>\n",
              "      <td>-0.056595</td>\n",
              "      <td>0.022424</td>\n",
              "      <td>0.000128</td>\n",
              "      <td>-0.069555</td>\n",
              "      <td>0.009650</td>\n",
              "      <td>0.013362</td>\n",
              "      <td>0.031480</td>\n",
              "      <td>...</td>\n",
              "      <td>0.016425</td>\n",
              "      <td>0</td>\n",
              "      <td>1</td>\n",
              "      <td>0</td>\n",
              "      <td>1</td>\n",
              "      <td>6</td>\n",
              "      <td>13</td>\n",
              "      <td>75</td>\n",
              "      <td>7</td>\n",
              "      <td>0</td>\n",
              "    </tr>\n",
              "    <tr>\n",
              "      <th>2</th>\n",
              "      <td>0.031692</td>\n",
              "      <td>0.078740</td>\n",
              "      <td>0.024006</td>\n",
              "      <td>-0.062013</td>\n",
              "      <td>0.007968</td>\n",
              "      <td>-0.018392</td>\n",
              "      <td>-0.071365</td>\n",
              "      <td>0.035503</td>\n",
              "      <td>0.021990</td>\n",
              "      <td>0.008586</td>\n",
              "      <td>...</td>\n",
              "      <td>-0.001151</td>\n",
              "      <td>0</td>\n",
              "      <td>1</td>\n",
              "      <td>0</td>\n",
              "      <td>5</td>\n",
              "      <td>7</td>\n",
              "      <td>13</td>\n",
              "      <td>131</td>\n",
              "      <td>37</td>\n",
              "      <td>0</td>\n",
              "    </tr>\n",
              "    <tr>\n",
              "      <th>3</th>\n",
              "      <td>0.040483</td>\n",
              "      <td>0.059467</td>\n",
              "      <td>0.008781</td>\n",
              "      <td>-0.013202</td>\n",
              "      <td>0.032882</td>\n",
              "      <td>-0.009149</td>\n",
              "      <td>-0.084195</td>\n",
              "      <td>0.038128</td>\n",
              "      <td>0.002978</td>\n",
              "      <td>0.056617</td>\n",
              "      <td>...</td>\n",
              "      <td>0.017022</td>\n",
              "      <td>0</td>\n",
              "      <td>1</td>\n",
              "      <td>0</td>\n",
              "      <td>1</td>\n",
              "      <td>5</td>\n",
              "      <td>1</td>\n",
              "      <td>22</td>\n",
              "      <td>31</td>\n",
              "      <td>0</td>\n",
              "    </tr>\n",
              "    <tr>\n",
              "      <th>4</th>\n",
              "      <td>0.036627</td>\n",
              "      <td>0.049534</td>\n",
              "      <td>0.018203</td>\n",
              "      <td>-0.034942</td>\n",
              "      <td>0.029900</td>\n",
              "      <td>-0.005607</td>\n",
              "      <td>-0.078676</td>\n",
              "      <td>0.016035</td>\n",
              "      <td>0.003705</td>\n",
              "      <td>0.035780</td>\n",
              "      <td>...</td>\n",
              "      <td>0.006174</td>\n",
              "      <td>0</td>\n",
              "      <td>1</td>\n",
              "      <td>1</td>\n",
              "      <td>1</td>\n",
              "      <td>5</td>\n",
              "      <td>1</td>\n",
              "      <td>51</td>\n",
              "      <td>16</td>\n",
              "      <td>0</td>\n",
              "    </tr>\n",
              "    <tr>\n",
              "      <th>...</th>\n",
              "      <td>...</td>\n",
              "      <td>...</td>\n",
              "      <td>...</td>\n",
              "      <td>...</td>\n",
              "      <td>...</td>\n",
              "      <td>...</td>\n",
              "      <td>...</td>\n",
              "      <td>...</td>\n",
              "      <td>...</td>\n",
              "      <td>...</td>\n",
              "      <td>...</td>\n",
              "      <td>...</td>\n",
              "      <td>...</td>\n",
              "      <td>...</td>\n",
              "      <td>...</td>\n",
              "      <td>...</td>\n",
              "      <td>...</td>\n",
              "      <td>...</td>\n",
              "      <td>...</td>\n",
              "      <td>...</td>\n",
              "      <td>...</td>\n",
              "    </tr>\n",
              "    <tr>\n",
              "      <th>17875</th>\n",
              "      <td>0.052695</td>\n",
              "      <td>0.037381</td>\n",
              "      <td>-0.032322</td>\n",
              "      <td>-0.042386</td>\n",
              "      <td>0.017173</td>\n",
              "      <td>-0.008292</td>\n",
              "      <td>-0.074659</td>\n",
              "      <td>0.007101</td>\n",
              "      <td>-0.000324</td>\n",
              "      <td>0.047896</td>\n",
              "      <td>...</td>\n",
              "      <td>0.026960</td>\n",
              "      <td>0</td>\n",
              "      <td>1</td>\n",
              "      <td>1</td>\n",
              "      <td>1</td>\n",
              "      <td>5</td>\n",
              "      <td>13</td>\n",
              "      <td>22</td>\n",
              "      <td>31</td>\n",
              "      <td>0</td>\n",
              "    </tr>\n",
              "    <tr>\n",
              "      <th>17876</th>\n",
              "      <td>0.051455</td>\n",
              "      <td>0.064098</td>\n",
              "      <td>-0.015834</td>\n",
              "      <td>-0.028895</td>\n",
              "      <td>0.040883</td>\n",
              "      <td>-0.026099</td>\n",
              "      <td>-0.067135</td>\n",
              "      <td>0.025180</td>\n",
              "      <td>-0.007879</td>\n",
              "      <td>0.052108</td>\n",
              "      <td>...</td>\n",
              "      <td>0.021530</td>\n",
              "      <td>0</td>\n",
              "      <td>1</td>\n",
              "      <td>1</td>\n",
              "      <td>1</td>\n",
              "      <td>5</td>\n",
              "      <td>1</td>\n",
              "      <td>61</td>\n",
              "      <td>0</td>\n",
              "      <td>0</td>\n",
              "    </tr>\n",
              "    <tr>\n",
              "      <th>17877</th>\n",
              "      <td>0.036313</td>\n",
              "      <td>0.027983</td>\n",
              "      <td>0.022579</td>\n",
              "      <td>-0.028348</td>\n",
              "      <td>0.046630</td>\n",
              "      <td>-0.006606</td>\n",
              "      <td>-0.085808</td>\n",
              "      <td>0.003379</td>\n",
              "      <td>0.005933</td>\n",
              "      <td>0.043600</td>\n",
              "      <td>...</td>\n",
              "      <td>-0.001572</td>\n",
              "      <td>0</td>\n",
              "      <td>0</td>\n",
              "      <td>0</td>\n",
              "      <td>1</td>\n",
              "      <td>7</td>\n",
              "      <td>13</td>\n",
              "      <td>131</td>\n",
              "      <td>37</td>\n",
              "      <td>0</td>\n",
              "    </tr>\n",
              "    <tr>\n",
              "      <th>17878</th>\n",
              "      <td>0.023673</td>\n",
              "      <td>0.069232</td>\n",
              "      <td>-0.036682</td>\n",
              "      <td>-0.078467</td>\n",
              "      <td>0.079021</td>\n",
              "      <td>-0.016263</td>\n",
              "      <td>-0.117926</td>\n",
              "      <td>0.013720</td>\n",
              "      <td>0.048151</td>\n",
              "      <td>0.027105</td>\n",
              "      <td>...</td>\n",
              "      <td>-0.005863</td>\n",
              "      <td>0</td>\n",
              "      <td>0</td>\n",
              "      <td>1</td>\n",
              "      <td>0</td>\n",
              "      <td>6</td>\n",
              "      <td>6</td>\n",
              "      <td>48</td>\n",
              "      <td>9</td>\n",
              "      <td>0</td>\n",
              "    </tr>\n",
              "    <tr>\n",
              "      <th>17879</th>\n",
              "      <td>0.056539</td>\n",
              "      <td>0.054882</td>\n",
              "      <td>-0.041412</td>\n",
              "      <td>-0.053222</td>\n",
              "      <td>0.041028</td>\n",
              "      <td>-0.004214</td>\n",
              "      <td>-0.080467</td>\n",
              "      <td>0.020165</td>\n",
              "      <td>-0.015131</td>\n",
              "      <td>0.056915</td>\n",
              "      <td>...</td>\n",
              "      <td>0.032474</td>\n",
              "      <td>0</td>\n",
              "      <td>1</td>\n",
              "      <td>1</td>\n",
              "      <td>1</td>\n",
              "      <td>5</td>\n",
              "      <td>13</td>\n",
              "      <td>22</td>\n",
              "      <td>12</td>\n",
              "      <td>0</td>\n",
              "    </tr>\n",
              "  </tbody>\n",
              "</table>\n",
              "<p>17880 rows × 209 columns</p>\n",
              "</div>\n",
              "      <button class=\"colab-df-convert\" onclick=\"convertToInteractive('df-a779539d-a114-4586-86fe-59830c04d0cd')\"\n",
              "              title=\"Convert this dataframe to an interactive table.\"\n",
              "              style=\"display:none;\">\n",
              "        \n",
              "  <svg xmlns=\"http://www.w3.org/2000/svg\" height=\"24px\"viewBox=\"0 0 24 24\"\n",
              "       width=\"24px\">\n",
              "    <path d=\"M0 0h24v24H0V0z\" fill=\"none\"/>\n",
              "    <path d=\"M18.56 5.44l.94 2.06.94-2.06 2.06-.94-2.06-.94-.94-2.06-.94 2.06-2.06.94zm-11 1L8.5 8.5l.94-2.06 2.06-.94-2.06-.94L8.5 2.5l-.94 2.06-2.06.94zm10 10l.94 2.06.94-2.06 2.06-.94-2.06-.94-.94-2.06-.94 2.06-2.06.94z\"/><path d=\"M17.41 7.96l-1.37-1.37c-.4-.4-.92-.59-1.43-.59-.52 0-1.04.2-1.43.59L10.3 9.45l-7.72 7.72c-.78.78-.78 2.05 0 2.83L4 21.41c.39.39.9.59 1.41.59.51 0 1.02-.2 1.41-.59l7.78-7.78 2.81-2.81c.8-.78.8-2.07 0-2.86zM5.41 20L4 18.59l7.72-7.72 1.47 1.35L5.41 20z\"/>\n",
              "  </svg>\n",
              "      </button>\n",
              "      \n",
              "  <style>\n",
              "    .colab-df-container {\n",
              "      display:flex;\n",
              "      flex-wrap:wrap;\n",
              "      gap: 12px;\n",
              "    }\n",
              "\n",
              "    .colab-df-convert {\n",
              "      background-color: #E8F0FE;\n",
              "      border: none;\n",
              "      border-radius: 50%;\n",
              "      cursor: pointer;\n",
              "      display: none;\n",
              "      fill: #1967D2;\n",
              "      height: 32px;\n",
              "      padding: 0 0 0 0;\n",
              "      width: 32px;\n",
              "    }\n",
              "\n",
              "    .colab-df-convert:hover {\n",
              "      background-color: #E2EBFA;\n",
              "      box-shadow: 0px 1px 2px rgba(60, 64, 67, 0.3), 0px 1px 3px 1px rgba(60, 64, 67, 0.15);\n",
              "      fill: #174EA6;\n",
              "    }\n",
              "\n",
              "    [theme=dark] .colab-df-convert {\n",
              "      background-color: #3B4455;\n",
              "      fill: #D2E3FC;\n",
              "    }\n",
              "\n",
              "    [theme=dark] .colab-df-convert:hover {\n",
              "      background-color: #434B5C;\n",
              "      box-shadow: 0px 1px 3px 1px rgba(0, 0, 0, 0.15);\n",
              "      filter: drop-shadow(0px 1px 2px rgba(0, 0, 0, 0.3));\n",
              "      fill: #FFFFFF;\n",
              "    }\n",
              "  </style>\n",
              "\n",
              "      <script>\n",
              "        const buttonEl =\n",
              "          document.querySelector('#df-a779539d-a114-4586-86fe-59830c04d0cd button.colab-df-convert');\n",
              "        buttonEl.style.display =\n",
              "          google.colab.kernel.accessAllowed ? 'block' : 'none';\n",
              "\n",
              "        async function convertToInteractive(key) {\n",
              "          const element = document.querySelector('#df-a779539d-a114-4586-86fe-59830c04d0cd');\n",
              "          const dataTable =\n",
              "            await google.colab.kernel.invokeFunction('convertToInteractive',\n",
              "                                                     [key], {});\n",
              "          if (!dataTable) return;\n",
              "\n",
              "          const docLinkHtml = 'Like what you see? Visit the ' +\n",
              "            '<a target=\"_blank\" href=https://colab.research.google.com/notebooks/data_table.ipynb>data table notebook</a>'\n",
              "            + ' to learn more about interactive tables.';\n",
              "          element.innerHTML = '';\n",
              "          dataTable['output_type'] = 'display_data';\n",
              "          await google.colab.output.renderOutput(dataTable, element);\n",
              "          const docLink = document.createElement('div');\n",
              "          docLink.innerHTML = docLinkHtml;\n",
              "          element.appendChild(docLink);\n",
              "        }\n",
              "      </script>\n",
              "    </div>\n",
              "  </div>\n",
              "  "
            ]
          },
          "metadata": {},
          "execution_count": 57
        }
      ],
      "source": [
        "main_data"
      ],
      "id": "beufmcYKE8j9"
    },
    {
      "cell_type": "code",
      "execution_count": null,
      "metadata": {
        "id": "MiirpI2npcil"
      },
      "outputs": [],
      "source": [
        "main_data.columns = main_data.columns.astype(str)"
      ],
      "id": "MiirpI2npcil"
    },
    {
      "cell_type": "code",
      "execution_count": null,
      "metadata": {
        "colab": {
          "base_uri": "https://localhost:8080/"
        },
        "id": "4c766ec3-d74a-4f1b-be31-ca227a2672cc",
        "outputId": "886a42ce-8373-4b13-d3b7-56c9865bdafc"
      },
      "outputs": [
        {
          "output_type": "stream",
          "name": "stdout",
          "text": [
            "<class 'pandas.core.frame.DataFrame'>\n",
            "RangeIndex: 17880 entries, 0 to 17879\n",
            "Data columns (total 9 columns):\n",
            " #   Column               Non-Null Count  Dtype\n",
            "---  ------               --------------  -----\n",
            " 0   telecommuting        17880 non-null  int64\n",
            " 1   has_company_logo     17880 non-null  int64\n",
            " 2   has_questions        17880 non-null  int64\n",
            " 3   employment_type      17880 non-null  int64\n",
            " 4   required_experience  17880 non-null  int64\n",
            " 5   required_education   17880 non-null  int64\n",
            " 6   industry             17880 non-null  int64\n",
            " 7   function             17880 non-null  int64\n",
            " 8   fraudulent           17880 non-null  int64\n",
            "dtypes: int64(9)\n",
            "memory usage: 1.2 MB\n"
          ]
        }
      ],
      "source": [
        "new_data.info()"
      ],
      "id": "4c766ec3-d74a-4f1b-be31-ca227a2672cc"
    },
    {
      "cell_type": "code",
      "execution_count": null,
      "metadata": {
        "id": "1de46349-997f-4271-9134-fca0dc558ccc"
      },
      "outputs": [],
      "source": [
        "scaler = StandardScaler()\n",
        "\n",
        "main_data[['required_education', 'required_experience', 'employment_type','industry','function']] = StandardScaler().fit_transform(main_data[['required_education', 'required_experience', 'employment_type','industry','function']])"
      ],
      "id": "1de46349-997f-4271-9134-fca0dc558ccc"
    },
    {
      "cell_type": "code",
      "execution_count": null,
      "metadata": {
        "colab": {
          "base_uri": "https://localhost:8080/",
          "height": 487
        },
        "id": "ff079276-7b5b-4694-bc43-b33005514ab0",
        "outputId": "bbef27e2-dc5b-453d-a490-4e5509183be8"
      },
      "outputs": [
        {
          "output_type": "execute_result",
          "data": {
            "text/plain": [
              "              0         1         2         3         4         5         6  \\\n",
              "0     -0.002061  0.066000 -0.017966 -0.061503  0.030577 -0.019662 -0.085162   \n",
              "1      0.028571  0.063619 -0.053331 -0.056595  0.022424  0.000128 -0.069555   \n",
              "2      0.031692  0.078740  0.024006 -0.062013  0.007968 -0.018392 -0.071365   \n",
              "3      0.040483  0.059467  0.008781 -0.013202  0.032882 -0.009149 -0.084195   \n",
              "4      0.036627  0.049534  0.018203 -0.034942  0.029900 -0.005607 -0.078676   \n",
              "...         ...       ...       ...       ...       ...       ...       ...   \n",
              "17875  0.052695  0.037381 -0.032322 -0.042386  0.017173 -0.008292 -0.074659   \n",
              "17876  0.051455  0.064098 -0.015834 -0.028895  0.040883 -0.026099 -0.067135   \n",
              "17877  0.036313  0.027983  0.022579 -0.028348  0.046630 -0.006606 -0.085808   \n",
              "17878  0.023673  0.069232 -0.036682 -0.078467  0.079021 -0.016263 -0.117926   \n",
              "17879  0.056539  0.054882 -0.041412 -0.053222  0.041028 -0.004214 -0.080467   \n",
              "\n",
              "              7         8         9  ...       199  telecommuting  \\\n",
              "0      0.000982 -0.030580  0.030815  ...  0.015658              0   \n",
              "1      0.009650  0.013362  0.031480  ...  0.016425              0   \n",
              "2      0.035503  0.021990  0.008586  ... -0.001151              0   \n",
              "3      0.038128  0.002978  0.056617  ...  0.017022              0   \n",
              "4      0.016035  0.003705  0.035780  ...  0.006174              0   \n",
              "...         ...       ...       ...  ...       ...            ...   \n",
              "17875  0.007101 -0.000324  0.047896  ...  0.026960              0   \n",
              "17876  0.025180 -0.007879  0.052108  ...  0.021530              0   \n",
              "17877  0.003379  0.005933  0.043600  ... -0.001572              0   \n",
              "17878  0.013720  0.048151  0.027105  ... -0.005863              0   \n",
              "17879  0.020165 -0.015131  0.056915  ...  0.032474              0   \n",
              "\n",
              "       has_company_logo  has_questions  employment_type  required_experience  \\\n",
              "0                     1              0         0.099313            -0.248399   \n",
              "1                     1              0        -0.497368             0.537615   \n",
              "2                     1              0         1.889358             0.930622   \n",
              "3                     1              0        -0.497368             0.144608   \n",
              "4                     1              1        -0.497368             0.144608   \n",
              "...                 ...            ...              ...                  ...   \n",
              "17875                 1              1        -0.497368             0.144608   \n",
              "17876                 1              1        -0.497368             0.144608   \n",
              "17877                 0              0        -0.497368             0.930622   \n",
              "17878                 0              1        -1.094049             0.537615   \n",
              "17879                 1              1        -0.497368             0.144608   \n",
              "\n",
              "       required_education  industry  function  fraudulent  \n",
              "0                1.005226  1.308985 -0.145416           0  \n",
              "1                1.005226  0.011506 -1.352449           0  \n",
              "2                1.005226  1.308985  1.061618           0  \n",
              "3               -1.229790 -1.216466  0.578804           0  \n",
              "4               -1.229790 -0.544557 -0.628229           0  \n",
              "...                   ...       ...       ...         ...  \n",
              "17875            1.005226 -1.216466  0.578804           0  \n",
              "17876           -1.229790 -0.312864 -1.915731           0  \n",
              "17877            1.005226  1.308985  1.061618           0  \n",
              "17878           -0.298533 -0.614065 -1.191511           0  \n",
              "17879            1.005226 -1.216466 -0.950104           0  \n",
              "\n",
              "[17880 rows x 209 columns]"
            ],
            "text/html": [
              "\n",
              "  <div id=\"df-041e49cb-ecd0-4b38-ba73-9640f49a9159\">\n",
              "    <div class=\"colab-df-container\">\n",
              "      <div>\n",
              "<style scoped>\n",
              "    .dataframe tbody tr th:only-of-type {\n",
              "        vertical-align: middle;\n",
              "    }\n",
              "\n",
              "    .dataframe tbody tr th {\n",
              "        vertical-align: top;\n",
              "    }\n",
              "\n",
              "    .dataframe thead th {\n",
              "        text-align: right;\n",
              "    }\n",
              "</style>\n",
              "<table border=\"1\" class=\"dataframe\">\n",
              "  <thead>\n",
              "    <tr style=\"text-align: right;\">\n",
              "      <th></th>\n",
              "      <th>0</th>\n",
              "      <th>1</th>\n",
              "      <th>2</th>\n",
              "      <th>3</th>\n",
              "      <th>4</th>\n",
              "      <th>5</th>\n",
              "      <th>6</th>\n",
              "      <th>7</th>\n",
              "      <th>8</th>\n",
              "      <th>9</th>\n",
              "      <th>...</th>\n",
              "      <th>199</th>\n",
              "      <th>telecommuting</th>\n",
              "      <th>has_company_logo</th>\n",
              "      <th>has_questions</th>\n",
              "      <th>employment_type</th>\n",
              "      <th>required_experience</th>\n",
              "      <th>required_education</th>\n",
              "      <th>industry</th>\n",
              "      <th>function</th>\n",
              "      <th>fraudulent</th>\n",
              "    </tr>\n",
              "  </thead>\n",
              "  <tbody>\n",
              "    <tr>\n",
              "      <th>0</th>\n",
              "      <td>-0.002061</td>\n",
              "      <td>0.066000</td>\n",
              "      <td>-0.017966</td>\n",
              "      <td>-0.061503</td>\n",
              "      <td>0.030577</td>\n",
              "      <td>-0.019662</td>\n",
              "      <td>-0.085162</td>\n",
              "      <td>0.000982</td>\n",
              "      <td>-0.030580</td>\n",
              "      <td>0.030815</td>\n",
              "      <td>...</td>\n",
              "      <td>0.015658</td>\n",
              "      <td>0</td>\n",
              "      <td>1</td>\n",
              "      <td>0</td>\n",
              "      <td>0.099313</td>\n",
              "      <td>-0.248399</td>\n",
              "      <td>1.005226</td>\n",
              "      <td>1.308985</td>\n",
              "      <td>-0.145416</td>\n",
              "      <td>0</td>\n",
              "    </tr>\n",
              "    <tr>\n",
              "      <th>1</th>\n",
              "      <td>0.028571</td>\n",
              "      <td>0.063619</td>\n",
              "      <td>-0.053331</td>\n",
              "      <td>-0.056595</td>\n",
              "      <td>0.022424</td>\n",
              "      <td>0.000128</td>\n",
              "      <td>-0.069555</td>\n",
              "      <td>0.009650</td>\n",
              "      <td>0.013362</td>\n",
              "      <td>0.031480</td>\n",
              "      <td>...</td>\n",
              "      <td>0.016425</td>\n",
              "      <td>0</td>\n",
              "      <td>1</td>\n",
              "      <td>0</td>\n",
              "      <td>-0.497368</td>\n",
              "      <td>0.537615</td>\n",
              "      <td>1.005226</td>\n",
              "      <td>0.011506</td>\n",
              "      <td>-1.352449</td>\n",
              "      <td>0</td>\n",
              "    </tr>\n",
              "    <tr>\n",
              "      <th>2</th>\n",
              "      <td>0.031692</td>\n",
              "      <td>0.078740</td>\n",
              "      <td>0.024006</td>\n",
              "      <td>-0.062013</td>\n",
              "      <td>0.007968</td>\n",
              "      <td>-0.018392</td>\n",
              "      <td>-0.071365</td>\n",
              "      <td>0.035503</td>\n",
              "      <td>0.021990</td>\n",
              "      <td>0.008586</td>\n",
              "      <td>...</td>\n",
              "      <td>-0.001151</td>\n",
              "      <td>0</td>\n",
              "      <td>1</td>\n",
              "      <td>0</td>\n",
              "      <td>1.889358</td>\n",
              "      <td>0.930622</td>\n",
              "      <td>1.005226</td>\n",
              "      <td>1.308985</td>\n",
              "      <td>1.061618</td>\n",
              "      <td>0</td>\n",
              "    </tr>\n",
              "    <tr>\n",
              "      <th>3</th>\n",
              "      <td>0.040483</td>\n",
              "      <td>0.059467</td>\n",
              "      <td>0.008781</td>\n",
              "      <td>-0.013202</td>\n",
              "      <td>0.032882</td>\n",
              "      <td>-0.009149</td>\n",
              "      <td>-0.084195</td>\n",
              "      <td>0.038128</td>\n",
              "      <td>0.002978</td>\n",
              "      <td>0.056617</td>\n",
              "      <td>...</td>\n",
              "      <td>0.017022</td>\n",
              "      <td>0</td>\n",
              "      <td>1</td>\n",
              "      <td>0</td>\n",
              "      <td>-0.497368</td>\n",
              "      <td>0.144608</td>\n",
              "      <td>-1.229790</td>\n",
              "      <td>-1.216466</td>\n",
              "      <td>0.578804</td>\n",
              "      <td>0</td>\n",
              "    </tr>\n",
              "    <tr>\n",
              "      <th>4</th>\n",
              "      <td>0.036627</td>\n",
              "      <td>0.049534</td>\n",
              "      <td>0.018203</td>\n",
              "      <td>-0.034942</td>\n",
              "      <td>0.029900</td>\n",
              "      <td>-0.005607</td>\n",
              "      <td>-0.078676</td>\n",
              "      <td>0.016035</td>\n",
              "      <td>0.003705</td>\n",
              "      <td>0.035780</td>\n",
              "      <td>...</td>\n",
              "      <td>0.006174</td>\n",
              "      <td>0</td>\n",
              "      <td>1</td>\n",
              "      <td>1</td>\n",
              "      <td>-0.497368</td>\n",
              "      <td>0.144608</td>\n",
              "      <td>-1.229790</td>\n",
              "      <td>-0.544557</td>\n",
              "      <td>-0.628229</td>\n",
              "      <td>0</td>\n",
              "    </tr>\n",
              "    <tr>\n",
              "      <th>...</th>\n",
              "      <td>...</td>\n",
              "      <td>...</td>\n",
              "      <td>...</td>\n",
              "      <td>...</td>\n",
              "      <td>...</td>\n",
              "      <td>...</td>\n",
              "      <td>...</td>\n",
              "      <td>...</td>\n",
              "      <td>...</td>\n",
              "      <td>...</td>\n",
              "      <td>...</td>\n",
              "      <td>...</td>\n",
              "      <td>...</td>\n",
              "      <td>...</td>\n",
              "      <td>...</td>\n",
              "      <td>...</td>\n",
              "      <td>...</td>\n",
              "      <td>...</td>\n",
              "      <td>...</td>\n",
              "      <td>...</td>\n",
              "      <td>...</td>\n",
              "    </tr>\n",
              "    <tr>\n",
              "      <th>17875</th>\n",
              "      <td>0.052695</td>\n",
              "      <td>0.037381</td>\n",
              "      <td>-0.032322</td>\n",
              "      <td>-0.042386</td>\n",
              "      <td>0.017173</td>\n",
              "      <td>-0.008292</td>\n",
              "      <td>-0.074659</td>\n",
              "      <td>0.007101</td>\n",
              "      <td>-0.000324</td>\n",
              "      <td>0.047896</td>\n",
              "      <td>...</td>\n",
              "      <td>0.026960</td>\n",
              "      <td>0</td>\n",
              "      <td>1</td>\n",
              "      <td>1</td>\n",
              "      <td>-0.497368</td>\n",
              "      <td>0.144608</td>\n",
              "      <td>1.005226</td>\n",
              "      <td>-1.216466</td>\n",
              "      <td>0.578804</td>\n",
              "      <td>0</td>\n",
              "    </tr>\n",
              "    <tr>\n",
              "      <th>17876</th>\n",
              "      <td>0.051455</td>\n",
              "      <td>0.064098</td>\n",
              "      <td>-0.015834</td>\n",
              "      <td>-0.028895</td>\n",
              "      <td>0.040883</td>\n",
              "      <td>-0.026099</td>\n",
              "      <td>-0.067135</td>\n",
              "      <td>0.025180</td>\n",
              "      <td>-0.007879</td>\n",
              "      <td>0.052108</td>\n",
              "      <td>...</td>\n",
              "      <td>0.021530</td>\n",
              "      <td>0</td>\n",
              "      <td>1</td>\n",
              "      <td>1</td>\n",
              "      <td>-0.497368</td>\n",
              "      <td>0.144608</td>\n",
              "      <td>-1.229790</td>\n",
              "      <td>-0.312864</td>\n",
              "      <td>-1.915731</td>\n",
              "      <td>0</td>\n",
              "    </tr>\n",
              "    <tr>\n",
              "      <th>17877</th>\n",
              "      <td>0.036313</td>\n",
              "      <td>0.027983</td>\n",
              "      <td>0.022579</td>\n",
              "      <td>-0.028348</td>\n",
              "      <td>0.046630</td>\n",
              "      <td>-0.006606</td>\n",
              "      <td>-0.085808</td>\n",
              "      <td>0.003379</td>\n",
              "      <td>0.005933</td>\n",
              "      <td>0.043600</td>\n",
              "      <td>...</td>\n",
              "      <td>-0.001572</td>\n",
              "      <td>0</td>\n",
              "      <td>0</td>\n",
              "      <td>0</td>\n",
              "      <td>-0.497368</td>\n",
              "      <td>0.930622</td>\n",
              "      <td>1.005226</td>\n",
              "      <td>1.308985</td>\n",
              "      <td>1.061618</td>\n",
              "      <td>0</td>\n",
              "    </tr>\n",
              "    <tr>\n",
              "      <th>17878</th>\n",
              "      <td>0.023673</td>\n",
              "      <td>0.069232</td>\n",
              "      <td>-0.036682</td>\n",
              "      <td>-0.078467</td>\n",
              "      <td>0.079021</td>\n",
              "      <td>-0.016263</td>\n",
              "      <td>-0.117926</td>\n",
              "      <td>0.013720</td>\n",
              "      <td>0.048151</td>\n",
              "      <td>0.027105</td>\n",
              "      <td>...</td>\n",
              "      <td>-0.005863</td>\n",
              "      <td>0</td>\n",
              "      <td>0</td>\n",
              "      <td>1</td>\n",
              "      <td>-1.094049</td>\n",
              "      <td>0.537615</td>\n",
              "      <td>-0.298533</td>\n",
              "      <td>-0.614065</td>\n",
              "      <td>-1.191511</td>\n",
              "      <td>0</td>\n",
              "    </tr>\n",
              "    <tr>\n",
              "      <th>17879</th>\n",
              "      <td>0.056539</td>\n",
              "      <td>0.054882</td>\n",
              "      <td>-0.041412</td>\n",
              "      <td>-0.053222</td>\n",
              "      <td>0.041028</td>\n",
              "      <td>-0.004214</td>\n",
              "      <td>-0.080467</td>\n",
              "      <td>0.020165</td>\n",
              "      <td>-0.015131</td>\n",
              "      <td>0.056915</td>\n",
              "      <td>...</td>\n",
              "      <td>0.032474</td>\n",
              "      <td>0</td>\n",
              "      <td>1</td>\n",
              "      <td>1</td>\n",
              "      <td>-0.497368</td>\n",
              "      <td>0.144608</td>\n",
              "      <td>1.005226</td>\n",
              "      <td>-1.216466</td>\n",
              "      <td>-0.950104</td>\n",
              "      <td>0</td>\n",
              "    </tr>\n",
              "  </tbody>\n",
              "</table>\n",
              "<p>17880 rows × 209 columns</p>\n",
              "</div>\n",
              "      <button class=\"colab-df-convert\" onclick=\"convertToInteractive('df-041e49cb-ecd0-4b38-ba73-9640f49a9159')\"\n",
              "              title=\"Convert this dataframe to an interactive table.\"\n",
              "              style=\"display:none;\">\n",
              "        \n",
              "  <svg xmlns=\"http://www.w3.org/2000/svg\" height=\"24px\"viewBox=\"0 0 24 24\"\n",
              "       width=\"24px\">\n",
              "    <path d=\"M0 0h24v24H0V0z\" fill=\"none\"/>\n",
              "    <path d=\"M18.56 5.44l.94 2.06.94-2.06 2.06-.94-2.06-.94-.94-2.06-.94 2.06-2.06.94zm-11 1L8.5 8.5l.94-2.06 2.06-.94-2.06-.94L8.5 2.5l-.94 2.06-2.06.94zm10 10l.94 2.06.94-2.06 2.06-.94-2.06-.94-.94-2.06-.94 2.06-2.06.94z\"/><path d=\"M17.41 7.96l-1.37-1.37c-.4-.4-.92-.59-1.43-.59-.52 0-1.04.2-1.43.59L10.3 9.45l-7.72 7.72c-.78.78-.78 2.05 0 2.83L4 21.41c.39.39.9.59 1.41.59.51 0 1.02-.2 1.41-.59l7.78-7.78 2.81-2.81c.8-.78.8-2.07 0-2.86zM5.41 20L4 18.59l7.72-7.72 1.47 1.35L5.41 20z\"/>\n",
              "  </svg>\n",
              "      </button>\n",
              "      \n",
              "  <style>\n",
              "    .colab-df-container {\n",
              "      display:flex;\n",
              "      flex-wrap:wrap;\n",
              "      gap: 12px;\n",
              "    }\n",
              "\n",
              "    .colab-df-convert {\n",
              "      background-color: #E8F0FE;\n",
              "      border: none;\n",
              "      border-radius: 50%;\n",
              "      cursor: pointer;\n",
              "      display: none;\n",
              "      fill: #1967D2;\n",
              "      height: 32px;\n",
              "      padding: 0 0 0 0;\n",
              "      width: 32px;\n",
              "    }\n",
              "\n",
              "    .colab-df-convert:hover {\n",
              "      background-color: #E2EBFA;\n",
              "      box-shadow: 0px 1px 2px rgba(60, 64, 67, 0.3), 0px 1px 3px 1px rgba(60, 64, 67, 0.15);\n",
              "      fill: #174EA6;\n",
              "    }\n",
              "\n",
              "    [theme=dark] .colab-df-convert {\n",
              "      background-color: #3B4455;\n",
              "      fill: #D2E3FC;\n",
              "    }\n",
              "\n",
              "    [theme=dark] .colab-df-convert:hover {\n",
              "      background-color: #434B5C;\n",
              "      box-shadow: 0px 1px 3px 1px rgba(0, 0, 0, 0.15);\n",
              "      filter: drop-shadow(0px 1px 2px rgba(0, 0, 0, 0.3));\n",
              "      fill: #FFFFFF;\n",
              "    }\n",
              "  </style>\n",
              "\n",
              "      <script>\n",
              "        const buttonEl =\n",
              "          document.querySelector('#df-041e49cb-ecd0-4b38-ba73-9640f49a9159 button.colab-df-convert');\n",
              "        buttonEl.style.display =\n",
              "          google.colab.kernel.accessAllowed ? 'block' : 'none';\n",
              "\n",
              "        async function convertToInteractive(key) {\n",
              "          const element = document.querySelector('#df-041e49cb-ecd0-4b38-ba73-9640f49a9159');\n",
              "          const dataTable =\n",
              "            await google.colab.kernel.invokeFunction('convertToInteractive',\n",
              "                                                     [key], {});\n",
              "          if (!dataTable) return;\n",
              "\n",
              "          const docLinkHtml = 'Like what you see? Visit the ' +\n",
              "            '<a target=\"_blank\" href=https://colab.research.google.com/notebooks/data_table.ipynb>data table notebook</a>'\n",
              "            + ' to learn more about interactive tables.';\n",
              "          element.innerHTML = '';\n",
              "          dataTable['output_type'] = 'display_data';\n",
              "          await google.colab.output.renderOutput(dataTable, element);\n",
              "          const docLink = document.createElement('div');\n",
              "          docLink.innerHTML = docLinkHtml;\n",
              "          element.appendChild(docLink);\n",
              "        }\n",
              "      </script>\n",
              "    </div>\n",
              "  </div>\n",
              "  "
            ]
          },
          "metadata": {},
          "execution_count": 61
        }
      ],
      "source": [
        "main_data"
      ],
      "id": "ff079276-7b5b-4694-bc43-b33005514ab0"
    },
    {
      "cell_type": "markdown",
      "metadata": {
        "id": "780387c5-6fda-4fb2-a9a8-610e05a64dcc"
      },
      "source": [
        "## Apply SMOTE"
      ],
      "id": "780387c5-6fda-4fb2-a9a8-610e05a64dcc"
    },
    {
      "cell_type": "code",
      "execution_count": null,
      "metadata": {
        "id": "042a5457-a00f-4160-a3ea-b6784213a711"
      },
      "outputs": [],
      "source": [
        "#!pip install -U imbalanced-learn"
      ],
      "id": "042a5457-a00f-4160-a3ea-b6784213a711"
    },
    {
      "cell_type": "code",
      "execution_count": null,
      "metadata": {
        "colab": {
          "base_uri": "https://localhost:8080/",
          "height": 303
        },
        "id": "20bd5a5b-62a0-4103-b8da-3c10b103684f",
        "outputId": "b229f60e-1f57-4641-e70a-b485d1ae93b0"
      },
      "outputs": [
        {
          "output_type": "execute_result",
          "data": {
            "text/plain": [
              "<matplotlib.axes._subplots.AxesSubplot at 0x7fa66ac19b90>"
            ]
          },
          "metadata": {},
          "execution_count": 63
        },
        {
          "output_type": "display_data",
          "data": {
            "text/plain": [
              "<Figure size 432x288 with 1 Axes>"
            ],
            "image/png": "[encoded data removed]"
          },
          "metadata": {}
        }
      ],
      "source": [
        "sns.set(style=\"darkgrid\")\n",
        "sns.countplot(x = \"fraudulent\" , data = new_data)"
      ],
      "id": "20bd5a5b-62a0-4103-b8da-3c10b103684f"
    },
    {
      "cell_type": "code",
      "execution_count": null,
      "metadata": {
        "id": "f5ec1b95-83e1-49ab-b824-f768805dc20b"
      },
      "outputs": [],
      "source": [
        "X = main_data.iloc[:, :-1]\n",
        "y = main_data.iloc[:, -1]"
      ],
      "id": "f5ec1b95-83e1-49ab-b824-f768805dc20b"
    },
    {
      "cell_type": "code",
      "execution_count": null,
      "metadata": {
        "colab": {
          "base_uri": "https://localhost:8080/"
        },
        "id": "b91cdcf7-f76f-45e8-b754-24a731c70fb4",
        "outputId": "3e4e021d-8f07-4e28-f9e2-590b27dfca79"
      },
      "outputs": [
        {
          "output_type": "stream",
          "name": "stdout",
          "text": [
            "17880\n",
            "17880\n"
          ]
        }
      ],
      "source": [
        "print(len(X))\n",
        "print(len(y))"
      ],
      "id": "b91cdcf7-f76f-45e8-b754-24a731c70fb4"
    },
    {
      "cell_type": "code",
      "execution_count": null,
      "metadata": {
        "id": "80e4ca43-d4be-4259-a8ff-7d505f265fcd"
      },
      "outputs": [],
      "source": [
        "oversample = SMOTE()\n",
        "new_X, new_y = oversample.fit_resample(X, y)"
      ],
      "id": "80e4ca43-d4be-4259-a8ff-7d505f265fcd"
    },
    {
      "cell_type": "code",
      "execution_count": null,
      "metadata": {
        "colab": {
          "base_uri": "https://localhost:8080/"
        },
        "id": "61035831-89f2-4c2c-b4a8-5c5e8545f70e",
        "outputId": "32592880-e113-41c2-bdd8-6109d13f833c"
      },
      "outputs": [
        {
          "output_type": "stream",
          "name": "stdout",
          "text": [
            "34028\n",
            "34028\n"
          ]
        }
      ],
      "source": [
        "print(len(new_X))\n",
        "print(len(new_y))"
      ],
      "id": "61035831-89f2-4c2c-b4a8-5c5e8545f70e"
    },
    {
      "cell_type": "code",
      "execution_count": null,
      "metadata": {
        "colab": {
          "base_uri": "https://localhost:8080/"
        },
        "id": "0979684f-cbd7-48e5-95de-ff453f3cc79b",
        "outputId": "92008728-c840-413c-d8ea-6431fdcaf6af"
      },
      "outputs": [
        {
          "output_type": "execute_result",
          "data": {
            "text/plain": [
              "0    17014\n",
              "1    17014\n",
              "Name: fraudulent, dtype: int64"
            ]
          },
          "metadata": {},
          "execution_count": 68
        }
      ],
      "source": [
        "new_y.value_counts()"
      ],
      "id": "0979684f-cbd7-48e5-95de-ff453f3cc79b"
    },
    {
      "cell_type": "markdown",
      "metadata": {
        "id": "AqqJumx9rcXR"
      },
      "source": [
        "#DF for Multinomial Naive Bayes"
      ],
      "id": "AqqJumx9rcXR"
    },
    {
      "cell_type": "code",
      "execution_count": null,
      "metadata": {
        "id": "HusIG8VHre-I"
      },
      "outputs": [],
      "source": [
        "test_data = save_data"
      ],
      "id": "HusIG8VHre-I"
    },
    {
      "cell_type": "code",
      "execution_count": null,
      "metadata": {
        "colab": {
          "base_uri": "https://localhost:8080/",
          "height": 467
        },
        "id": "0-OvaBl5tDZ_",
        "outputId": "c54ed5e3-8e42-43b7-8090-a08f874b972e"
      },
      "outputs": [
        {
          "output_type": "execute_result",
          "data": {
            "text/plain": [
              "       telecommuting  has_company_logo  has_questions  employment_type  \\\n",
              "0                  0                 1              0                2   \n",
              "1                  0                 1              0                1   \n",
              "2                  0                 1              0                5   \n",
              "3                  0                 1              0                1   \n",
              "4                  0                 1              1                1   \n",
              "...              ...               ...            ...              ...   \n",
              "17875              0                 1              1                1   \n",
              "17876              0                 1              1                1   \n",
              "17877              0                 0              0                1   \n",
              "17878              0                 0              1                0   \n",
              "17879              0                 1              1                1   \n",
              "\n",
              "       required_experience  required_education  industry  function  \\\n",
              "0                        4                  13       131        22   \n",
              "1                        6                  13        75         7   \n",
              "2                        7                  13       131        37   \n",
              "3                        5                   1        22        31   \n",
              "4                        5                   1        51        16   \n",
              "...                    ...                 ...       ...       ...   \n",
              "17875                    5                  13        22        31   \n",
              "17876                    5                   1        61         0   \n",
              "17877                    7                  13       131        37   \n",
              "17878                    6                   6        48         9   \n",
              "17879                    5                  13        22        12   \n",
              "\n",
              "                                               lemmatize  fraudulent  \n",
              "0      marketing internwere weve created groundbreaki...           0  \n",
              "1      customer service cloud video second world clou...           0  \n",
              "2      commissioning machinery assistant cmavalor ser...           0  \n",
              "3      account executive washington dcour passion imp...           0  \n",
              "4      bill review managerspotsource solution llc glo...           0  \n",
              "...                                                  ...         ...  \n",
              "17875  account director distribution vend looking awe...           0  \n",
              "17876  payroll accountantweblinc ecommerce platform s...           0  \n",
              "17877  project cost control staff engineer cost contr...           0  \n",
              "17878  graphic designermissingnemsia studio looking e...           0  \n",
              "17879  web application developersvend looking awesome...           0  \n",
              "\n",
              "[17880 rows x 10 columns]"
            ],
            "text/html": [
              "\n",
              "  <div id=\"df-b4a77ee2-e833-49fb-a30d-3b8ae30cb396\">\n",
              "    <div class=\"colab-df-container\">\n",
              "      <div>\n",
              "<style scoped>\n",
              "    .dataframe tbody tr th:only-of-type {\n",
              "        vertical-align: middle;\n",
              "    }\n",
              "\n",
              "    .dataframe tbody tr th {\n",
              "        vertical-align: top;\n",
              "    }\n",
              "\n",
              "    .dataframe thead th {\n",
              "        text-align: right;\n",
              "    }\n",
              "</style>\n",
              "<table border=\"1\" class=\"dataframe\">\n",
              "  <thead>\n",
              "    <tr style=\"text-align: right;\">\n",
              "      <th></th>\n",
              "      <th>telecommuting</th>\n",
              "      <th>has_company_logo</th>\n",
              "      <th>has_questions</th>\n",
              "      <th>employment_type</th>\n",
              "      <th>required_experience</th>\n",
              "      <th>required_education</th>\n",
              "      <th>industry</th>\n",
              "      <th>function</th>\n",
              "      <th>lemmatize</th>\n",
              "      <th>fraudulent</th>\n",
              "    </tr>\n",
              "  </thead>\n",
              "  <tbody>\n",
              "    <tr>\n",
              "      <th>0</th>\n",
              "      <td>0</td>\n",
              "      <td>1</td>\n",
              "      <td>0</td>\n",
              "      <td>2</td>\n",
              "      <td>4</td>\n",
              "      <td>13</td>\n",
              "      <td>131</td>\n",
              "      <td>22</td>\n",
              "      <td>marketing internwere weve created groundbreaki...</td>\n",
              "      <td>0</td>\n",
              "    </tr>\n",
              "    <tr>\n",
              "      <th>1</th>\n",
              "      <td>0</td>\n",
              "      <td>1</td>\n",
              "      <td>0</td>\n",
              "      <td>1</td>\n",
              "      <td>6</td>\n",
              "      <td>13</td>\n",
              "      <td>75</td>\n",
              "      <td>7</td>\n",
              "      <td>customer service cloud video second world clou...</td>\n",
              "      <td>0</td>\n",
              "    </tr>\n",
              "    <tr>\n",
              "      <th>2</th>\n",
              "      <td>0</td>\n",
              "      <td>1</td>\n",
              "      <td>0</td>\n",
              "      <td>5</td>\n",
              "      <td>7</td>\n",
              "      <td>13</td>\n",
              "      <td>131</td>\n",
              "      <td>37</td>\n",
              "      <td>commissioning machinery assistant cmavalor ser...</td>\n",
              "      <td>0</td>\n",
              "    </tr>\n",
              "    <tr>\n",
              "      <th>3</th>\n",
              "      <td>0</td>\n",
              "      <td>1</td>\n",
              "      <td>0</td>\n",
              "      <td>1</td>\n",
              "      <td>5</td>\n",
              "      <td>1</td>\n",
              "      <td>22</td>\n",
              "      <td>31</td>\n",
              "      <td>account executive washington dcour passion imp...</td>\n",
              "      <td>0</td>\n",
              "    </tr>\n",
              "    <tr>\n",
              "      <th>4</th>\n",
              "      <td>0</td>\n",
              "      <td>1</td>\n",
              "      <td>1</td>\n",
              "      <td>1</td>\n",
              "      <td>5</td>\n",
              "      <td>1</td>\n",
              "      <td>51</td>\n",
              "      <td>16</td>\n",
              "      <td>bill review managerspotsource solution llc glo...</td>\n",
              "      <td>0</td>\n",
              "    </tr>\n",
              "    <tr>\n",
              "      <th>...</th>\n",
              "      <td>...</td>\n",
              "      <td>...</td>\n",
              "      <td>...</td>\n",
              "      <td>...</td>\n",
              "      <td>...</td>\n",
              "      <td>...</td>\n",
              "      <td>...</td>\n",
              "      <td>...</td>\n",
              "      <td>...</td>\n",
              "      <td>...</td>\n",
              "    </tr>\n",
              "    <tr>\n",
              "      <th>17875</th>\n",
              "      <td>0</td>\n",
              "      <td>1</td>\n",
              "      <td>1</td>\n",
              "      <td>1</td>\n",
              "      <td>5</td>\n",
              "      <td>13</td>\n",
              "      <td>22</td>\n",
              "      <td>31</td>\n",
              "      <td>account director distribution vend looking awe...</td>\n",
              "      <td>0</td>\n",
              "    </tr>\n",
              "    <tr>\n",
              "      <th>17876</th>\n",
              "      <td>0</td>\n",
              "      <td>1</td>\n",
              "      <td>1</td>\n",
              "      <td>1</td>\n",
              "      <td>5</td>\n",
              "      <td>1</td>\n",
              "      <td>61</td>\n",
              "      <td>0</td>\n",
              "      <td>payroll accountantweblinc ecommerce platform s...</td>\n",
              "      <td>0</td>\n",
              "    </tr>\n",
              "    <tr>\n",
              "      <th>17877</th>\n",
              "      <td>0</td>\n",
              "      <td>0</td>\n",
              "      <td>0</td>\n",
              "      <td>1</td>\n",
              "      <td>7</td>\n",
              "      <td>13</td>\n",
              "      <td>131</td>\n",
              "      <td>37</td>\n",
              "      <td>project cost control staff engineer cost contr...</td>\n",
              "      <td>0</td>\n",
              "    </tr>\n",
              "    <tr>\n",
              "      <th>17878</th>\n",
              "      <td>0</td>\n",
              "      <td>0</td>\n",
              "      <td>1</td>\n",
              "      <td>0</td>\n",
              "      <td>6</td>\n",
              "      <td>6</td>\n",
              "      <td>48</td>\n",
              "      <td>9</td>\n",
              "      <td>graphic designermissingnemsia studio looking e...</td>\n",
              "      <td>0</td>\n",
              "    </tr>\n",
              "    <tr>\n",
              "      <th>17879</th>\n",
              "      <td>0</td>\n",
              "      <td>1</td>\n",
              "      <td>1</td>\n",
              "      <td>1</td>\n",
              "      <td>5</td>\n",
              "      <td>13</td>\n",
              "      <td>22</td>\n",
              "      <td>12</td>\n",
              "      <td>web application developersvend looking awesome...</td>\n",
              "      <td>0</td>\n",
              "    </tr>\n",
              "  </tbody>\n",
              "</table>\n",
              "<p>17880 rows × 10 columns</p>\n",
              "</div>\n",
              "      <button class=\"colab-df-convert\" onclick=\"convertToInteractive('df-b4a77ee2-e833-49fb-a30d-3b8ae30cb396')\"\n",
              "              title=\"Convert this dataframe to an interactive table.\"\n",
              "              style=\"display:none;\">\n",
              "        \n",
              "  <svg xmlns=\"http://www.w3.org/2000/svg\" height=\"24px\"viewBox=\"0 0 24 24\"\n",
              "       width=\"24px\">\n",
              "    <path d=\"M0 0h24v24H0V0z\" fill=\"none\"/>\n",
              "    <path d=\"M18.56 5.44l.94 2.06.94-2.06 2.06-.94-2.06-.94-.94-2.06-.94 2.06-2.06.94zm-11 1L8.5 8.5l.94-2.06 2.06-.94-2.06-.94L8.5 2.5l-.94 2.06-2.06.94zm10 10l.94 2.06.94-2.06 2.06-.94-2.06-.94-.94-2.06-.94 2.06-2.06.94z\"/><path d=\"M17.41 7.96l-1.37-1.37c-.4-.4-.92-.59-1.43-.59-.52 0-1.04.2-1.43.59L10.3 9.45l-7.72 7.72c-.78.78-.78 2.05 0 2.83L4 21.41c.39.39.9.59 1.41.59.51 0 1.02-.2 1.41-.59l7.78-7.78 2.81-2.81c.8-.78.8-2.07 0-2.86zM5.41 20L4 18.59l7.72-7.72 1.47 1.35L5.41 20z\"/>\n",
              "  </svg>\n",
              "      </button>\n",
              "      \n",
              "  <style>\n",
              "    .colab-df-container {\n",
              "      display:flex;\n",
              "      flex-wrap:wrap;\n",
              "      gap: 12px;\n",
              "    }\n",
              "\n",
              "    .colab-df-convert {\n",
              "      background-color: #E8F0FE;\n",
              "      border: none;\n",
              "      border-radius: 50%;\n",
              "      cursor: pointer;\n",
              "      display: none;\n",
              "      fill: #1967D2;\n",
              "      height: 32px;\n",
              "      padding: 0 0 0 0;\n",
              "      width: 32px;\n",
              "    }\n",
              "\n",
              "    .colab-df-convert:hover {\n",
              "      background-color: #E2EBFA;\n",
              "      box-shadow: 0px 1px 2px rgba(60, 64, 67, 0.3), 0px 1px 3px 1px rgba(60, 64, 67, 0.15);\n",
              "      fill: #174EA6;\n",
              "    }\n",
              "\n",
              "    [theme=dark] .colab-df-convert {\n",
              "      background-color: #3B4455;\n",
              "      fill: #D2E3FC;\n",
              "    }\n",
              "\n",
              "    [theme=dark] .colab-df-convert:hover {\n",
              "      background-color: #434B5C;\n",
              "      box-shadow: 0px 1px 3px 1px rgba(0, 0, 0, 0.15);\n",
              "      filter: drop-shadow(0px 1px 2px rgba(0, 0, 0, 0.3));\n",
              "      fill: #FFFFFF;\n",
              "    }\n",
              "  </style>\n",
              "\n",
              "      <script>\n",
              "        const buttonEl =\n",
              "          document.querySelector('#df-b4a77ee2-e833-49fb-a30d-3b8ae30cb396 button.colab-df-convert');\n",
              "        buttonEl.style.display =\n",
              "          google.colab.kernel.accessAllowed ? 'block' : 'none';\n",
              "\n",
              "        async function convertToInteractive(key) {\n",
              "          const element = document.querySelector('#df-b4a77ee2-e833-49fb-a30d-3b8ae30cb396');\n",
              "          const dataTable =\n",
              "            await google.colab.kernel.invokeFunction('convertToInteractive',\n",
              "                                                     [key], {});\n",
              "          if (!dataTable) return;\n",
              "\n",
              "          const docLinkHtml = 'Like what you see? Visit the ' +\n",
              "            '<a target=\"_blank\" href=https://colab.research.google.com/notebooks/data_table.ipynb>data table notebook</a>'\n",
              "            + ' to learn more about interactive tables.';\n",
              "          element.innerHTML = '';\n",
              "          dataTable['output_type'] = 'display_data';\n",
              "          await google.colab.output.renderOutput(dataTable, element);\n",
              "          const docLink = document.createElement('div');\n",
              "          docLink.innerHTML = docLinkHtml;\n",
              "          element.appendChild(docLink);\n",
              "        }\n",
              "      </script>\n",
              "    </div>\n",
              "  </div>\n",
              "  "
            ]
          },
          "metadata": {},
          "execution_count": 70
        }
      ],
      "source": [
        "save_data"
      ],
      "id": "0-OvaBl5tDZ_"
    },
    {
      "cell_type": "code",
      "execution_count": null,
      "metadata": {
        "id": "wiBIZE1Fr8lW"
      },
      "outputs": [],
      "source": [
        "test_data.drop(test_data.iloc[:, 0:8], inplace = True, axis = 1)"
      ],
      "id": "wiBIZE1Fr8lW"
    },
    {
      "cell_type": "code",
      "execution_count": null,
      "metadata": {
        "colab": {
          "base_uri": "https://localhost:8080/",
          "height": 423
        },
        "id": "sxOhRQlzsXTy",
        "outputId": "2f02a9f9-2d62-4f50-f765-96eb4ecabe05"
      },
      "outputs": [
        {
          "output_type": "execute_result",
          "data": {
            "text/plain": [
              "                                               lemmatize  fraudulent\n",
              "0      marketing internwere weve created groundbreaki...           0\n",
              "1      customer service cloud video second world clou...           0\n",
              "2      commissioning machinery assistant cmavalor ser...           0\n",
              "3      account executive washington dcour passion imp...           0\n",
              "4      bill review managerspotsource solution llc glo...           0\n",
              "...                                                  ...         ...\n",
              "17875  account director distribution vend looking awe...           0\n",
              "17876  payroll accountantweblinc ecommerce platform s...           0\n",
              "17877  project cost control staff engineer cost contr...           0\n",
              "17878  graphic designermissingnemsia studio looking e...           0\n",
              "17879  web application developersvend looking awesome...           0\n",
              "\n",
              "[17880 rows x 2 columns]"
            ],
            "text/html": [
              "\n",
              "  <div id=\"df-6a8c1a0b-8bc2-44fb-9f7f-174028536819\">\n",
              "    <div class=\"colab-df-container\">\n",
              "      <div>\n",
              "<style scoped>\n",
              "    .dataframe tbody tr th:only-of-type {\n",
              "        vertical-align: middle;\n",
              "    }\n",
              "\n",
              "    .dataframe tbody tr th {\n",
              "        vertical-align: top;\n",
              "    }\n",
              "\n",
              "    .dataframe thead th {\n",
              "        text-align: right;\n",
              "    }\n",
              "</style>\n",
              "<table border=\"1\" class=\"dataframe\">\n",
              "  <thead>\n",
              "    <tr style=\"text-align: right;\">\n",
              "      <th></th>\n",
              "      <th>lemmatize</th>\n",
              "      <th>fraudulent</th>\n",
              "    </tr>\n",
              "  </thead>\n",
              "  <tbody>\n",
              "    <tr>\n",
              "      <th>0</th>\n",
              "      <td>marketing internwere weve created groundbreaki...</td>\n",
              "      <td>0</td>\n",
              "    </tr>\n",
              "    <tr>\n",
              "      <th>1</th>\n",
              "      <td>customer service cloud video second world clou...</td>\n",
              "      <td>0</td>\n",
              "    </tr>\n",
              "    <tr>\n",
              "      <th>2</th>\n",
              "      <td>commissioning machinery assistant cmavalor ser...</td>\n",
              "      <td>0</td>\n",
              "    </tr>\n",
              "    <tr>\n",
              "      <th>3</th>\n",
              "      <td>account executive washington dcour passion imp...</td>\n",
              "      <td>0</td>\n",
              "    </tr>\n",
              "    <tr>\n",
              "      <th>4</th>\n",
              "      <td>bill review managerspotsource solution llc glo...</td>\n",
              "      <td>0</td>\n",
              "    </tr>\n",
              "    <tr>\n",
              "      <th>...</th>\n",
              "      <td>...</td>\n",
              "      <td>...</td>\n",
              "    </tr>\n",
              "    <tr>\n",
              "      <th>17875</th>\n",
              "      <td>account director distribution vend looking awe...</td>\n",
              "      <td>0</td>\n",
              "    </tr>\n",
              "    <tr>\n",
              "      <th>17876</th>\n",
              "      <td>payroll accountantweblinc ecommerce platform s...</td>\n",
              "      <td>0</td>\n",
              "    </tr>\n",
              "    <tr>\n",
              "      <th>17877</th>\n",
              "      <td>project cost control staff engineer cost contr...</td>\n",
              "      <td>0</td>\n",
              "    </tr>\n",
              "    <tr>\n",
              "      <th>17878</th>\n",
              "      <td>graphic designermissingnemsia studio looking e...</td>\n",
              "      <td>0</td>\n",
              "    </tr>\n",
              "    <tr>\n",
              "      <th>17879</th>\n",
              "      <td>web application developersvend looking awesome...</td>\n",
              "      <td>0</td>\n",
              "    </tr>\n",
              "  </tbody>\n",
              "</table>\n",
              "<p>17880 rows × 2 columns</p>\n",
              "</div>\n",
              "      <button class=\"colab-df-convert\" onclick=\"convertToInteractive('df-6a8c1a0b-8bc2-44fb-9f7f-174028536819')\"\n",
              "              title=\"Convert this dataframe to an interactive table.\"\n",
              "              style=\"display:none;\">\n",
              "        \n",
              "  <svg xmlns=\"http://www.w3.org/2000/svg\" height=\"24px\"viewBox=\"0 0 24 24\"\n",
              "       width=\"24px\">\n",
              "    <path d=\"M0 0h24v24H0V0z\" fill=\"none\"/>\n",
              "    <path d=\"M18.56 5.44l.94 2.06.94-2.06 2.06-.94-2.06-.94-.94-2.06-.94 2.06-2.06.94zm-11 1L8.5 8.5l.94-2.06 2.06-.94-2.06-.94L8.5 2.5l-.94 2.06-2.06.94zm10 10l.94 2.06.94-2.06 2.06-.94-2.06-.94-.94-2.06-.94 2.06-2.06.94z\"/><path d=\"M17.41 7.96l-1.37-1.37c-.4-.4-.92-.59-1.43-.59-.52 0-1.04.2-1.43.59L10.3 9.45l-7.72 7.72c-.78.78-.78 2.05 0 2.83L4 21.41c.39.39.9.59 1.41.59.51 0 1.02-.2 1.41-.59l7.78-7.78 2.81-2.81c.8-.78.8-2.07 0-2.86zM5.41 20L4 18.59l7.72-7.72 1.47 1.35L5.41 20z\"/>\n",
              "  </svg>\n",
              "      </button>\n",
              "      \n",
              "  <style>\n",
              "    .colab-df-container {\n",
              "      display:flex;\n",
              "      flex-wrap:wrap;\n",
              "      gap: 12px;\n",
              "    }\n",
              "\n",
              "    .colab-df-convert {\n",
              "      background-color: #E8F0FE;\n",
              "      border: none;\n",
              "      border-radius: 50%;\n",
              "      cursor: pointer;\n",
              "      display: none;\n",
              "      fill: #1967D2;\n",
              "      height: 32px;\n",
              "      padding: 0 0 0 0;\n",
              "      width: 32px;\n",
              "    }\n",
              "\n",
              "    .colab-df-convert:hover {\n",
              "      background-color: #E2EBFA;\n",
              "      box-shadow: 0px 1px 2px rgba(60, 64, 67, 0.3), 0px 1px 3px 1px rgba(60, 64, 67, 0.15);\n",
              "      fill: #174EA6;\n",
              "    }\n",
              "\n",
              "    [theme=dark] .colab-df-convert {\n",
              "      background-color: #3B4455;\n",
              "      fill: #D2E3FC;\n",
              "    }\n",
              "\n",
              "    [theme=dark] .colab-df-convert:hover {\n",
              "      background-color: #434B5C;\n",
              "      box-shadow: 0px 1px 3px 1px rgba(0, 0, 0, 0.15);\n",
              "      filter: drop-shadow(0px 1px 2px rgba(0, 0, 0, 0.3));\n",
              "      fill: #FFFFFF;\n",
              "    }\n",
              "  </style>\n",
              "\n",
              "      <script>\n",
              "        const buttonEl =\n",
              "          document.querySelector('#df-6a8c1a0b-8bc2-44fb-9f7f-174028536819 button.colab-df-convert');\n",
              "        buttonEl.style.display =\n",
              "          google.colab.kernel.accessAllowed ? 'block' : 'none';\n",
              "\n",
              "        async function convertToInteractive(key) {\n",
              "          const element = document.querySelector('#df-6a8c1a0b-8bc2-44fb-9f7f-174028536819');\n",
              "          const dataTable =\n",
              "            await google.colab.kernel.invokeFunction('convertToInteractive',\n",
              "                                                     [key], {});\n",
              "          if (!dataTable) return;\n",
              "\n",
              "          const docLinkHtml = 'Like what you see? Visit the ' +\n",
              "            '<a target=\"_blank\" href=https://colab.research.google.com/notebooks/data_table.ipynb>data table notebook</a>'\n",
              "            + ' to learn more about interactive tables.';\n",
              "          element.innerHTML = '';\n",
              "          dataTable['output_type'] = 'display_data';\n",
              "          await google.colab.output.renderOutput(dataTable, element);\n",
              "          const docLink = document.createElement('div');\n",
              "          docLink.innerHTML = docLinkHtml;\n",
              "          element.appendChild(docLink);\n",
              "        }\n",
              "      </script>\n",
              "    </div>\n",
              "  </div>\n",
              "  "
            ]
          },
          "metadata": {},
          "execution_count": 72
        }
      ],
      "source": [
        "test_data"
      ],
      "id": "sxOhRQlzsXTy"
    },
    {
      "cell_type": "code",
      "execution_count": null,
      "metadata": {
        "id": "kvGLaEcLuntz"
      },
      "outputs": [],
      "source": [
        "Xx = test_data.iloc[:, :-1]\n",
        "Yy = test_data.iloc[:, -1]"
      ],
      "id": "kvGLaEcLuntz"
    },
    {
      "cell_type": "code",
      "execution_count": null,
      "metadata": {
        "colab": {
          "base_uri": "https://localhost:8080/"
        },
        "id": "CMoz-SZD_p2O",
        "outputId": "c67207cb-2dd4-4d09-f5d9-ed1760941224"
      },
      "outputs": [
        {
          "output_type": "execute_result",
          "data": {
            "text/plain": [
              "0        marketing internwere weve created groundbreaki...\n",
              "1        customer service cloud video second world clou...\n",
              "2        commissioning machinery assistant cmavalor ser...\n",
              "3        account executive washington dcour passion imp...\n",
              "4        bill review managerspotsource solution llc glo...\n",
              "                               ...                        \n",
              "17875    account director distribution vend looking awe...\n",
              "17876    payroll accountantweblinc ecommerce platform s...\n",
              "17877    project cost control staff engineer cost contr...\n",
              "17878    graphic designermissingnemsia studio looking e...\n",
              "17879    web application developersvend looking awesome...\n",
              "Name: lemmatize, Length: 17880, dtype: object"
            ]
          },
          "metadata": {},
          "execution_count": 74
        }
      ],
      "source": [
        "test_data.lemmatize"
      ],
      "id": "CMoz-SZD_p2O"
    },
    {
      "cell_type": "code",
      "execution_count": null,
      "metadata": {
        "id": "rojrJJQqsdnT"
      },
      "outputs": [],
      "source": [
        "X_tr, X_te, y_tr, y_te = train_test_split(test_data.lemmatize, test_data.fraudulent, test_size=0.2, random_state=10)"
      ],
      "id": "rojrJJQqsdnT"
    },
    {
      "cell_type": "code",
      "execution_count": null,
      "metadata": {
        "colab": {
          "base_uri": "https://localhost:8080/"
        },
        "id": "XYFGOemjAEVV",
        "outputId": "4702743a-06e3-4a81-941e-059da3647597"
      },
      "outputs": [
        {
          "output_type": "stream",
          "name": "stdout",
          "text": [
            "Tfidf_train: (14304, 1630498)\n",
            "Tfidf_test: (3576, 1630498)\n"
          ]
        }
      ],
      "source": [
        "tv=TfidfVectorizer(min_df=0,max_df=1,use_idf=True,ngram_range=(1,3))\n",
        "#transformed train reviews\n",
        "tv_train_reviews=tv.fit_transform(X_tr)\n",
        "#transformed test reviews\n",
        "tv_test_reviews=tv.transform(X_te)\n",
        "print('Tfidf_train:',tv_train_reviews.shape)\n",
        "print('Tfidf_test:',tv_test_reviews.shape)"
      ],
      "id": "XYFGOemjAEVV"
    },
    {
      "cell_type": "code",
      "execution_count": null,
      "metadata": {
        "id": "MVwWtHxlxm9Q"
      },
      "outputs": [],
      "source": [
        "oversample = SMOTE()\n",
        "the_X, the_y = oversample.fit_resample(tv_train_reviews, y_tr)"
      ],
      "id": "MVwWtHxlxm9Q"
    },
    {
      "cell_type": "markdown",
      "metadata": {
        "id": "HOOkdbscS2ep"
      },
      "source": [
        "# Correlation Graphs"
      ],
      "id": "HOOkdbscS2ep"
    },
    {
      "cell_type": "code",
      "execution_count": null,
      "metadata": {
        "id": "29kYT1PJS3Dm"
      },
      "outputs": [],
      "source": [
        "main_data_corr = main_data.copy()"
      ],
      "id": "29kYT1PJS3Dm"
    },
    {
      "cell_type": "code",
      "execution_count": null,
      "metadata": {
        "id": "_f_4wcK0S3Go"
      },
      "outputs": [],
      "source": [
        "main_data_corr.drop(main_data_corr.iloc[:, 0:200], inplace = True, axis = 1)"
      ],
      "id": "_f_4wcK0S3Go"
    },
    {
      "cell_type": "code",
      "execution_count": null,
      "metadata": {
        "colab": {
          "base_uri": "https://localhost:8080/",
          "height": 423
        },
        "id": "5HvDsaNJS3Jh",
        "outputId": "6d26103a-79b9-4590-b4ce-aad02ebc42ea"
      },
      "outputs": [
        {
          "output_type": "execute_result",
          "data": {
            "text/plain": [
              "       telecommuting  has_company_logo  has_questions  employment_type  \\\n",
              "0                  0                 1              0         0.099313   \n",
              "1                  0                 1              0        -0.497368   \n",
              "2                  0                 1              0         1.889358   \n",
              "3                  0                 1              0        -0.497368   \n",
              "4                  0                 1              1        -0.497368   \n",
              "...              ...               ...            ...              ...   \n",
              "17875              0                 1              1        -0.497368   \n",
              "17876              0                 1              1        -0.497368   \n",
              "17877              0                 0              0        -0.497368   \n",
              "17878              0                 0              1        -1.094049   \n",
              "17879              0                 1              1        -0.497368   \n",
              "\n",
              "       required_experience  required_education  industry  function  fraudulent  \n",
              "0                -0.248399            1.005226  1.308985 -0.145416           0  \n",
              "1                 0.537615            1.005226  0.011506 -1.352449           0  \n",
              "2                 0.930622            1.005226  1.308985  1.061618           0  \n",
              "3                 0.144608           -1.229790 -1.216466  0.578804           0  \n",
              "4                 0.144608           -1.229790 -0.544557 -0.628229           0  \n",
              "...                    ...                 ...       ...       ...         ...  \n",
              "17875             0.144608            1.005226 -1.216466  0.578804           0  \n",
              "17876             0.144608           -1.229790 -0.312864 -1.915731           0  \n",
              "17877             0.930622            1.005226  1.308985  1.061618           0  \n",
              "17878             0.537615           -0.298533 -0.614065 -1.191511           0  \n",
              "17879             0.144608            1.005226 -1.216466 -0.950104           0  \n",
              "\n",
              "[17880 rows x 9 columns]"
            ],
            "text/html": [
              "\n",
              "  <div id=\"df-a39ab3d2-af6b-42e9-8b8c-c433877ad48b\">\n",
              "    <div class=\"colab-df-container\">\n",
              "      <div>\n",
              "<style scoped>\n",
              "    .dataframe tbody tr th:only-of-type {\n",
              "        vertical-align: middle;\n",
              "    }\n",
              "\n",
              "    .dataframe tbody tr th {\n",
              "        vertical-align: top;\n",
              "    }\n",
              "\n",
              "    .dataframe thead th {\n",
              "        text-align: right;\n",
              "    }\n",
              "</style>\n",
              "<table border=\"1\" class=\"dataframe\">\n",
              "  <thead>\n",
              "    <tr style=\"text-align: right;\">\n",
              "      <th></th>\n",
              "      <th>telecommuting</th>\n",
              "      <th>has_company_logo</th>\n",
              "      <th>has_questions</th>\n",
              "      <th>employment_type</th>\n",
              "      <th>required_experience</th>\n",
              "      <th>required_education</th>\n",
              "      <th>industry</th>\n",
              "      <th>function</th>\n",
              "      <th>fraudulent</th>\n",
              "    </tr>\n",
              "  </thead>\n",
              "  <tbody>\n",
              "    <tr>\n",
              "      <th>0</th>\n",
              "      <td>0</td>\n",
              "      <td>1</td>\n",
              "      <td>0</td>\n",
              "      <td>0.099313</td>\n",
              "      <td>-0.248399</td>\n",
              "      <td>1.005226</td>\n",
              "      <td>1.308985</td>\n",
              "      <td>-0.145416</td>\n",
              "      <td>0</td>\n",
              "    </tr>\n",
              "    <tr>\n",
              "      <th>1</th>\n",
              "      <td>0</td>\n",
              "      <td>1</td>\n",
              "      <td>0</td>\n",
              "      <td>-0.497368</td>\n",
              "      <td>0.537615</td>\n",
              "      <td>1.005226</td>\n",
              "      <td>0.011506</td>\n",
              "      <td>-1.352449</td>\n",
              "      <td>0</td>\n",
              "    </tr>\n",
              "    <tr>\n",
              "      <th>2</th>\n",
              "      <td>0</td>\n",
              "      <td>1</td>\n",
              "      <td>0</td>\n",
              "      <td>1.889358</td>\n",
              "      <td>0.930622</td>\n",
              "      <td>1.005226</td>\n",
              "      <td>1.308985</td>\n",
              "      <td>1.061618</td>\n",
              "      <td>0</td>\n",
              "    </tr>\n",
              "    <tr>\n",
              "      <th>3</th>\n",
              "      <td>0</td>\n",
              "      <td>1</td>\n",
              "      <td>0</td>\n",
              "      <td>-0.497368</td>\n",
              "      <td>0.144608</td>\n",
              "      <td>-1.229790</td>\n",
              "      <td>-1.216466</td>\n",
              "      <td>0.578804</td>\n",
              "      <td>0</td>\n",
              "    </tr>\n",
              "    <tr>\n",
              "      <th>4</th>\n",
              "      <td>0</td>\n",
              "      <td>1</td>\n",
              "      <td>1</td>\n",
              "      <td>-0.497368</td>\n",
              "      <td>0.144608</td>\n",
              "      <td>-1.229790</td>\n",
              "      <td>-0.544557</td>\n",
              "      <td>-0.628229</td>\n",
              "      <td>0</td>\n",
              "    </tr>\n",
              "    <tr>\n",
              "      <th>...</th>\n",
              "      <td>...</td>\n",
              "      <td>...</td>\n",
              "      <td>...</td>\n",
              "      <td>...</td>\n",
              "      <td>...</td>\n",
              "      <td>...</td>\n",
              "      <td>...</td>\n",
              "      <td>...</td>\n",
              "      <td>...</td>\n",
              "    </tr>\n",
              "    <tr>\n",
              "      <th>17875</th>\n",
              "      <td>0</td>\n",
              "      <td>1</td>\n",
              "      <td>1</td>\n",
              "      <td>-0.497368</td>\n",
              "      <td>0.144608</td>\n",
              "      <td>1.005226</td>\n",
              "      <td>-1.216466</td>\n",
              "      <td>0.578804</td>\n",
              "      <td>0</td>\n",
              "    </tr>\n",
              "    <tr>\n",
              "      <th>17876</th>\n",
              "      <td>0</td>\n",
              "      <td>1</td>\n",
              "      <td>1</td>\n",
              "      <td>-0.497368</td>\n",
              "      <td>0.144608</td>\n",
              "      <td>-1.229790</td>\n",
              "      <td>-0.312864</td>\n",
              "      <td>-1.915731</td>\n",
              "      <td>0</td>\n",
              "    </tr>\n",
              "    <tr>\n",
              "      <th>17877</th>\n",
              "      <td>0</td>\n",
              "      <td>0</td>\n",
              "      <td>0</td>\n",
              "      <td>-0.497368</td>\n",
              "      <td>0.930622</td>\n",
              "      <td>1.005226</td>\n",
              "      <td>1.308985</td>\n",
              "      <td>1.061618</td>\n",
              "      <td>0</td>\n",
              "    </tr>\n",
              "    <tr>\n",
              "      <th>17878</th>\n",
              "      <td>0</td>\n",
              "      <td>0</td>\n",
              "      <td>1</td>\n",
              "      <td>-1.094049</td>\n",
              "      <td>0.537615</td>\n",
              "      <td>-0.298533</td>\n",
              "      <td>-0.614065</td>\n",
              "      <td>-1.191511</td>\n",
              "      <td>0</td>\n",
              "    </tr>\n",
              "    <tr>\n",
              "      <th>17879</th>\n",
              "      <td>0</td>\n",
              "      <td>1</td>\n",
              "      <td>1</td>\n",
              "      <td>-0.497368</td>\n",
              "      <td>0.144608</td>\n",
              "      <td>1.005226</td>\n",
              "      <td>-1.216466</td>\n",
              "      <td>-0.950104</td>\n",
              "      <td>0</td>\n",
              "    </tr>\n",
              "  </tbody>\n",
              "</table>\n",
              "<p>17880 rows × 9 columns</p>\n",
              "</div>\n",
              "      <button class=\"colab-df-convert\" onclick=\"convertToInteractive('df-a39ab3d2-af6b-42e9-8b8c-c433877ad48b')\"\n",
              "              title=\"Convert this dataframe to an interactive table.\"\n",
              "              style=\"display:none;\">\n",
              "        \n",
              "  <svg xmlns=\"http://www.w3.org/2000/svg\" height=\"24px\"viewBox=\"0 0 24 24\"\n",
              "       width=\"24px\">\n",
              "    <path d=\"M0 0h24v24H0V0z\" fill=\"none\"/>\n",
              "    <path d=\"M18.56 5.44l.94 2.06.94-2.06 2.06-.94-2.06-.94-.94-2.06-.94 2.06-2.06.94zm-11 1L8.5 8.5l.94-2.06 2.06-.94-2.06-.94L8.5 2.5l-.94 2.06-2.06.94zm10 10l.94 2.06.94-2.06 2.06-.94-2.06-.94-.94-2.06-.94 2.06-2.06.94z\"/><path d=\"M17.41 7.96l-1.37-1.37c-.4-.4-.92-.59-1.43-.59-.52 0-1.04.2-1.43.59L10.3 9.45l-7.72 7.72c-.78.78-.78 2.05 0 2.83L4 21.41c.39.39.9.59 1.41.59.51 0 1.02-.2 1.41-.59l7.78-7.78 2.81-2.81c.8-.78.8-2.07 0-2.86zM5.41 20L4 18.59l7.72-7.72 1.47 1.35L5.41 20z\"/>\n",
              "  </svg>\n",
              "      </button>\n",
              "      \n",
              "  <style>\n",
              "    .colab-df-container {\n",
              "      display:flex;\n",
              "      flex-wrap:wrap;\n",
              "      gap: 12px;\n",
              "    }\n",
              "\n",
              "    .colab-df-convert {\n",
              "      background-color: #E8F0FE;\n",
              "      border: none;\n",
              "      border-radius: 50%;\n",
              "      cursor: pointer;\n",
              "      display: none;\n",
              "      fill: #1967D2;\n",
              "      height: 32px;\n",
              "      padding: 0 0 0 0;\n",
              "      width: 32px;\n",
              "    }\n",
              "\n",
              "    .colab-df-convert:hover {\n",
              "      background-color: #E2EBFA;\n",
              "      box-shadow: 0px 1px 2px rgba(60, 64, 67, 0.3), 0px 1px 3px 1px rgba(60, 64, 67, 0.15);\n",
              "      fill: #174EA6;\n",
              "    }\n",
              "\n",
              "    [theme=dark] .colab-df-convert {\n",
              "      background-color: #3B4455;\n",
              "      fill: #D2E3FC;\n",
              "    }\n",
              "\n",
              "    [theme=dark] .colab-df-convert:hover {\n",
              "      background-color: #434B5C;\n",
              "      box-shadow: 0px 1px 3px 1px rgba(0, 0, 0, 0.15);\n",
              "      filter: drop-shadow(0px 1px 2px rgba(0, 0, 0, 0.3));\n",
              "      fill: #FFFFFF;\n",
              "    }\n",
              "  </style>\n",
              "\n",
              "      <script>\n",
              "        const buttonEl =\n",
              "          document.querySelector('#df-a39ab3d2-af6b-42e9-8b8c-c433877ad48b button.colab-df-convert');\n",
              "        buttonEl.style.display =\n",
              "          google.colab.kernel.accessAllowed ? 'block' : 'none';\n",
              "\n",
              "        async function convertToInteractive(key) {\n",
              "          const element = document.querySelector('#df-a39ab3d2-af6b-42e9-8b8c-c433877ad48b');\n",
              "          const dataTable =\n",
              "            await google.colab.kernel.invokeFunction('convertToInteractive',\n",
              "                                                     [key], {});\n",
              "          if (!dataTable) return;\n",
              "\n",
              "          const docLinkHtml = 'Like what you see? Visit the ' +\n",
              "            '<a target=\"_blank\" href=https://colab.research.google.com/notebooks/data_table.ipynb>data table notebook</a>'\n",
              "            + ' to learn more about interactive tables.';\n",
              "          element.innerHTML = '';\n",
              "          dataTable['output_type'] = 'display_data';\n",
              "          await google.colab.output.renderOutput(dataTable, element);\n",
              "          const docLink = document.createElement('div');\n",
              "          docLink.innerHTML = docLinkHtml;\n",
              "          element.appendChild(docLink);\n",
              "        }\n",
              "      </script>\n",
              "    </div>\n",
              "  </div>\n",
              "  "
            ]
          },
          "metadata": {},
          "execution_count": 80
        }
      ],
      "source": [
        "main_data_corr"
      ],
      "id": "5HvDsaNJS3Jh"
    },
    {
      "cell_type": "code",
      "execution_count": null,
      "metadata": {
        "colab": {
          "base_uri": "https://localhost:8080/",
          "height": 331
        },
        "id": "8wmhpSbKS3Lq",
        "outputId": "7049e8e9-02f4-4cef-9233-3c5904a6b429"
      },
      "outputs": [
        {
          "output_type": "execute_result",
          "data": {
            "text/plain": [
              "<pandas.io.formats.style.Styler at 0x7fa658224950>"
            ],
            "text/html": [
              "<style type=\"text/css\">\n",
              "#T_4f57a_row0_col0, #T_4f57a_row1_col1, #T_4f57a_row2_col2, #T_4f57a_row3_col3, #T_4f57a_row4_col4, #T_4f57a_row5_col5, #T_4f57a_row6_col6, #T_4f57a_row7_col7, #T_4f57a_row8_col8 {\n",
              "  background-color: #b40426;\n",
              "  color: #f1f1f1;\n",
              "}\n",
              "#T_4f57a_row0_col1, #T_4f57a_row8_col5 {\n",
              "  background-color: #799cf8;\n",
              "  color: #f1f1f1;\n",
              "}\n",
              "#T_4f57a_row0_col2 {\n",
              "  background-color: #6282ea;\n",
              "  color: #f1f1f1;\n",
              "}\n",
              "#T_4f57a_row0_col3 {\n",
              "  background-color: #465ecf;\n",
              "  color: #f1f1f1;\n",
              "}\n",
              "#T_4f57a_row0_col4, #T_4f57a_row8_col3 {\n",
              "  background-color: #5b7ae5;\n",
              "  color: #f1f1f1;\n",
              "}\n",
              "#T_4f57a_row0_col5 {\n",
              "  background-color: #6a8bef;\n",
              "  color: #f1f1f1;\n",
              "}\n",
              "#T_4f57a_row0_col6, #T_4f57a_row7_col1 {\n",
              "  background-color: #5875e1;\n",
              "  color: #f1f1f1;\n",
              "}\n",
              "#T_4f57a_row0_col7, #T_4f57a_row3_col2 {\n",
              "  background-color: #5673e0;\n",
              "  color: #f1f1f1;\n",
              "}\n",
              "#T_4f57a_row0_col8, #T_4f57a_row6_col8 {\n",
              "  background-color: #88abfd;\n",
              "  color: #000000;\n",
              "}\n",
              "#T_4f57a_row1_col0 {\n",
              "  background-color: #3f53c6;\n",
              "  color: #f1f1f1;\n",
              "}\n",
              "#T_4f57a_row1_col2 {\n",
              "  background-color: #a5c3fe;\n",
              "  color: #000000;\n",
              "}\n",
              "#T_4f57a_row1_col3, #T_4f57a_row1_col4, #T_4f57a_row1_col5, #T_4f57a_row1_col6, #T_4f57a_row1_col7, #T_4f57a_row1_col8, #T_4f57a_row4_col0, #T_4f57a_row5_col2, #T_4f57a_row7_col0, #T_4f57a_row8_col1 {\n",
              "  background-color: #3b4cc0;\n",
              "  color: #f1f1f1;\n",
              "}\n",
              "#T_4f57a_row2_col0, #T_4f57a_row4_col2 {\n",
              "  background-color: #4b64d5;\n",
              "  color: #f1f1f1;\n",
              "}\n",
              "#T_4f57a_row2_col1 {\n",
              "  background-color: #bed2f6;\n",
              "  color: #000000;\n",
              "}\n",
              "#T_4f57a_row2_col3 {\n",
              "  background-color: #455cce;\n",
              "  color: #f1f1f1;\n",
              "}\n",
              "#T_4f57a_row2_col4, #T_4f57a_row4_col1, #T_4f57a_row8_col7 {\n",
              "  background-color: #5470de;\n",
              "  color: #f1f1f1;\n",
              "}\n",
              "#T_4f57a_row2_col5 {\n",
              "  background-color: #4961d2;\n",
              "  color: #f1f1f1;\n",
              "}\n",
              "#T_4f57a_row2_col6, #T_4f57a_row6_col2 {\n",
              "  background-color: #506bda;\n",
              "  color: #f1f1f1;\n",
              "}\n",
              "#T_4f57a_row2_col7 {\n",
              "  background-color: #516ddb;\n",
              "  color: #f1f1f1;\n",
              "}\n",
              "#T_4f57a_row2_col8 {\n",
              "  background-color: #6485ec;\n",
              "  color: #f1f1f1;\n",
              "}\n",
              "#T_4f57a_row3_col0 {\n",
              "  background-color: #4055c8;\n",
              "  color: #f1f1f1;\n",
              "}\n",
              "#T_4f57a_row3_col1 {\n",
              "  background-color: #6e90f2;\n",
              "  color: #f1f1f1;\n",
              "}\n",
              "#T_4f57a_row3_col4, #T_4f57a_row6_col7 {\n",
              "  background-color: #cfdaea;\n",
              "  color: #000000;\n",
              "}\n",
              "#T_4f57a_row3_col5 {\n",
              "  background-color: #e3d9d3;\n",
              "  color: #000000;\n",
              "}\n",
              "#T_4f57a_row3_col6 {\n",
              "  background-color: #f2c9b4;\n",
              "  color: #000000;\n",
              "}\n",
              "#T_4f57a_row3_col7 {\n",
              "  background-color: #cdd9ec;\n",
              "  color: #000000;\n",
              "}\n",
              "#T_4f57a_row3_col8 {\n",
              "  background-color: #8db0fe;\n",
              "  color: #000000;\n",
              "}\n",
              "#T_4f57a_row4_col3, #T_4f57a_row7_col3 {\n",
              "  background-color: #bfd3f6;\n",
              "  color: #000000;\n",
              "}\n",
              "#T_4f57a_row4_col5 {\n",
              "  background-color: #e0dbd8;\n",
              "  color: #000000;\n",
              "}\n",
              "#T_4f57a_row4_col6 {\n",
              "  background-color: #cedaeb;\n",
              "  color: #000000;\n",
              "}\n",
              "#T_4f57a_row4_col7 {\n",
              "  background-color: #dadce0;\n",
              "  color: #000000;\n",
              "}\n",
              "#T_4f57a_row4_col8 {\n",
              "  background-color: #89acfd;\n",
              "  color: #000000;\n",
              "}\n",
              "#T_4f57a_row5_col0 {\n",
              "  background-color: #445acc;\n",
              "  color: #f1f1f1;\n",
              "}\n",
              "#T_4f57a_row5_col1, #T_4f57a_row8_col0 {\n",
              "  background-color: #4f69d9;\n",
              "  color: #f1f1f1;\n",
              "}\n",
              "#T_4f57a_row5_col3 {\n",
              "  background-color: #d5dbe5;\n",
              "  color: #000000;\n",
              "}\n",
              "#T_4f57a_row5_col4 {\n",
              "  background-color: #dedcdb;\n",
              "  color: #000000;\n",
              "}\n",
              "#T_4f57a_row5_col6 {\n",
              "  background-color: #d8dce2;\n",
              "  color: #000000;\n",
              "}\n",
              "#T_4f57a_row5_col7 {\n",
              "  background-color: #d7dce3;\n",
              "  color: #000000;\n",
              "}\n",
              "#T_4f57a_row5_col8 {\n",
              "  background-color: #8caffe;\n",
              "  color: #000000;\n",
              "}\n",
              "#T_4f57a_row6_col0, #T_4f57a_row8_col2 {\n",
              "  background-color: #4257c9;\n",
              "  color: #f1f1f1;\n",
              "}\n",
              "#T_4f57a_row6_col1 {\n",
              "  background-color: #5d7ce6;\n",
              "  color: #f1f1f1;\n",
              "}\n",
              "#T_4f57a_row6_col3 {\n",
              "  background-color: #efcebd;\n",
              "  color: #000000;\n",
              "}\n",
              "#T_4f57a_row6_col4 {\n",
              "  background-color: #d3dbe7;\n",
              "  color: #000000;\n",
              "}\n",
              "#T_4f57a_row6_col5 {\n",
              "  background-color: #dfdbd9;\n",
              "  color: #000000;\n",
              "}\n",
              "#T_4f57a_row7_col2 {\n",
              "  background-color: #4c66d6;\n",
              "  color: #f1f1f1;\n",
              "}\n",
              "#T_4f57a_row7_col4 {\n",
              "  background-color: #dcdddd;\n",
              "  color: #000000;\n",
              "}\n",
              "#T_4f57a_row7_col5 {\n",
              "  background-color: #dbdcde;\n",
              "  color: #000000;\n",
              "}\n",
              "#T_4f57a_row7_col6 {\n",
              "  background-color: #ccd9ed;\n",
              "  color: #000000;\n",
              "}\n",
              "#T_4f57a_row7_col8 {\n",
              "  background-color: #7093f3;\n",
              "  color: #f1f1f1;\n",
              "}\n",
              "#T_4f57a_row8_col4 {\n",
              "  background-color: #7295f4;\n",
              "  color: #f1f1f1;\n",
              "}\n",
              "#T_4f57a_row8_col6 {\n",
              "  background-color: #6788ee;\n",
              "  color: #f1f1f1;\n",
              "}\n",
              "</style>\n",
              "<table id=\"T_4f57a_\" class=\"dataframe\">\n",
              "  <thead>\n",
              "    <tr>\n",
              "      <th class=\"blank level0\" >&nbsp;</th>\n",
              "      <th class=\"col_heading level0 col0\" >telecommuting</th>\n",
              "      <th class=\"col_heading level0 col1\" >has_company_logo</th>\n",
              "      <th class=\"col_heading level0 col2\" >has_questions</th>\n",
              "      <th class=\"col_heading level0 col3\" >employment_type</th>\n",
              "      <th class=\"col_heading level0 col4\" >required_experience</th>\n",
              "      <th class=\"col_heading level0 col5\" >required_education</th>\n",
              "      <th class=\"col_heading level0 col6\" >industry</th>\n",
              "      <th class=\"col_heading level0 col7\" >function</th>\n",
              "      <th class=\"col_heading level0 col8\" >fraudulent</th>\n",
              "    </tr>\n",
              "  </thead>\n",
              "  <tbody>\n",
              "    <tr>\n",
              "      <th id=\"T_4f57a_level0_row0\" class=\"row_heading level0 row0\" >telecommuting</th>\n",
              "      <td id=\"T_4f57a_row0_col0\" class=\"data row0 col0\" >1.000000</td>\n",
              "      <td id=\"T_4f57a_row0_col1\" class=\"data row0 col1\" >-0.019836</td>\n",
              "      <td id=\"T_4f57a_row0_col2\" class=\"data row0 col2\" >0.020345</td>\n",
              "      <td id=\"T_4f57a_row0_col3\" class=\"data row0 col3\" >-0.015372</td>\n",
              "      <td id=\"T_4f57a_row0_col4\" class=\"data row0 col4\" >-0.034689</td>\n",
              "      <td id=\"T_4f57a_row0_col5\" class=\"data row0 col5\" >-0.001100</td>\n",
              "      <td id=\"T_4f57a_row0_col6\" class=\"data row0 col6\" >-0.012522</td>\n",
              "      <td id=\"T_4f57a_row0_col7\" class=\"data row0 col7\" >-0.037338</td>\n",
              "      <td id=\"T_4f57a_row0_col8\" class=\"data row0 col8\" >0.034523</td>\n",
              "    </tr>\n",
              "    <tr>\n",
              "      <th id=\"T_4f57a_level0_row1\" class=\"row_heading level0 row1\" >has_company_logo</th>\n",
              "      <td id=\"T_4f57a_row1_col0\" class=\"data row1 col0\" >-0.019836</td>\n",
              "      <td id=\"T_4f57a_row1_col1\" class=\"data row1 col1\" >1.000000</td>\n",
              "      <td id=\"T_4f57a_row1_col2\" class=\"data row1 col2\" >0.233932</td>\n",
              "      <td id=\"T_4f57a_row1_col3\" class=\"data row1 col3\" >-0.057829</td>\n",
              "      <td id=\"T_4f57a_row1_col4\" class=\"data row1 col4\" >-0.158293</td>\n",
              "      <td id=\"T_4f57a_row1_col5\" class=\"data row1 col5\" >-0.176888</td>\n",
              "      <td id=\"T_4f57a_row1_col6\" class=\"data row1 col6\" >-0.120947</td>\n",
              "      <td id=\"T_4f57a_row1_col7\" class=\"data row1 col7\" >-0.142539</td>\n",
              "      <td id=\"T_4f57a_row1_col8\" class=\"data row1 col8\" >-0.261971</td>\n",
              "    </tr>\n",
              "    <tr>\n",
              "      <th id=\"T_4f57a_level0_row2\" class=\"row_heading level0 row2\" >has_questions</th>\n",
              "      <td id=\"T_4f57a_row2_col0\" class=\"data row2 col0\" >0.020345</td>\n",
              "      <td id=\"T_4f57a_row2_col1\" class=\"data row2 col1\" >0.233932</td>\n",
              "      <td id=\"T_4f57a_row2_col2\" class=\"data row2 col2\" >1.000000</td>\n",
              "      <td id=\"T_4f57a_row2_col3\" class=\"data row2 col3\" >-0.020335</td>\n",
              "      <td id=\"T_4f57a_row2_col4\" class=\"data row2 col4\" >-0.059089</td>\n",
              "      <td id=\"T_4f57a_row2_col5\" class=\"data row2 col5\" >-0.121461</td>\n",
              "      <td id=\"T_4f57a_row2_col6\" class=\"data row2 col6\" >-0.040103</td>\n",
              "      <td id=\"T_4f57a_row2_col7\" class=\"data row2 col7\" >-0.053456</td>\n",
              "      <td id=\"T_4f57a_row2_col8\" class=\"data row2 col8\" >-0.091627</td>\n",
              "    </tr>\n",
              "    <tr>\n",
              "      <th id=\"T_4f57a_level0_row3\" class=\"row_heading level0 row3\" >employment_type</th>\n",
              "      <td id=\"T_4f57a_row3_col0\" class=\"data row3 col0\" >-0.015372</td>\n",
              "      <td id=\"T_4f57a_row3_col1\" class=\"data row3 col1\" >-0.057829</td>\n",
              "      <td id=\"T_4f57a_row3_col2\" class=\"data row3 col2\" >-0.020335</td>\n",
              "      <td id=\"T_4f57a_row3_col3\" class=\"data row3 col3\" >1.000000</td>\n",
              "      <td id=\"T_4f57a_row3_col4\" class=\"data row3 col4\" >0.362176</td>\n",
              "      <td id=\"T_4f57a_row3_col5\" class=\"data row3 col5\" >0.439478</td>\n",
              "      <td id=\"T_4f57a_row3_col6\" class=\"data row3 col6\" >0.558086</td>\n",
              "      <td id=\"T_4f57a_row3_col7\" class=\"data row3 col7\" >0.362255</td>\n",
              "      <td id=\"T_4f57a_row3_col8\" class=\"data row3 col8\" >0.057070</td>\n",
              "    </tr>\n",
              "    <tr>\n",
              "      <th id=\"T_4f57a_level0_row4\" class=\"row_heading level0 row4\" >required_experience</th>\n",
              "      <td id=\"T_4f57a_row4_col0\" class=\"data row4 col0\" >-0.034689</td>\n",
              "      <td id=\"T_4f57a_row4_col1\" class=\"data row4 col1\" >-0.158293</td>\n",
              "      <td id=\"T_4f57a_row4_col2\" class=\"data row4 col2\" >-0.059089</td>\n",
              "      <td id=\"T_4f57a_row4_col3\" class=\"data row4 col3\" >0.362176</td>\n",
              "      <td id=\"T_4f57a_row4_col4\" class=\"data row4 col4\" >1.000000</td>\n",
              "      <td id=\"T_4f57a_row4_col5\" class=\"data row4 col5\" >0.427080</td>\n",
              "      <td id=\"T_4f57a_row4_col6\" class=\"data row4 col6\" >0.378939</td>\n",
              "      <td id=\"T_4f57a_row4_col7\" class=\"data row4 col7\" >0.418974</td>\n",
              "      <td id=\"T_4f57a_row4_col8\" class=\"data row4 col8\" >0.041328</td>\n",
              "    </tr>\n",
              "    <tr>\n",
              "      <th id=\"T_4f57a_level0_row5\" class=\"row_heading level0 row5\" >required_education</th>\n",
              "      <td id=\"T_4f57a_row5_col0\" class=\"data row5 col0\" >-0.001100</td>\n",
              "      <td id=\"T_4f57a_row5_col1\" class=\"data row5 col1\" >-0.176888</td>\n",
              "      <td id=\"T_4f57a_row5_col2\" class=\"data row5 col2\" >-0.121461</td>\n",
              "      <td id=\"T_4f57a_row5_col3\" class=\"data row5 col3\" >0.439478</td>\n",
              "      <td id=\"T_4f57a_row5_col4\" class=\"data row5 col4\" >0.427080</td>\n",
              "      <td id=\"T_4f57a_row5_col5\" class=\"data row5 col5\" >1.000000</td>\n",
              "      <td id=\"T_4f57a_row5_col6\" class=\"data row5 col6\" >0.421885</td>\n",
              "      <td id=\"T_4f57a_row5_col7\" class=\"data row5 col7\" >0.404328</td>\n",
              "      <td id=\"T_4f57a_row5_col8\" class=\"data row5 col8\" >0.048955</td>\n",
              "    </tr>\n",
              "    <tr>\n",
              "      <th id=\"T_4f57a_level0_row6\" class=\"row_heading level0 row6\" >industry</th>\n",
              "      <td id=\"T_4f57a_row6_col0\" class=\"data row6 col0\" >-0.012522</td>\n",
              "      <td id=\"T_4f57a_row6_col1\" class=\"data row6 col1\" >-0.120947</td>\n",
              "      <td id=\"T_4f57a_row6_col2\" class=\"data row6 col2\" >-0.040103</td>\n",
              "      <td id=\"T_4f57a_row6_col3\" class=\"data row6 col3\" >0.558086</td>\n",
              "      <td id=\"T_4f57a_row6_col4\" class=\"data row6 col4\" >0.378939</td>\n",
              "      <td id=\"T_4f57a_row6_col5\" class=\"data row6 col5\" >0.421885</td>\n",
              "      <td id=\"T_4f57a_row6_col6\" class=\"data row6 col6\" >1.000000</td>\n",
              "      <td id=\"T_4f57a_row6_col7\" class=\"data row6 col7\" >0.373065</td>\n",
              "      <td id=\"T_4f57a_row6_col8\" class=\"data row6 col8\" >0.037297</td>\n",
              "    </tr>\n",
              "    <tr>\n",
              "      <th id=\"T_4f57a_level0_row7\" class=\"row_heading level0 row7\" >function</th>\n",
              "      <td id=\"T_4f57a_row7_col0\" class=\"data row7 col0\" >-0.037338</td>\n",
              "      <td id=\"T_4f57a_row7_col1\" class=\"data row7 col1\" >-0.142539</td>\n",
              "      <td id=\"T_4f57a_row7_col2\" class=\"data row7 col2\" >-0.053456</td>\n",
              "      <td id=\"T_4f57a_row7_col3\" class=\"data row7 col3\" >0.362255</td>\n",
              "      <td id=\"T_4f57a_row7_col4\" class=\"data row7 col4\" >0.418974</td>\n",
              "      <td id=\"T_4f57a_row7_col5\" class=\"data row7 col5\" >0.404328</td>\n",
              "      <td id=\"T_4f57a_row7_col6\" class=\"data row7 col6\" >0.373065</td>\n",
              "      <td id=\"T_4f57a_row7_col7\" class=\"data row7 col7\" >1.000000</td>\n",
              "      <td id=\"T_4f57a_row7_col8\" class=\"data row7 col8\" >-0.047461</td>\n",
              "    </tr>\n",
              "    <tr>\n",
              "      <th id=\"T_4f57a_level0_row8\" class=\"row_heading level0 row8\" >fraudulent</th>\n",
              "      <td id=\"T_4f57a_row8_col0\" class=\"data row8 col0\" >0.034523</td>\n",
              "      <td id=\"T_4f57a_row8_col1\" class=\"data row8 col1\" >-0.261971</td>\n",
              "      <td id=\"T_4f57a_row8_col2\" class=\"data row8 col2\" >-0.091627</td>\n",
              "      <td id=\"T_4f57a_row8_col3\" class=\"data row8 col3\" >0.057070</td>\n",
              "      <td id=\"T_4f57a_row8_col4\" class=\"data row8 col4\" >0.041328</td>\n",
              "      <td id=\"T_4f57a_row8_col5\" class=\"data row8 col5\" >0.048955</td>\n",
              "      <td id=\"T_4f57a_row8_col6\" class=\"data row8 col6\" >0.037297</td>\n",
              "      <td id=\"T_4f57a_row8_col7\" class=\"data row8 col7\" >-0.047461</td>\n",
              "      <td id=\"T_4f57a_row8_col8\" class=\"data row8 col8\" >1.000000</td>\n",
              "    </tr>\n",
              "  </tbody>\n",
              "</table>\n"
            ]
          },
          "metadata": {},
          "execution_count": 81
        }
      ],
      "source": [
        "corr = main_data_corr.corr()\n",
        "\n",
        "corr.style.background_gradient(cmap='coolwarm')"
      ],
      "id": "8wmhpSbKS3Lq"
    },
    {
      "cell_type": "code",
      "execution_count": null,
      "metadata": {
        "colab": {
          "base_uri": "https://localhost:8080/",
          "height": 393
        },
        "id": "i2ghKSR0S3N0",
        "outputId": "eeb0859c-9be3-4f37-dec7-c5f68e31e9d4"
      },
      "outputs": [
        {
          "output_type": "execute_result",
          "data": {
            "text/plain": [
              "<matplotlib.axes._subplots.AxesSubplot at 0x7fa65b069190>"
            ]
          },
          "metadata": {},
          "execution_count": 82
        },
        {
          "output_type": "display_data",
          "data": {
            "text/plain": [
              "<Figure size 432x288 with 2 Axes>"
            ],
            "image/png": "[encoded data removed]"
          },
          "metadata": {}
        }
      ],
      "source": [
        "sns.heatmap(main_data_corr.corr())"
      ],
      "id": "i2ghKSR0S3N0"
    },
    {
      "cell_type": "code",
      "execution_count": null,
      "metadata": {
        "colab": {
          "base_uri": "https://localhost:8080/",
          "height": 303
        },
        "id": "y1ntT6_vS3QC",
        "outputId": "adbf6192-6155-4c08-ea84-5791babf9157"
      },
      "outputs": [
        {
          "output_type": "execute_result",
          "data": {
            "text/plain": [
              "<matplotlib.axes._subplots.AxesSubplot at 0x7fa65a9d6dd0>"
            ]
          },
          "metadata": {},
          "execution_count": 83
        },
        {
          "output_type": "display_data",
          "data": {
            "text/plain": [
              "<Figure size 432x288 with 1 Axes>"
            ],
            "image/png": "[encoded data removed]"
          },
          "metadata": {}
        }
      ],
      "source": [
        "sns.regplot(x=main_data_corr[\"fraudulent\"], y=main_data_corr[\"has_questions\"])"
      ],
      "id": "y1ntT6_vS3QC"
    },
    {
      "cell_type": "markdown",
      "metadata": {
        "id": "51WV7fX0J01d"
      },
      "source": [
        "## EDA\n"
      ],
      "id": "51WV7fX0J01d"
    },
    {
      "cell_type": "code",
      "execution_count": null,
      "metadata": {
        "id": "CZdEha1hs4HA",
        "colab": {
          "base_uri": "https://localhost:8080/",
          "height": 355
        },
        "outputId": "f7f15d99-839b-4d42-aa93-8ebd579a0b2d"
      },
      "outputs": [
        {
          "output_type": "display_data",
          "data": {
            "text/plain": [
              "<Figure size 720x360 with 1 Axes>"
            ],
            "image/png": "[encoded data removed]"
          },
          "metadata": {}
        }
      ],
      "source": [
        "fig = plt.figure(figsize = (10, 5))\n",
        "lst1 = (0,1)\n",
        "lst2 = (13598,13598)\n",
        "#  Bar plot\n",
        "plt.bar(lst1, lst2, color ='lightblue')\n",
        "plt.xlabel(\"0: Non-Fraudulent, 1: Fraudulent\")\n",
        "plt.ylabel(\"Count of Data\")\n",
        "plt.title(\"Amount of Fraudulent and Non-Fraudulent Data\")\n",
        "plt.show()"
      ],
      "id": "CZdEha1hs4HA"
    },
    {
      "cell_type": "code",
      "execution_count": null,
      "metadata": {
        "id": "V54BZE2bs5Dk",
        "colab": {
          "base_uri": "https://localhost:8080/",
          "height": 286
        },
        "outputId": "7e7c167d-dae5-4368-f51c-7376c7de896a"
      },
      "outputs": [
        {
          "output_type": "execute_result",
          "data": {
            "text/plain": [
              "<matplotlib.axes._subplots.AxesSubplot at 0x7fa65b9ace50>"
            ]
          },
          "metadata": {},
          "execution_count": 85
        },
        {
          "output_type": "display_data",
          "data": {
            "text/plain": [
              "<Figure size 432x288 with 1 Axes>"
            ],
            "image/png": "[encoded data removed]"
          },
          "metadata": {}
        }
      ],
      "source": [
        "bar_graph_data = {'type': ['smote', 'non-smote'], '0':[13598,13598], '1':[13598,706]}\n",
        "sns.barplot(x = 'type',\n",
        "            y = '0',\n",
        "            hue = '0',\n",
        "            data = bar_graph_data,\n",
        "            palette = \"Blues\")"
      ],
      "id": "V54BZE2bs5Dk"
    },
    {
      "cell_type": "code",
      "execution_count": null,
      "metadata": {
        "id": "_iVsN9XKs-4c",
        "colab": {
          "base_uri": "https://localhost:8080/",
          "height": 286
        },
        "outputId": "3afe1ade-ecb7-45aa-96ef-c020a46ecfd7"
      },
      "outputs": [
        {
          "output_type": "execute_result",
          "data": {
            "text/plain": [
              "<matplotlib.axes._subplots.AxesSubplot at 0x7fa6598da4d0>"
            ]
          },
          "metadata": {},
          "execution_count": 86
        },
        {
          "output_type": "display_data",
          "data": {
            "text/plain": [
              "<Figure size 432x288 with 1 Axes>"
            ],
            "image/png": "[encoded data removed]"
          },
          "metadata": {}
        }
      ],
      "source": [
        "sns.barplot(x = 'type',\n",
        "            y = '1',\n",
        "            hue = '1',\n",
        "            data = bar_graph_data,\n",
        "            palette = \"Blues\")"
      ],
      "id": "_iVsN9XKs-4c"
    },
    {
      "cell_type": "code",
      "execution_count": null,
      "metadata": {
        "id": "Ut6fuqJBtyyQ",
        "colab": {
          "base_uri": "https://localhost:8080/",
          "height": 475
        },
        "outputId": "1e2de32b-31fe-4751-d7b1-b502d4f7dd9d"
      },
      "outputs": [
        {
          "output_type": "display_data",
          "data": {
            "text/plain": [
              "<Figure size 1080x540 with 1 Axes>"
            ],
            "image/png": "[encoded data removed]"
          },
          "metadata": {}
        }
      ],
      "source": [
        "plt.figure(figsize = (15, 7.5))\n",
        "sns.histplot(x=data[data[\"fraudulent\"]==1][\"required_experience\"],kde=True,color=\"red\")\n",
        "sns.histplot(x=data[data[\"fraudulent\"]==0][\"required_experience\"],kde=True);"
      ],
      "id": "Ut6fuqJBtyyQ"
    },
    {
      "cell_type": "code",
      "execution_count": null,
      "metadata": {
        "id": "lYSV0_zHPsKm",
        "colab": {
          "base_uri": "https://localhost:8080/",
          "height": 390
        },
        "outputId": "bd548b44-731c-42cd-8088-402bb38aee67"
      },
      "outputs": [
        {
          "output_type": "execute_result",
          "data": {
            "text/plain": [
              "<seaborn.axisgrid.FacetGrid at 0x7fa658a35110>"
            ]
          },
          "metadata": {},
          "execution_count": 88
        },
        {
          "output_type": "display_data",
          "data": {
            "text/plain": [
              "<Figure size 431.55x360 with 1 Axes>"
            ],
            "image/png": "[encoded data removed]"
          },
          "metadata": {}
        }
      ],
      "source": [
        "ax=sns.displot(main_data, x='required_experience', hue='fraudulent', kind='kde', common_norm=False, cut=0)\n",
        "ax.set(xscale=\"log\")"
      ],
      "id": "lYSV0_zHPsKm"
    },
    {
      "cell_type": "markdown",
      "metadata": {
        "id": "UeZ4A3drZWPi"
      },
      "source": [
        "# Model Dev"
      ],
      "id": "UeZ4A3drZWPi"
    },
    {
      "cell_type": "markdown",
      "metadata": {
        "id": "gXhIZwmlZZpZ"
      },
      "source": [
        "## Split Training and Testing and Apply SMOTE"
      ],
      "id": "gXhIZwmlZZpZ"
    },
    {
      "cell_type": "code",
      "execution_count": null,
      "metadata": {
        "id": "mJ3scbanZdeu"
      },
      "outputs": [],
      "source": [
        "X_train, X_test, y_train, y_test = train_test_split(X, y, test_size=0.2, random_state=10)\n",
        "\n",
        "oversample = SMOTE()\n",
        "X_train_bal, y_train_bal = oversample.fit_resample(X_train, y_train)"
      ],
      "id": "mJ3scbanZdeu"
    },
    {
      "cell_type": "code",
      "execution_count": null,
      "metadata": {
        "colab": {
          "base_uri": "https://localhost:8080/"
        },
        "id": "Qu612TUY6nXw",
        "outputId": "7b6bcc49-dc82-43b9-f50c-fafb3ef36800"
      },
      "outputs": [
        {
          "output_type": "stream",
          "name": "stdout",
          "text": [
            "14304\n",
            "14304\n",
            "27196\n",
            "27196\n"
          ]
        }
      ],
      "source": [
        "print(len(X_train))\n",
        "print(len(y_train))\n",
        "print(len(X_train_bal))\n",
        "print(len(y_train_bal))"
      ],
      "id": "Qu612TUY6nXw"
    },
    {
      "cell_type": "markdown",
      "metadata": {
        "id": "9113c045-5285-4c33-aa65-15df6f79ed9d"
      },
      "source": [
        "## Random Forest"
      ],
      "id": "9113c045-5285-4c33-aa65-15df6f79ed9d"
    },
    {
      "cell_type": "markdown",
      "metadata": {
        "id": "gWC8HBKfqkrQ"
      },
      "source": [
        "### Search for Optimal RF Parameters"
      ],
      "id": "gWC8HBKfqkrQ"
    },
    {
      "cell_type": "code",
      "execution_count": null,
      "metadata": {
        "colab": {
          "base_uri": "https://localhost:8080/"
        },
        "id": "7bd228ad-befc-42ed-91ce-8daf7b8df33c",
        "outputId": "ba8a2e95-d423-43c2-9249-d0e577873913"
      },
      "outputs": [
        {
          "output_type": "execute_result",
          "data": {
            "text/plain": [
              "RandomizedSearchCV(cv=4, estimator=RandomForestClassifier(), n_iter=5,\n",
              "                   param_distributions={'max_depth': [10, 20, 30, 40, 50, None],\n",
              "                                        'min_samples_leaf': [1, 2],\n",
              "                                        'min_samples_split': [2, 5],\n",
              "                                        'n_estimators': [5, 8, 12, 16, 20]},\n",
              "                   scoring='f1')"
            ]
          },
          "metadata": {},
          "execution_count": 91
        }
      ],
      "source": [
        "# Number of trees in random forest\n",
        "n_estimators = [int(x) for x in np.linspace(start = 5, stop = 20, num = 5)]\n",
        "\n",
        "# Maximum number of levels in tree\n",
        "max_depth = [int(x) for x in np.linspace(10, 50, num = 5)]\n",
        "max_depth.append(None)\n",
        "\n",
        "# Minimum number of samples required to split a node\n",
        "min_samples_split = [2, 5]\n",
        "\n",
        "# Minimum number of samples required at each leaf node\n",
        "min_samples_leaf = [1, 2]\n",
        "\n",
        "# Create the random grid\n",
        "random_grid = {'n_estimators': n_estimators,\n",
        "               'max_depth': max_depth,\n",
        "               'min_samples_split': min_samples_split,\n",
        "               'min_samples_leaf': min_samples_leaf}\n",
        "\n",
        "\n",
        "rf = RandomForestClassifier()\n",
        "rf_random = RandomizedSearchCV(estimator = rf, param_distributions = random_grid, n_iter = 5, cv = 4,scoring = 'f1')\n",
        "rf_random.fit(X_train_bal, y_train_bal)"
      ],
      "id": "7bd228ad-befc-42ed-91ce-8daf7b8df33c"
    },
    {
      "cell_type": "code",
      "execution_count": null,
      "metadata": {
        "colab": {
          "base_uri": "https://localhost:8080/"
        },
        "id": "ec04a86e-dead-4694-89b1-bf16723f78c6",
        "outputId": "4fd69993-8eef-4957-c6ba-69d63343db68"
      },
      "outputs": [
        {
          "output_type": "stream",
          "name": "stdout",
          "text": [
            "Average of the best f1-score in various folds during cross validation =  0.9882337025623414\n",
            "The best parameters found during k-fold cross validation is =  {'n_estimators': 20, 'min_samples_split': 5, 'min_samples_leaf': 1, 'max_depth': 50}\n"
          ]
        }
      ],
      "source": [
        "print(\"Average of the best f1-score in various folds during cross validation = \",rf_random.best_score_)\n",
        "print(\"The best parameters found during k-fold cross validation is = \",rf_random.best_params_)"
      ],
      "id": "ec04a86e-dead-4694-89b1-bf16723f78c6"
    },
    {
      "cell_type": "markdown",
      "metadata": {
        "id": "45ckxHT3zBR3"
      },
      "source": [
        "### Train"
      ],
      "id": "45ckxHT3zBR3"
    },
    {
      "cell_type": "code",
      "execution_count": null,
      "metadata": {
        "id": "-nYh8LoKm8Lr"
      },
      "outputs": [],
      "source": [
        "rfc = RandomForestClassifier(n_estimators=20, min_samples_split = 2, min_samples_leaf = 2, max_depth= 40)"
      ],
      "id": "-nYh8LoKm8Lr"
    },
    {
      "cell_type": "code",
      "execution_count": null,
      "metadata": {
        "colab": {
          "base_uri": "https://localhost:8080/"
        },
        "id": "eUHRmZN_-I6O",
        "outputId": "a4e6bc9e-c279-48b9-8c7e-dde518a0010a"
      },
      "outputs": [
        {
          "output_type": "stream",
          "name": "stdout",
          "text": [
            "Random Forest took:  8.974043369293213 seconds\n"
          ]
        }
      ],
      "source": [
        "start = time.time()\n",
        "\n",
        "rfc.fit(X_train_bal, y_train_bal)\n",
        "rf_pred = rfc.predict(X_test)\n",
        "\n",
        "end = time.time()\n",
        "print('Random Forest took: ', end - start, \"seconds\")"
      ],
      "id": "eUHRmZN_-I6O"
    },
    {
      "cell_type": "markdown",
      "metadata": {
        "id": "4-4V-Ae96aIb"
      },
      "source": [
        "### Pickle Model"
      ],
      "id": "4-4V-Ae96aIb"
    },
    {
      "cell_type": "code",
      "execution_count": null,
      "metadata": {
        "id": "2ZlEW69V6b4z"
      },
      "outputs": [],
      "source": [
        "#pickle.dump(rfc, open('randomForest.pkl', 'wb'))"
      ],
      "id": "2ZlEW69V6b4z"
    },
    {
      "cell_type": "markdown",
      "metadata": {
        "id": "8bcMik9F66UZ"
      },
      "source": [
        "### Load Pickled Model"
      ],
      "id": "8bcMik9F66UZ"
    },
    {
      "cell_type": "code",
      "execution_count": null,
      "metadata": {
        "id": "gZUTLrBw65e1"
      },
      "outputs": [],
      "source": [
        "#pickled_model = pickle.load(open('randomForest.pkl', 'rb'))\n",
        "#rf_pred = pickled_model.predict(X_test)"
      ],
      "id": "gZUTLrBw65e1"
    },
    {
      "cell_type": "code",
      "execution_count": null,
      "metadata": {
        "id": "MHGCO_Zr8QTs"
      },
      "outputs": [],
      "source": [
        "#print (\"AUC score :\", np.round(roc_auc_score(y_test, rf_pred),2))\n",
        "#print(\"Accuracy:\",round(metrics.accuracy_score(y_test, rf_pred),2))"
      ],
      "id": "MHGCO_Zr8QTs"
    },
    {
      "cell_type": "code",
      "execution_count": null,
      "metadata": {
        "colab": {
          "base_uri": "https://localhost:8080/"
        },
        "id": "30JHMFh6m3Rl",
        "outputId": "39150480-029b-44e4-be5b-556191c34721"
      },
      "outputs": [
        {
          "output_type": "stream",
          "name": "stdout",
          "text": [
            "Recall :0.60 \n",
            "F1_Score: 0.68 \n",
            "AUC score : 0.8\n",
            "Accuracy: 0.98\n"
          ]
        }
      ],
      "source": [
        "rf_recall  = metrics.recall_score(y_test, rf_pred)\n",
        "rf_f1_score = metrics.f1_score(y_test,rf_pred)\n",
        "\n",
        "\n",
        "print (\"Recall :%.2f \"% rf_recall)\n",
        "print(\"F1_Score: %.2f \"% rf_f1_score)\n",
        "print (\"AUC score :\", np.round(roc_auc_score(y_test, rf_pred),2))\n",
        "print(\"Accuracy:\",round(metrics.accuracy_score(y_test, rf_pred),2))"
      ],
      "id": "30JHMFh6m3Rl"
    },
    {
      "cell_type": "markdown",
      "metadata": {
        "id": "dLqPoq1PVX-s"
      },
      "source": [
        "### Confusion Matrix"
      ],
      "id": "dLqPoq1PVX-s"
    },
    {
      "cell_type": "code",
      "execution_count": null,
      "metadata": {
        "colab": {
          "base_uri": "https://localhost:8080/"
        },
        "id": "h0v7XMnmTnrC",
        "outputId": "27d2d9ad-11b2-4bcd-e3b5-27e5427d2d19"
      },
      "outputs": [
        {
          "output_type": "stream",
          "name": "stdout",
          "text": [
            "[[3391   25]\n",
            " [  64   96]]\n"
          ]
        }
      ],
      "source": [
        "#Generate the confusion matrix\n",
        "rf_cf_matrix = confusion_matrix(y_test, rf_pred)\n",
        "\n",
        "print(rf_cf_matrix)"
      ],
      "id": "h0v7XMnmTnrC"
    },
    {
      "cell_type": "code",
      "execution_count": null,
      "metadata": {
        "colab": {
          "base_uri": "https://localhost:8080/",
          "height": 301
        },
        "id": "NAOuZE4YVC7M",
        "outputId": "11f39bd5-1b83-4149-991d-b25b4af9caeb"
      },
      "outputs": [
        {
          "output_type": "display_data",
          "data": {
            "text/plain": [
              "<Figure size 432x288 with 2 Axes>"
            ],
            "image/png": "[encoded data removed]"
          },
          "metadata": {}
        }
      ],
      "source": [
        "ConfusionMatrixDisplay.from_predictions(y_test, rf_pred)\n",
        "plt.title(\"Confusion Matrix - Random Forest\")\n",
        "plt.show()"
      ],
      "id": "NAOuZE4YVC7M"
    },
    {
      "cell_type": "markdown",
      "metadata": {
        "id": "pyXecXEnj1ww"
      },
      "source": [
        "### ROC Using Probability"
      ],
      "id": "pyXecXEnj1ww"
    },
    {
      "cell_type": "code",
      "execution_count": null,
      "metadata": {
        "id": "9sfIZ5qlj1wx"
      },
      "outputs": [],
      "source": [
        "rf_proba = rfc.predict_proba(X_test)"
      ],
      "id": "9sfIZ5qlj1wx"
    },
    {
      "cell_type": "code",
      "execution_count": null,
      "metadata": {
        "colab": {
          "base_uri": "https://localhost:8080/",
          "height": 322
        },
        "id": "jokAdAystOnN",
        "outputId": "333e7629-fa8e-4d4a-d748-100a6b9d2d76"
      },
      "outputs": [
        {
          "output_type": "execute_result",
          "data": {
            "text/plain": [
              "Text(0.5, 1.0, 'ROC Curves - Random Forest')"
            ]
          },
          "metadata": {},
          "execution_count": 102
        },
        {
          "output_type": "display_data",
          "data": {
            "text/plain": [
              "<Figure size 432x288 with 1 Axes>"
            ],
            "image/png": "[encoded data removed]"
          },
          "metadata": {}
        }
      ],
      "source": [
        "plot = skplt.metrics.plot_roc(y_test, rf_proba)\n",
        "plt.title(\"ROC Curves - Random Forest\")"
      ],
      "id": "jokAdAystOnN"
    },
    {
      "cell_type": "code",
      "execution_count": null,
      "metadata": {
        "id": "w0aS5I0Uj1wx"
      },
      "outputs": [],
      "source": [
        "rf_proba = rf_proba[:, 1]"
      ],
      "id": "w0aS5I0Uj1wx"
    },
    {
      "cell_type": "code",
      "execution_count": null,
      "metadata": {
        "id": "jB-bBZHGj1wx"
      },
      "outputs": [],
      "source": [
        "rf_auc = roc_auc_score(y_test, rf_proba)"
      ],
      "id": "jB-bBZHGj1wx"
    },
    {
      "cell_type": "code",
      "execution_count": null,
      "metadata": {
        "colab": {
          "base_uri": "https://localhost:8080/"
        },
        "id": "IdEhRJ2yj1wx",
        "outputId": "89c5f33c-ae42-4b7a-e297-72183e6187e4"
      },
      "outputs": [
        {
          "output_type": "stream",
          "name": "stdout",
          "text": [
            "Logistic: ROC AUC=0.96\n"
          ]
        }
      ],
      "source": [
        "print('Logistic: ROC AUC=%.2f' % (rf_auc))"
      ],
      "id": "IdEhRJ2yj1wx"
    },
    {
      "cell_type": "code",
      "execution_count": null,
      "metadata": {
        "id": "1CLGZI_Gj1wx"
      },
      "outputs": [],
      "source": [
        "rf_fpr, rf_tpr, _ = roc_curve(y_test, rf_proba)"
      ],
      "id": "1CLGZI_Gj1wx"
    },
    {
      "cell_type": "code",
      "execution_count": null,
      "metadata": {
        "colab": {
          "base_uri": "https://localhost:8080/",
          "height": 301
        },
        "id": "QKMBUENSj1wy",
        "outputId": "0a3eb462-17aa-4b24-89b5-aae9451c1b54"
      },
      "outputs": [
        {
          "output_type": "display_data",
          "data": {
            "text/plain": [
              "<Figure size 432x288 with 1 Axes>"
            ],
            "image/png": "[encoded data removed]"
          },
          "metadata": {}
        }
      ],
      "source": [
        "plt.plot(rf_fpr, rf_tpr, marker='.', label=\"AUC=\"+str(rf_auc))\n",
        "plt.ylabel('True Positive Rate')\n",
        "plt.xlabel('False Positive Rate')\n",
        "plt.title(\"ROC Curves - Random Forest\")\n",
        "plt.legend()\n",
        "plt.show()\n"
      ],
      "id": "QKMBUENSj1wy"
    },
    {
      "cell_type": "markdown",
      "metadata": {
        "id": "9DXnfs2eGyb_"
      },
      "source": [
        "#Multinomial Naive Bayes"
      ],
      "id": "9DXnfs2eGyb_"
    },
    {
      "cell_type": "code",
      "execution_count": null,
      "metadata": {
        "id": "8NAoNoVn8nHM"
      },
      "outputs": [],
      "source": [
        "#training the model\n",
        "mnb=MultinomialNB(alpha = 1)"
      ],
      "id": "8NAoNoVn8nHM"
    },
    {
      "cell_type": "code",
      "execution_count": null,
      "metadata": {
        "colab": {
          "base_uri": "https://localhost:8080/"
        },
        "id": "KM1nNP0z8nJa",
        "outputId": "4de6a572-4ff4-44fe-e968-c12b189a2c88"
      },
      "outputs": [
        {
          "output_type": "stream",
          "name": "stdout",
          "text": [
            "Multinomial Naive Bayes took:  0.182570219039917 seconds\n"
          ]
        }
      ],
      "source": [
        "start = time.time()\n",
        "\n",
        "mnb.fit(the_X,the_y)\n",
        "mnb_tfidf_predict=mnb.predict(tv_test_reviews)\n",
        "\n",
        "end = time.time()\n",
        "print('Multinomial Naive Bayes took: ', end - start, \"seconds\")"
      ],
      "id": "KM1nNP0z8nJa"
    },
    {
      "cell_type": "markdown",
      "metadata": {
        "id": "GYD3YaflOuTU"
      },
      "source": [
        "### Pickle Model"
      ],
      "id": "GYD3YaflOuTU"
    },
    {
      "cell_type": "code",
      "execution_count": null,
      "metadata": {
        "id": "BDCBDtOdOuTU"
      },
      "outputs": [],
      "source": [
        "#pickle.dump(mnb, open('multinomialNB.pkl', 'wb'))"
      ],
      "id": "BDCBDtOdOuTU"
    },
    {
      "cell_type": "markdown",
      "metadata": {
        "id": "y9K1nnEZOuTU"
      },
      "source": [
        "### Load Pickled Model"
      ],
      "id": "y9K1nnEZOuTU"
    },
    {
      "cell_type": "code",
      "execution_count": null,
      "metadata": {
        "id": "FOIDSSf8OuTU"
      },
      "outputs": [],
      "source": [
        "#pickled_model_mnb = pickle.load(open('multinomialNB.pkl', 'rb'))\n",
        "#mnb_tfidf_predict = pickled_model_mnb.predict(X_te)"
      ],
      "id": "FOIDSSf8OuTU"
    },
    {
      "cell_type": "code",
      "execution_count": null,
      "metadata": {
        "id": "-UlhGyFQOuTV"
      },
      "outputs": [],
      "source": [
        "#print (\"AUC score :\", np.round(roc_auc_score(y_te, mnb_tfidf_predict),2))\n",
        "#print(\"Accuracy:\",round(metrics.accuracy_score(y_te, mnb_tfidf_predict),2))"
      ],
      "id": "-UlhGyFQOuTV"
    },
    {
      "cell_type": "code",
      "execution_count": null,
      "metadata": {
        "colab": {
          "base_uri": "https://localhost:8080/"
        },
        "id": "9JYWZLk64IE6",
        "outputId": "0abf7cf0-a7fa-40bf-deac-8d383020e902"
      },
      "outputs": [
        {
          "output_type": "stream",
          "name": "stdout",
          "text": [
            "mnb_tfidf_score : 0.8884228187919463\n"
          ]
        }
      ],
      "source": [
        "#Accuracy score for tfidf features\n",
        "mnb_tfidf_score=accuracy_score(y_te,mnb_tfidf_predict)\n",
        "print(\"mnb_tfidf_score :\",mnb_tfidf_score)"
      ],
      "id": "9JYWZLk64IE6"
    },
    {
      "cell_type": "code",
      "execution_count": null,
      "metadata": {
        "colab": {
          "base_uri": "https://localhost:8080/"
        },
        "id": "PaBuysjfVOef",
        "outputId": "3c772cf9-5bcb-4f6c-ae09-f7132e264bde"
      },
      "outputs": [
        {
          "output_type": "stream",
          "name": "stdout",
          "text": [
            "Recall :0.54 \n",
            "F1_Score: 0.30 \n",
            "Accuracy: 0.89\n"
          ]
        }
      ],
      "source": [
        "#Accuracy score for tfidf features\n",
        "mnb_tfidf_score=accuracy_score(y_te,mnb_tfidf_predict)\n",
        "mnb_tfidf_recall  = metrics.recall_score(y_te, mnb_tfidf_predict)\n",
        "mnb_tfidf_f1_score = metrics.f1_score(y_te,mnb_tfidf_predict)\n",
        "\n",
        "\n",
        "print (\"Recall :%.2f \"% mnb_tfidf_recall)\n",
        "print(\"F1_Score: %.2f \"% mnb_tfidf_f1_score)\n",
        "print(\"Accuracy:\",round(metrics.accuracy_score(y_te, mnb_tfidf_predict),2))"
      ],
      "id": "PaBuysjfVOef"
    },
    {
      "cell_type": "markdown",
      "metadata": {
        "id": "dCBjebPX05MH"
      },
      "source": [
        "### Confusion Matrix"
      ],
      "id": "dCBjebPX05MH"
    },
    {
      "cell_type": "code",
      "execution_count": null,
      "metadata": {
        "colab": {
          "base_uri": "https://localhost:8080/"
        },
        "id": "msvrb3Rh05MH",
        "outputId": "ecfef6e8-962d-4d13-813d-c1af1d2feb6c"
      },
      "outputs": [
        {
          "output_type": "stream",
          "name": "stdout",
          "text": [
            "[[3091  325]\n",
            " [  74   86]]\n"
          ]
        }
      ],
      "source": [
        "#Generate the confusion matrix\n",
        "mnb_tfidf_cf_matrix = confusion_matrix(y_te, mnb_tfidf_predict)\n",
        "\n",
        "print(mnb_tfidf_cf_matrix)"
      ],
      "id": "msvrb3Rh05MH"
    },
    {
      "cell_type": "code",
      "execution_count": null,
      "metadata": {
        "colab": {
          "base_uri": "https://localhost:8080/",
          "height": 301
        },
        "id": "oJa0Z27s05MH",
        "outputId": "88547e95-e928-4132-92be-deccce10a021"
      },
      "outputs": [
        {
          "output_type": "display_data",
          "data": {
            "text/plain": [
              "<Figure size 432x288 with 2 Axes>"
            ],
            "image/png": "[encoded data removed]"
          },
          "metadata": {}
        }
      ],
      "source": [
        "ConfusionMatrixDisplay.from_predictions(y_te, mnb_tfidf_predict)\n",
        "plt.title('Confusion Matrix for Naive Bayes')\n",
        "plt.show()"
      ],
      "id": "oJa0Z27s05MH"
    },
    {
      "cell_type": "markdown",
      "metadata": {
        "id": "SwJRcFBb05MI"
      },
      "source": [
        "### ROC Using Probability"
      ],
      "id": "SwJRcFBb05MI"
    },
    {
      "cell_type": "code",
      "execution_count": null,
      "metadata": {
        "id": "4KjG9Jbh05MI"
      },
      "outputs": [],
      "source": [
        "mnb_tfidf_proba = mnb.predict_proba(tv_test_reviews)"
      ],
      "id": "4KjG9Jbh05MI"
    },
    {
      "cell_type": "code",
      "execution_count": null,
      "metadata": {
        "colab": {
          "base_uri": "https://localhost:8080/",
          "height": 322
        },
        "id": "Uu7P3d-A05MI",
        "outputId": "4cf07400-4c6f-4ecb-ad9f-e70462967067"
      },
      "outputs": [
        {
          "output_type": "execute_result",
          "data": {
            "text/plain": [
              "Text(0.5, 1.0, 'ROC Curves - Multinomial Naive Bayes')"
            ]
          },
          "metadata": {},
          "execution_count": 118
        },
        {
          "output_type": "display_data",
          "data": {
            "text/plain": [
              "<Figure size 432x288 with 1 Axes>"
            ],
            "image/png": "[encoded data removed]"
          },
          "metadata": {}
        }
      ],
      "source": [
        "plot = skplt.metrics.plot_roc(y_te, mnb_tfidf_proba)\n",
        "plt.title(\"ROC Curves - Multinomial Naive Bayes\")"
      ],
      "id": "Uu7P3d-A05MI"
    },
    {
      "cell_type": "code",
      "execution_count": null,
      "metadata": {
        "id": "UwDkFpmI05MI"
      },
      "outputs": [],
      "source": [
        "mnb_tfidf_proba = mnb_tfidf_proba[:, 1]"
      ],
      "id": "UwDkFpmI05MI"
    },
    {
      "cell_type": "code",
      "execution_count": null,
      "metadata": {
        "id": "t8Fe0DmO05MI"
      },
      "outputs": [],
      "source": [
        "mnb_tfidf_auc = roc_auc_score(y_te, mnb_tfidf_proba)"
      ],
      "id": "t8Fe0DmO05MI"
    },
    {
      "cell_type": "code",
      "execution_count": null,
      "metadata": {
        "colab": {
          "base_uri": "https://localhost:8080/"
        },
        "id": "E7Yt7Em105MI",
        "outputId": "b7e69de0-39d4-494c-e02d-817f715d76b3"
      },
      "outputs": [
        {
          "output_type": "stream",
          "name": "stdout",
          "text": [
            "Naive Bayes: ROC AUC=0.87\n"
          ]
        }
      ],
      "source": [
        "print('Naive Bayes: ROC AUC=%.2f' % (mnb_tfidf_auc))"
      ],
      "id": "E7Yt7Em105MI"
    },
    {
      "cell_type": "code",
      "execution_count": null,
      "metadata": {
        "id": "CYLD7bx705MI"
      },
      "outputs": [],
      "source": [
        "mnb_tfidf_fpr, mnb_tfidf_tpr, _ = roc_curve(y_te, mnb_tfidf_proba)"
      ],
      "id": "CYLD7bx705MI"
    },
    {
      "cell_type": "code",
      "execution_count": null,
      "metadata": {
        "colab": {
          "base_uri": "https://localhost:8080/",
          "height": 285
        },
        "id": "cVPdhxDt05MJ",
        "outputId": "a3555e56-6e2b-484b-8e7d-60f2be5ab8f3"
      },
      "outputs": [
        {
          "output_type": "display_data",
          "data": {
            "text/plain": [
              "<Figure size 432x288 with 1 Axes>"
            ],
            "image/png": "[encoded data removed]"
          },
          "metadata": {}
        }
      ],
      "source": [
        "plt.plot(mnb_tfidf_fpr, mnb_tfidf_tpr, marker='.', label=\"AUC=\"+str(mnb_tfidf_auc))\n",
        "plt.ylabel('True Positive Rate')\n",
        "plt.xlabel('False Positive Rate')\n",
        "plt.legend()\n",
        "plt.show()\n"
      ],
      "id": "cVPdhxDt05MJ"
    },
    {
      "cell_type": "markdown",
      "metadata": {
        "id": "4ZDGFIbNmE4l"
      },
      "source": [
        "## SVM"
      ],
      "id": "4ZDGFIbNmE4l"
    },
    {
      "cell_type": "code",
      "execution_count": null,
      "metadata": {
        "colab": {
          "base_uri": "https://localhost:8080/"
        },
        "id": "H57wwz2r-t43",
        "outputId": "198404ed-999e-49d9-a22e-9ad3e18a90dc"
      },
      "outputs": [
        {
          "output_type": "stream",
          "name": "stdout",
          "text": [
            "SVM took:  360.6224057674408 seconds\n"
          ]
        }
      ],
      "source": [
        "start = time.time()\n",
        "\n",
        "ss = svm.SVC(kernel='poly', degree=8.7, probability=True)\n",
        "ss.fit(X_train_bal, y_train_bal)\n",
        "svm_pred = ss.predict(X_test)\n",
        "svm_recall  = metrics.recall_score(y_test, svm_pred)\n",
        "svm_f1_score = metrics.f1_score(y_test, svm_pred)\n",
        "\n",
        "end = time.time()\n",
        "print('SVM took: ', end - start, \"seconds\")"
      ],
      "id": "H57wwz2r-t43"
    },
    {
      "cell_type": "markdown",
      "metadata": {
        "id": "56IqAnFYPYkR"
      },
      "source": [
        "### Pickle Model"
      ],
      "id": "56IqAnFYPYkR"
    },
    {
      "cell_type": "code",
      "execution_count": null,
      "metadata": {
        "id": "8aG_ktWwPYkR"
      },
      "outputs": [],
      "source": [
        "#pickle.dump(ss, open('SVM.pkl', 'wb'))"
      ],
      "id": "8aG_ktWwPYkR"
    },
    {
      "cell_type": "markdown",
      "metadata": {
        "id": "5RX8Kg44PYkS"
      },
      "source": [
        "### Load Pickled Model"
      ],
      "id": "5RX8Kg44PYkS"
    },
    {
      "cell_type": "code",
      "execution_count": null,
      "metadata": {
        "id": "eekeqQxVPYkS"
      },
      "outputs": [],
      "source": [
        "#pickled_model_svm = pickle.load(open('SVM.pkl', 'rb'))\n",
        "#svm_pred = pickled_model_svm.predict(X_test)"
      ],
      "id": "eekeqQxVPYkS"
    },
    {
      "cell_type": "code",
      "execution_count": null,
      "metadata": {
        "id": "cH7DcyWKPYkS"
      },
      "outputs": [],
      "source": [
        "#print (\"AUC score :\", np.round(roc_auc_score(y_test, svm_pred),2))\n",
        "#print(\"Accuracy:\",round(metrics.accuracy_score(y_test, svm_pred),2))"
      ],
      "id": "cH7DcyWKPYkS"
    },
    {
      "cell_type": "code",
      "execution_count": null,
      "metadata": {
        "colab": {
          "base_uri": "https://localhost:8080/"
        },
        "id": "wZeOOVekm7y5",
        "outputId": "dc284195-403d-4383-bfcc-eb0118524f58"
      },
      "outputs": [
        {
          "output_type": "stream",
          "name": "stdout",
          "text": [
            "Recall with SVM:0.81 \n",
            "F1_Score with SVM: 0.43 \n",
            "Accuracy with SVM: 0.9\n"
          ]
        }
      ],
      "source": [
        "print (\"Recall with SVM:%.2f \"% svm_recall)\n",
        "print(\"F1_Score with SVM: %.2f \"% svm_f1_score)\n",
        "print(\"Accuracy with SVM:\",round(metrics.accuracy_score(y_test, svm_pred),2))"
      ],
      "id": "wZeOOVekm7y5"
    },
    {
      "cell_type": "markdown",
      "metadata": {
        "id": "4KviJC3dAqmz"
      },
      "source": [
        "### Confusion Matrix"
      ],
      "id": "4KviJC3dAqmz"
    },
    {
      "cell_type": "code",
      "execution_count": null,
      "metadata": {
        "colab": {
          "base_uri": "https://localhost:8080/"
        },
        "id": "eGrZHP63AyTM",
        "outputId": "bbb440dc-535c-45dd-9f37-712f573b9a57"
      },
      "outputs": [
        {
          "output_type": "stream",
          "name": "stdout",
          "text": [
            "[[3102  314]\n",
            " [  31  129]]\n"
          ]
        }
      ],
      "source": [
        "svm_cf_matrix = confusion_matrix(y_test, svm_pred)\n",
        "\n",
        "print(svm_cf_matrix)"
      ],
      "id": "eGrZHP63AyTM"
    },
    {
      "cell_type": "code",
      "execution_count": null,
      "metadata": {
        "colab": {
          "base_uri": "https://localhost:8080/",
          "height": 301
        },
        "id": "UHPeCimlA05O",
        "outputId": "bde472ca-79a5-4091-d97f-628e8ea2a68e"
      },
      "outputs": [
        {
          "output_type": "display_data",
          "data": {
            "text/plain": [
              "<Figure size 432x288 with 2 Axes>"
            ],
            "image/png": "[encoded data removed]"
          },
          "metadata": {}
        }
      ],
      "source": [
        "ConfusionMatrixDisplay.from_predictions(y_test, svm_pred)\n",
        "plt.title('Confusion Matrix for SVM')\n",
        "plt.show()"
      ],
      "id": "UHPeCimlA05O"
    },
    {
      "cell_type": "markdown",
      "metadata": {
        "id": "Ohre6Ly2A1PL"
      },
      "source": [
        "### ROC Using Probability"
      ],
      "id": "Ohre6Ly2A1PL"
    },
    {
      "cell_type": "code",
      "execution_count": null,
      "metadata": {
        "colab": {
          "base_uri": "https://localhost:8080/"
        },
        "id": "tShPvpxEm0wL",
        "outputId": "a3d6220c-0e69-4856-a2aa-e77a226b8531"
      },
      "outputs": [
        {
          "output_type": "stream",
          "name": "stdout",
          "text": [
            "SVM: ROC AUC=0.92\n"
          ]
        }
      ],
      "source": [
        "svm_proba = ss.predict_proba(X_test)\n",
        "svm_proba = svm_proba[:, 1]\n",
        "svm_auc = roc_auc_score(y_test, svm_proba)\n",
        "print('SVM: ROC AUC=%.2f' % (svm_auc))"
      ],
      "id": "tShPvpxEm0wL"
    },
    {
      "cell_type": "code",
      "execution_count": null,
      "metadata": {
        "colab": {
          "base_uri": "https://localhost:8080/",
          "height": 285
        },
        "id": "mb-hqIstnjvN",
        "outputId": "38198764-0920-4bf6-fca3-3a0d3c04bc1f"
      },
      "outputs": [
        {
          "output_type": "display_data",
          "data": {
            "text/plain": [
              "<Figure size 432x288 with 1 Axes>"
            ],
            "image/png": "[encoded data removed]"
          },
          "metadata": {}
        }
      ],
      "source": [
        "svm_fprs, svm_tprs, _ = roc_curve(y_test, svm_proba)\n",
        "plt.plot(svm_fprs, svm_tprs, marker='.', label=\"AUC=\"+str(svm_auc))\n",
        "plt.ylabel('True Positive Rate')\n",
        "plt.xlabel('False Positive Rate')\n",
        "plt.legend()\n",
        "plt.show()"
      ],
      "id": "mb-hqIstnjvN"
    },
    {
      "cell_type": "markdown",
      "metadata": {
        "id": "mCIZynRwObLL"
      },
      "source": [
        "# KNN"
      ],
      "id": "mCIZynRwObLL"
    },
    {
      "cell_type": "code",
      "execution_count": null,
      "metadata": {
        "id": "-CDgSqpIOleA"
      },
      "outputs": [],
      "source": [
        "knn = KNeighborsClassifier(n_neighbors = 3)"
      ],
      "id": "-CDgSqpIOleA"
    },
    {
      "cell_type": "code",
      "execution_count": null,
      "metadata": {
        "colab": {
          "base_uri": "https://localhost:8080/"
        },
        "id": "0Oge64y0OsUn",
        "outputId": "5e5486cc-7733-4210-8a18-6a20d886e2e0"
      },
      "outputs": [
        {
          "output_type": "stream",
          "name": "stdout",
          "text": [
            "KNN took:  3.1542985439300537 seconds\n"
          ]
        }
      ],
      "source": [
        "start = time.time()\n",
        "\n",
        "KNN = knn.fit(X_train_bal, y_train_bal)\n",
        "knn_pred = KNN.predict(X_test)\n",
        "\n",
        "end = time.time()\n",
        "print('KNN took: ', end - start, \"seconds\")"
      ],
      "id": "0Oge64y0OsUn"
    },
    {
      "cell_type": "markdown",
      "metadata": {
        "id": "lxSxJ9BKP-f6"
      },
      "source": [
        "### Pickle Model"
      ],
      "id": "lxSxJ9BKP-f6"
    },
    {
      "cell_type": "code",
      "execution_count": null,
      "metadata": {
        "id": "Y4RUk406P-f6"
      },
      "outputs": [],
      "source": [
        "#pickle.dump(knn, open('knn.pkl', 'wb'))"
      ],
      "id": "Y4RUk406P-f6"
    },
    {
      "cell_type": "markdown",
      "metadata": {
        "id": "9hMAdSzcP-f6"
      },
      "source": [
        "### Load Pickled Model"
      ],
      "id": "9hMAdSzcP-f6"
    },
    {
      "cell_type": "code",
      "execution_count": null,
      "metadata": {
        "id": "QrHIPkLBP-f7"
      },
      "outputs": [],
      "source": [
        "#pickled_model_knn = pickle.load(open('knn.pkl', 'rb'))\n",
        "#knn_pred = pickled_model_knn.predict(X_test)"
      ],
      "id": "QrHIPkLBP-f7"
    },
    {
      "cell_type": "code",
      "execution_count": null,
      "metadata": {
        "id": "Rx7q71PxP-f7"
      },
      "outputs": [],
      "source": [
        "#print (\"AUC score :\", np.round(roc_auc_score(y_test, knn_pred),2))\n",
        "#print(\"Accuracy:\",round(metrics.accuracy_score(y_test, knn_pred),2))"
      ],
      "id": "Rx7q71PxP-f7"
    },
    {
      "cell_type": "code",
      "execution_count": null,
      "metadata": {
        "colab": {
          "base_uri": "https://localhost:8080/"
        },
        "id": "3JVRDg_VO1sN",
        "outputId": "4e654a81-1cef-4a48-977b-38c9a3c64a7c"
      },
      "outputs": [
        {
          "output_type": "stream",
          "name": "stdout",
          "text": [
            "Recall with kNN:0.78 \n",
            "F1_Score with kNN: 0.53 \n",
            "Accuracy with kNN: 0.94\n"
          ]
        }
      ],
      "source": [
        "\n",
        "knn_recall  = metrics.recall_score(y_test, knn_pred)\n",
        "knn_f1_score = metrics.f1_score(y_test,knn_pred)\n",
        "\n",
        "print (\"Recall with kNN:%.2f \"% knn_recall)\n",
        "print(\"F1_Score with kNN: %.2f \"% knn_f1_score)\n",
        "print(\"Accuracy with kNN:\",round(metrics.accuracy_score(y_test, knn_pred),2))"
      ],
      "id": "3JVRDg_VO1sN"
    },
    {
      "cell_type": "markdown",
      "metadata": {
        "id": "Z-4PVid42XrQ"
      },
      "source": [
        "### Confusion Matrix for kNN"
      ],
      "id": "Z-4PVid42XrQ"
    },
    {
      "cell_type": "code",
      "execution_count": null,
      "metadata": {
        "colab": {
          "base_uri": "https://localhost:8080/"
        },
        "id": "BMXuqkXgn2rW",
        "outputId": "aec387dd-ae33-49c1-ffe8-704657954fcd"
      },
      "outputs": [
        {
          "output_type": "stream",
          "name": "stdout",
          "text": [
            "[[3226  190]\n",
            " [  35  125]]\n"
          ]
        }
      ],
      "source": [
        "#Generate the confusion matrix\n",
        "knn_cf_matrix = confusion_matrix(y_test, knn_pred)\n",
        "\n",
        "print(knn_cf_matrix)"
      ],
      "id": "BMXuqkXgn2rW"
    },
    {
      "cell_type": "code",
      "execution_count": null,
      "metadata": {
        "colab": {
          "base_uri": "https://localhost:8080/",
          "height": 301
        },
        "id": "ui3XqUiWn4dU",
        "outputId": "dd8acd1d-d983-4b34-d463-13fc4b3cee78"
      },
      "outputs": [
        {
          "output_type": "display_data",
          "data": {
            "text/plain": [
              "<Figure size 432x288 with 2 Axes>"
            ],
            "image/png": "[encoded data removed]"
          },
          "metadata": {}
        }
      ],
      "source": [
        "ConfusionMatrixDisplay.from_predictions(y_test, knn_pred)\n",
        "plt.xlabel('Predicted label for kNN')\n",
        "plt.ylabel('True label for kNN')\n",
        "plt.title('Confusion Matrix for kNN')\n",
        "plt.show()"
      ],
      "id": "ui3XqUiWn4dU"
    },
    {
      "cell_type": "markdown",
      "metadata": {
        "id": "tFhUTgyf2cOR"
      },
      "source": [
        "### ROC Under Probbaility"
      ],
      "id": "tFhUTgyf2cOR"
    },
    {
      "cell_type": "code",
      "execution_count": null,
      "metadata": {
        "id": "GV9FR8qqlz9k"
      },
      "outputs": [],
      "source": [
        "knn_proba = KNN.predict_proba(X_test)"
      ],
      "id": "GV9FR8qqlz9k"
    },
    {
      "cell_type": "code",
      "execution_count": null,
      "metadata": {
        "colab": {
          "base_uri": "https://localhost:8080/",
          "height": 322
        },
        "id": "D0pgHbGmmLrX",
        "outputId": "9ee863c3-b644-4f04-c6ed-da03a27ca2e6"
      },
      "outputs": [
        {
          "output_type": "execute_result",
          "data": {
            "text/plain": [
              "Text(0.5, 1.0, 'ROC Curves - kNN')"
            ]
          },
          "metadata": {},
          "execution_count": 142
        },
        {
          "output_type": "display_data",
          "data": {
            "text/plain": [
              "<Figure size 432x288 with 1 Axes>"
            ],
            "image/png": "[encoded data removed]"
          },
          "metadata": {}
        }
      ],
      "source": [
        "plot = skplt.metrics.plot_roc(y_test, knn_proba)\n",
        "plt.title(\"ROC Curves - kNN\")"
      ],
      "id": "D0pgHbGmmLrX"
    },
    {
      "cell_type": "code",
      "execution_count": null,
      "metadata": {
        "id": "p_ojuLQOmNkj"
      },
      "outputs": [],
      "source": [
        "knn_proba = knn_proba[:, 1]"
      ],
      "id": "p_ojuLQOmNkj"
    },
    {
      "cell_type": "code",
      "execution_count": null,
      "metadata": {
        "colab": {
          "base_uri": "https://localhost:8080/"
        },
        "id": "WhhwmPlvmSsG",
        "outputId": "fbd9cdfc-c0a2-49e3-b07a-a13bc62ec4f1"
      },
      "outputs": [
        {
          "output_type": "stream",
          "name": "stdout",
          "text": [
            "kNN: ROC AUC=0.90\n"
          ]
        }
      ],
      "source": [
        "knn_auc = roc_auc_score(y_test, knn_proba)\n",
        "\n",
        "print('kNN: ROC AUC=%.2f' % (knn_auc))"
      ],
      "id": "WhhwmPlvmSsG"
    },
    {
      "cell_type": "code",
      "execution_count": null,
      "metadata": {
        "colab": {
          "base_uri": "https://localhost:8080/",
          "height": 285
        },
        "id": "doS1VtynmUZj",
        "outputId": "3268e567-bd1d-42f6-9af9-4866279933d7"
      },
      "outputs": [
        {
          "output_type": "display_data",
          "data": {
            "text/plain": [
              "<Figure size 432x288 with 1 Axes>"
            ],
            "image/png": "[encoded data removed]"
          },
          "metadata": {}
        }
      ],
      "source": [
        "knn_fprs, knn_tprs, _ = roc_curve(y_test, knn_proba)\n",
        "\n",
        "plt.plot(knn_fprs, knn_tprs, marker='.', label=\"AUC=\"+str(knn_auc))\n",
        "plt.ylabel('True Positive Rate')\n",
        "plt.xlabel('False Positive Rate')\n",
        "plt.legend()\n",
        "plt.show()"
      ],
      "id": "doS1VtynmUZj"
    },
    {
      "cell_type": "markdown",
      "metadata": {
        "id": "wwtSSjyRzHmU"
      },
      "source": [
        "# SGD Classifier"
      ],
      "id": "wwtSSjyRzHmU"
    },
    {
      "cell_type": "code",
      "execution_count": null,
      "metadata": {
        "id": "7707e_-HzVbi"
      },
      "outputs": [],
      "source": [
        "sgd = SGDClassifier(loss=\"hinge\", penalty=\"l2\", max_iter=1000)"
      ],
      "id": "7707e_-HzVbi"
    },
    {
      "cell_type": "code",
      "execution_count": null,
      "metadata": {
        "colab": {
          "base_uri": "https://localhost:8080/"
        },
        "id": "76I6Kzm2-zNZ",
        "outputId": "ab258bd8-11a3-4fc5-c3a7-f9a86c42c223"
      },
      "outputs": [
        {
          "output_type": "stream",
          "name": "stdout",
          "text": [
            "SGD took:  0.7950758934020996 seconds\n"
          ]
        }
      ],
      "source": [
        "start = time.time()\n",
        "\n",
        "sgd.fit(X_train_bal, y_train_bal)\n",
        "calibrator = CalibratedClassifierCV(sgd, cv='prefit')\n",
        "new_sgd = calibrator.fit(X_train_bal, y_train_bal)\n",
        "\n",
        "sgd_pred = new_sgd.predict(X_test)\n",
        "\n",
        "end = time.time()\n",
        "print('SGD took: ', end - start, \"seconds\")"
      ],
      "id": "76I6Kzm2-zNZ"
    },
    {
      "cell_type": "markdown",
      "metadata": {
        "id": "TlzxVqInQRuY"
      },
      "source": [
        "### Pickle Model"
      ],
      "id": "TlzxVqInQRuY"
    },
    {
      "cell_type": "code",
      "execution_count": null,
      "metadata": {
        "id": "zQPM-7OdQRuY"
      },
      "outputs": [],
      "source": [
        "#pickle.dump(sgd, open('sgd.pkl', 'wb'))"
      ],
      "id": "zQPM-7OdQRuY"
    },
    {
      "cell_type": "markdown",
      "metadata": {
        "id": "HrXprSV6QRuY"
      },
      "source": [
        "### Load Pickled Model"
      ],
      "id": "HrXprSV6QRuY"
    },
    {
      "cell_type": "code",
      "execution_count": null,
      "metadata": {
        "id": "kxSCMtNtQRuY"
      },
      "outputs": [],
      "source": [
        "#pickled_model_sgd = pickle.load(open('sgd.pkl', 'rb'))\n",
        "#calibrator = CalibratedClassifierCV(pickled_model_sgd, cv='prefit')\n",
        "#new_sgd = calibrator.fit(X_train_bal, y_train_bal)\n",
        "#sgd_pred = new_sgd.predict(X_test)"
      ],
      "id": "kxSCMtNtQRuY"
    },
    {
      "cell_type": "code",
      "execution_count": null,
      "metadata": {
        "id": "MSdprRyHQRuY"
      },
      "outputs": [],
      "source": [
        "#print (\"AUC score :\", np.round(roc_auc_score(y_test, sgd_pred),2))\n",
        "#print(\"Accuracy:\",round(metrics.accuracy_score(y_test, sgd_pred),2))"
      ],
      "id": "MSdprRyHQRuY"
    },
    {
      "cell_type": "code",
      "execution_count": null,
      "metadata": {
        "colab": {
          "base_uri": "https://localhost:8080/"
        },
        "id": "z4_JQS64z7zc",
        "outputId": "bd47b0c7-b3cc-4a59-95c5-1a822bebe143"
      },
      "outputs": [
        {
          "output_type": "stream",
          "name": "stdout",
          "text": [
            "Recall :0.80 \n",
            "F1_Score: 0.33 \n",
            "AUC score : 0.83\n",
            "Accuracy: 0.85\n"
          ]
        }
      ],
      "source": [
        "clf_recall  = metrics.recall_score(y_test, sgd_pred)\n",
        "clf_f1_score = metrics.f1_score(y_test,sgd_pred)\n",
        "\n",
        "\n",
        "print (\"Recall :%.2f \"% clf_recall)\n",
        "print(\"F1_Score: %.2f \"% clf_f1_score)\n",
        "print (\"AUC score :\", np.round(roc_auc_score(y_test, sgd_pred),2))\n",
        "print(\"Accuracy:\",round(metrics.accuracy_score(y_test, sgd_pred),2))"
      ],
      "id": "z4_JQS64z7zc"
    },
    {
      "cell_type": "code",
      "execution_count": null,
      "metadata": {
        "colab": {
          "base_uri": "https://localhost:8080/"
        },
        "id": "JhgE1LfR2yOJ",
        "outputId": "7b9801bf-0424-416a-f1eb-8f6c52972bb5"
      },
      "outputs": [
        {
          "output_type": "stream",
          "name": "stdout",
          "text": [
            "[[2927  489]\n",
            " [  32  128]]\n"
          ]
        }
      ],
      "source": [
        "#Generate the confusion matrix\n",
        "clf_cf_matrix = confusion_matrix(y_test, sgd_pred)\n",
        "\n",
        "print(clf_cf_matrix)"
      ],
      "id": "JhgE1LfR2yOJ"
    },
    {
      "cell_type": "code",
      "execution_count": null,
      "metadata": {
        "colab": {
          "base_uri": "https://localhost:8080/",
          "height": 301
        },
        "id": "XvKLv3uX3CfG",
        "outputId": "582115d6-116e-4d15-97de-5fad9c5a7c19"
      },
      "outputs": [
        {
          "output_type": "display_data",
          "data": {
            "text/plain": [
              "<Figure size 432x288 with 2 Axes>"
            ],
            "image/png": "[encoded data removed]"
          },
          "metadata": {}
        }
      ],
      "source": [
        "ConfusionMatrixDisplay.from_predictions(y_test, sgd_pred)\n",
        "plt.xlabel('Predicted label for SGD')\n",
        "plt.ylabel('True label for SGD')\n",
        "plt.title('Confusion Matrix for SGD')\n",
        "plt.show()"
      ],
      "id": "XvKLv3uX3CfG"
    },
    {
      "cell_type": "code",
      "execution_count": null,
      "metadata": {
        "colab": {
          "base_uri": "https://localhost:8080/"
        },
        "id": "4x-bTxHDnqHy",
        "outputId": "70c671c1-8a6c-4401-8b3f-9fbf9eae9e7e"
      },
      "outputs": [
        {
          "output_type": "stream",
          "name": "stdout",
          "text": [
            "SGD: ROC AUC=0.91\n"
          ]
        }
      ],
      "source": [
        "sgd_proba = new_sgd.predict_proba(X_test)\n",
        "sgd_proba = sgd_proba[:, 1]\n",
        "sgd_auc = roc_auc_score(y_test, sgd_proba)\n",
        "print('SGD: ROC AUC=%.2f' % (sgd_auc))"
      ],
      "id": "4x-bTxHDnqHy"
    },
    {
      "cell_type": "code",
      "execution_count": null,
      "metadata": {
        "colab": {
          "base_uri": "https://localhost:8080/",
          "height": 285
        },
        "id": "8DFK9Mownu7V",
        "outputId": "f3f7ca4a-bc2e-4b51-c0e6-c467e20ef612"
      },
      "outputs": [
        {
          "output_type": "display_data",
          "data": {
            "text/plain": [
              "<Figure size 432x288 with 1 Axes>"
            ],
            "image/png": "[encoded data removed]"
          },
          "metadata": {}
        }
      ],
      "source": [
        "sgd_fprs,sgd_tprs, _ = roc_curve(y_test, sgd_proba)\n",
        "plt.plot(sgd_fprs, sgd_tprs, marker='.', label=\"AUC=\"+str(sgd_auc))\n",
        "plt.ylabel('True Positive Rate')\n",
        "plt.xlabel('False Positive Rate')\n",
        "plt.legend()\n",
        "plt.show()"
      ],
      "id": "8DFK9Mownu7V"
    },
    {
      "cell_type": "markdown",
      "metadata": {
        "id": "1GISYpR50AuG"
      },
      "source": [
        "## SGD with Log Loss"
      ],
      "id": "1GISYpR50AuG"
    },
    {
      "cell_type": "code",
      "execution_count": null,
      "metadata": {
        "id": "lBW8CfkEz8h_"
      },
      "outputs": [],
      "source": [
        "clf = SGDClassifier(loss=\"log\", penalty=\"l2\", max_iter=1000)"
      ],
      "id": "lBW8CfkEz8h_"
    },
    {
      "cell_type": "code",
      "execution_count": null,
      "metadata": {
        "colab": {
          "base_uri": "https://localhost:8080/"
        },
        "id": "yqozg4lb-3Fh",
        "outputId": "1f270598-8b21-4a71-bb26-9d47637fc840"
      },
      "outputs": [
        {
          "output_type": "stream",
          "name": "stdout",
          "text": [
            "CPU times: user 698 ms, sys: 12 ms, total: 710 ms\n",
            "Wall time: 715 ms\n"
          ]
        }
      ],
      "source": [
        "%%time\n",
        "clf.fit(new_X, new_y)\n",
        "y_pred = clf.predict(X_test)"
      ],
      "id": "yqozg4lb-3Fh"
    },
    {
      "cell_type": "code",
      "execution_count": null,
      "metadata": {
        "colab": {
          "base_uri": "https://localhost:8080/"
        },
        "id": "8kaRob2E-4IE",
        "outputId": "11bb1b2d-1f79-4029-94ec-5cbe989c94b7"
      },
      "outputs": [
        {
          "output_type": "stream",
          "name": "stdout",
          "text": [
            "Accuracy: 0.85\n"
          ]
        }
      ],
      "source": [
        "print(\"Accuracy:\",round(metrics.accuracy_score(y_test, y_pred),2))"
      ],
      "id": "8kaRob2E-4IE"
    },
    {
      "cell_type": "markdown",
      "metadata": {
        "id": "6w1rIMvU0P7O"
      },
      "source": [
        "### With L1 penalty"
      ],
      "id": "6w1rIMvU0P7O"
    },
    {
      "cell_type": "code",
      "execution_count": null,
      "metadata": {
        "id": "TV2URKB_0Jo0"
      },
      "outputs": [],
      "source": [
        "clf = SGDClassifier(loss=\"hinge\", penalty=\"l1\", max_iter=1000)"
      ],
      "id": "TV2URKB_0Jo0"
    },
    {
      "cell_type": "code",
      "execution_count": null,
      "metadata": {
        "colab": {
          "base_uri": "https://localhost:8080/"
        },
        "id": "jwuUIq-z-7n1",
        "outputId": "9461a2ef-f694-436b-d970-bc91efaabfa9"
      },
      "outputs": [
        {
          "output_type": "stream",
          "name": "stdout",
          "text": [
            "CPU times: user 1.5 s, sys: 41 ms, total: 1.55 s\n",
            "Wall time: 1.52 s\n"
          ]
        }
      ],
      "source": [
        "%%time\n",
        "clf.fit(new_X, new_y)\n",
        "y_pred = clf.predict(X_test)"
      ],
      "id": "jwuUIq-z-7n1"
    },
    {
      "cell_type": "code",
      "execution_count": null,
      "metadata": {
        "colab": {
          "base_uri": "https://localhost:8080/"
        },
        "id": "Tczujao50YVZ",
        "outputId": "c20bb035-782b-4c29-ecb4-5e9b57827ca5"
      },
      "outputs": [
        {
          "output_type": "stream",
          "name": "stdout",
          "text": [
            "Accuracy: 0.89\n"
          ]
        }
      ],
      "source": [
        "print(\"Accuracy:\",round(metrics.accuracy_score(y_test, y_pred),2))"
      ],
      "id": "Tczujao50YVZ"
    },
    {
      "cell_type": "markdown",
      "metadata": {
        "id": "GAFrmZQ8YGkV"
      },
      "source": [
        "### Ensemble Max Voting"
      ],
      "id": "GAFrmZQ8YGkV"
    },
    {
      "cell_type": "code",
      "execution_count": null,
      "metadata": {
        "id": "UrUAPtVbYKBI",
        "colab": {
          "base_uri": "https://localhost:8080/"
        },
        "outputId": "4b854205-106b-490f-89e8-97e3b7460056"
      },
      "outputs": [
        {
          "output_type": "execute_result",
          "data": {
            "text/plain": [
              "0.9711968680089486"
            ]
          },
          "metadata": {},
          "execution_count": 162
        }
      ],
      "source": [
        "best = VotingClassifier(estimators=[('sgd', sgd), ('rf', rfc), ('svm', ss), ('knn', knn)], voting='hard')\n",
        "best.fit(X_train_bal, y_train_bal)\n",
        "best.score(X_test,y_test)"
      ],
      "id": "UrUAPtVbYKBI"
    },
    {
      "cell_type": "markdown",
      "metadata": {
        "id": "4XrcDbsR41Wl"
      },
      "source": [
        "# Result ROC Curve"
      ],
      "id": "4XrcDbsR41Wl"
    },
    {
      "cell_type": "code",
      "execution_count": null,
      "metadata": {
        "id": "yfwkfbJN426r",
        "colab": {
          "base_uri": "https://localhost:8080/",
          "height": 536
        },
        "outputId": "6eb0d9a4-d8df-404d-c881-79c2e80cc745"
      },
      "outputs": [
        {
          "output_type": "execute_result",
          "data": {
            "text/plain": [
              "<matplotlib.legend.Legend at 0x7fa66256dcd0>"
            ]
          },
          "metadata": {},
          "execution_count": 163
        },
        {
          "output_type": "display_data",
          "data": {
            "text/plain": [
              "<Figure size 432x288 with 0 Axes>"
            ]
          },
          "metadata": {}
        },
        {
          "output_type": "display_data",
          "data": {
            "text/plain": [
              "<Figure size 1008x576 with 1 Axes>"
            ],
            "image/png": "[encoded data removed]"
          },
          "metadata": {}
        }
      ],
      "source": [
        "#set up plotting area\n",
        "plt.figure(0).clf()\n",
        "\n",
        "\n",
        "figure(figsize=(14, 8))\n",
        "\n",
        "plt.plot(knn_fprs, knn_tprs, marker='.', label=\"KNN, AUC=\"+str(knn_auc))\n",
        "plt.plot(mnb_tfidf_fpr, mnb_tfidf_tpr, marker='.', label=\"MNB, AUC=\"+str(mnb_tfidf_auc))\n",
        "plt.plot(rf_fpr, rf_tpr, marker='.', label=\"RF, AUC=\"+str(rf_auc))\n",
        "plt.plot(svm_fprs, svm_tprs, marker='.', label=\"SVM, AUC=\"+str(svm_auc))\n",
        "plt.plot(sgd_fprs, sgd_tprs, marker='.', label=\"SGD, AUC=\"+str(sgd_auc))\n",
        "plt.title(\"ROC Curves for each model\")\n",
        "plt.legend()"
      ],
      "id": "yfwkfbJN426r"
    }
  ],
  "metadata": {
    "colab": {
      "provenance": []
    },
    "kernelspec": {
      "display_name": "Python 3",
      "language": "python",
      "name": "python3"
    },
    "language_info": {
      "codemirror_mode": {
        "name": "ipython",
        "version": 3
      },
      "file_extension": ".py",
      "mimetype": "text/x-python",
      "name": "python",
      "nbconvert_exporter": "python",
      "pygments_lexer": "ipython3",
      "version": "3.8.8"
    }
  },
  "nbformat": 4,
  "nbformat_minor": 5
}